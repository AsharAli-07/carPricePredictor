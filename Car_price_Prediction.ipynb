{
  "cells": [
    {
      "cell_type": "markdown",
      "source": [
        "# **Car Price Predictor**\n",
        "\n"
      ],
      "metadata": {
        "id": "nHmwqhzd8f2L"
      }
    },
    {
      "cell_type": "markdown",
      "source": [
        "# **Pre-Processing**\n",
        "Preprocessing is an essential initial step in the data analysis process, and We have conducted it to prepare our dataset for analysis. This phase involves various operations to ensure that the dataset is clean, consistent, and ready for further analysis or modeling."
      ],
      "metadata": {
        "id": "1MlXEqcksO6x"
      }
    },
    {
      "cell_type": "code",
      "execution_count": 1,
      "metadata": {
        "id": "AzmW_05C3kdw"
      },
      "outputs": [],
      "source": [
        "import pandas as pd\n",
        "import numpy as np"
      ]
    },
    {
      "cell_type": "code",
      "execution_count": 2,
      "metadata": {
        "id": "WToQ2Ffu7o51"
      },
      "outputs": [],
      "source": [
        "#Reading csv file of data set\n",
        "df = pd.read_csv('/content/car_dataset.csv')"
      ]
    },
    {
      "cell_type": "code",
      "execution_count": 3,
      "metadata": {
        "colab": {
          "base_uri": "https://localhost:8080/",
          "height": 206
        },
        "id": "TA4nMxYS71c2",
        "outputId": "5f23ef2f-03c8-464e-ce65-7e5b7bb20e8f"
      },
      "outputs": [
        {
          "output_type": "execute_result",
          "data": {
            "text/plain": [
              "  company                                        name fuel_type  kms_driven  \\\n",
              "0      MG               MG HS 2021 for sale in Lahore    Petrol    6,000 km   \n",
              "1  Toyota      Toyota Aygo 2012 for sale in Islamabad    Petrol   68,000 km   \n",
              "2   Honda          Honda City 2015 for sale in Lahore    Petrol  150,000 km   \n",
              "3     KIA        KIA Sorento 2022 for sale in Sialkot    Petrol   18,000 km   \n",
              "4  Toyota  Toyota Corolla 2015 for sale in Rawalpindi    Petrol  110,000 km   \n",
              "\n",
              "   year    price vehicle_engine vehicle_type  \n",
              "0  2021  6525000         1490cc    Automatic  \n",
              "1  2021  1625000         1000cc       Manual  \n",
              "2  2021  2550000         1300cc    Automatic  \n",
              "3  2021  9000000         3500cc    Automatic  \n",
              "4  2021  3350000         1300cc    Automatic  "
            ],
            "text/html": [
              "\n",
              "  <div id=\"df-ab571f8b-4485-429a-818b-f4c99549844d\" class=\"colab-df-container\">\n",
              "    <div>\n",
              "<style scoped>\n",
              "    .dataframe tbody tr th:only-of-type {\n",
              "        vertical-align: middle;\n",
              "    }\n",
              "\n",
              "    .dataframe tbody tr th {\n",
              "        vertical-align: top;\n",
              "    }\n",
              "\n",
              "    .dataframe thead th {\n",
              "        text-align: right;\n",
              "    }\n",
              "</style>\n",
              "<table border=\"1\" class=\"dataframe\">\n",
              "  <thead>\n",
              "    <tr style=\"text-align: right;\">\n",
              "      <th></th>\n",
              "      <th>company</th>\n",
              "      <th>name</th>\n",
              "      <th>fuel_type</th>\n",
              "      <th>kms_driven</th>\n",
              "      <th>year</th>\n",
              "      <th>price</th>\n",
              "      <th>vehicle_engine</th>\n",
              "      <th>vehicle_type</th>\n",
              "    </tr>\n",
              "  </thead>\n",
              "  <tbody>\n",
              "    <tr>\n",
              "      <th>0</th>\n",
              "      <td>MG</td>\n",
              "      <td>MG HS 2021 for sale in Lahore</td>\n",
              "      <td>Petrol</td>\n",
              "      <td>6,000 km</td>\n",
              "      <td>2021</td>\n",
              "      <td>6525000</td>\n",
              "      <td>1490cc</td>\n",
              "      <td>Automatic</td>\n",
              "    </tr>\n",
              "    <tr>\n",
              "      <th>1</th>\n",
              "      <td>Toyota</td>\n",
              "      <td>Toyota Aygo 2012 for sale in Islamabad</td>\n",
              "      <td>Petrol</td>\n",
              "      <td>68,000 km</td>\n",
              "      <td>2021</td>\n",
              "      <td>1625000</td>\n",
              "      <td>1000cc</td>\n",
              "      <td>Manual</td>\n",
              "    </tr>\n",
              "    <tr>\n",
              "      <th>2</th>\n",
              "      <td>Honda</td>\n",
              "      <td>Honda City 2015 for sale in Lahore</td>\n",
              "      <td>Petrol</td>\n",
              "      <td>150,000 km</td>\n",
              "      <td>2021</td>\n",
              "      <td>2550000</td>\n",
              "      <td>1300cc</td>\n",
              "      <td>Automatic</td>\n",
              "    </tr>\n",
              "    <tr>\n",
              "      <th>3</th>\n",
              "      <td>KIA</td>\n",
              "      <td>KIA Sorento 2022 for sale in Sialkot</td>\n",
              "      <td>Petrol</td>\n",
              "      <td>18,000 km</td>\n",
              "      <td>2021</td>\n",
              "      <td>9000000</td>\n",
              "      <td>3500cc</td>\n",
              "      <td>Automatic</td>\n",
              "    </tr>\n",
              "    <tr>\n",
              "      <th>4</th>\n",
              "      <td>Toyota</td>\n",
              "      <td>Toyota Corolla 2015 for sale in Rawalpindi</td>\n",
              "      <td>Petrol</td>\n",
              "      <td>110,000 km</td>\n",
              "      <td>2021</td>\n",
              "      <td>3350000</td>\n",
              "      <td>1300cc</td>\n",
              "      <td>Automatic</td>\n",
              "    </tr>\n",
              "  </tbody>\n",
              "</table>\n",
              "</div>\n",
              "    <div class=\"colab-df-buttons\">\n",
              "\n",
              "  <div class=\"colab-df-container\">\n",
              "    <button class=\"colab-df-convert\" onclick=\"convertToInteractive('df-ab571f8b-4485-429a-818b-f4c99549844d')\"\n",
              "            title=\"Convert this dataframe to an interactive table.\"\n",
              "            style=\"display:none;\">\n",
              "\n",
              "  <svg xmlns=\"http://www.w3.org/2000/svg\" height=\"24px\" viewBox=\"0 -960 960 960\">\n",
              "    <path d=\"M120-120v-720h720v720H120Zm60-500h600v-160H180v160Zm220 220h160v-160H400v160Zm0 220h160v-160H400v160ZM180-400h160v-160H180v160Zm440 0h160v-160H620v160ZM180-180h160v-160H180v160Zm440 0h160v-160H620v160Z\"/>\n",
              "  </svg>\n",
              "    </button>\n",
              "\n",
              "  <style>\n",
              "    .colab-df-container {\n",
              "      display:flex;\n",
              "      gap: 12px;\n",
              "    }\n",
              "\n",
              "    .colab-df-convert {\n",
              "      background-color: #E8F0FE;\n",
              "      border: none;\n",
              "      border-radius: 50%;\n",
              "      cursor: pointer;\n",
              "      display: none;\n",
              "      fill: #1967D2;\n",
              "      height: 32px;\n",
              "      padding: 0 0 0 0;\n",
              "      width: 32px;\n",
              "    }\n",
              "\n",
              "    .colab-df-convert:hover {\n",
              "      background-color: #E2EBFA;\n",
              "      box-shadow: 0px 1px 2px rgba(60, 64, 67, 0.3), 0px 1px 3px 1px rgba(60, 64, 67, 0.15);\n",
              "      fill: #174EA6;\n",
              "    }\n",
              "\n",
              "    .colab-df-buttons div {\n",
              "      margin-bottom: 4px;\n",
              "    }\n",
              "\n",
              "    [theme=dark] .colab-df-convert {\n",
              "      background-color: #3B4455;\n",
              "      fill: #D2E3FC;\n",
              "    }\n",
              "\n",
              "    [theme=dark] .colab-df-convert:hover {\n",
              "      background-color: #434B5C;\n",
              "      box-shadow: 0px 1px 3px 1px rgba(0, 0, 0, 0.15);\n",
              "      filter: drop-shadow(0px 1px 2px rgba(0, 0, 0, 0.3));\n",
              "      fill: #FFFFFF;\n",
              "    }\n",
              "  </style>\n",
              "\n",
              "    <script>\n",
              "      const buttonEl =\n",
              "        document.querySelector('#df-ab571f8b-4485-429a-818b-f4c99549844d button.colab-df-convert');\n",
              "      buttonEl.style.display =\n",
              "        google.colab.kernel.accessAllowed ? 'block' : 'none';\n",
              "\n",
              "      async function convertToInteractive(key) {\n",
              "        const element = document.querySelector('#df-ab571f8b-4485-429a-818b-f4c99549844d');\n",
              "        const dataTable =\n",
              "          await google.colab.kernel.invokeFunction('convertToInteractive',\n",
              "                                                    [key], {});\n",
              "        if (!dataTable) return;\n",
              "\n",
              "        const docLinkHtml = 'Like what you see? Visit the ' +\n",
              "          '<a target=\"_blank\" href=https://colab.research.google.com/notebooks/data_table.ipynb>data table notebook</a>'\n",
              "          + ' to learn more about interactive tables.';\n",
              "        element.innerHTML = '';\n",
              "        dataTable['output_type'] = 'display_data';\n",
              "        await google.colab.output.renderOutput(dataTable, element);\n",
              "        const docLink = document.createElement('div');\n",
              "        docLink.innerHTML = docLinkHtml;\n",
              "        element.appendChild(docLink);\n",
              "      }\n",
              "    </script>\n",
              "  </div>\n",
              "\n",
              "\n",
              "<div id=\"df-7fde2449-3ddd-4faf-90ef-f253e99b1060\">\n",
              "  <button class=\"colab-df-quickchart\" onclick=\"quickchart('df-7fde2449-3ddd-4faf-90ef-f253e99b1060')\"\n",
              "            title=\"Suggest charts.\"\n",
              "            style=\"display:none;\">\n",
              "\n",
              "<svg xmlns=\"http://www.w3.org/2000/svg\" height=\"24px\"viewBox=\"0 0 24 24\"\n",
              "     width=\"24px\">\n",
              "    <g>\n",
              "        <path d=\"M19 3H5c-1.1 0-2 .9-2 2v14c0 1.1.9 2 2 2h14c1.1 0 2-.9 2-2V5c0-1.1-.9-2-2-2zM9 17H7v-7h2v7zm4 0h-2V7h2v10zm4 0h-2v-4h2v4z\"/>\n",
              "    </g>\n",
              "</svg>\n",
              "  </button>\n",
              "\n",
              "<style>\n",
              "  .colab-df-quickchart {\n",
              "      --bg-color: #E8F0FE;\n",
              "      --fill-color: #1967D2;\n",
              "      --hover-bg-color: #E2EBFA;\n",
              "      --hover-fill-color: #174EA6;\n",
              "      --disabled-fill-color: #AAA;\n",
              "      --disabled-bg-color: #DDD;\n",
              "  }\n",
              "\n",
              "  [theme=dark] .colab-df-quickchart {\n",
              "      --bg-color: #3B4455;\n",
              "      --fill-color: #D2E3FC;\n",
              "      --hover-bg-color: #434B5C;\n",
              "      --hover-fill-color: #FFFFFF;\n",
              "      --disabled-bg-color: #3B4455;\n",
              "      --disabled-fill-color: #666;\n",
              "  }\n",
              "\n",
              "  .colab-df-quickchart {\n",
              "    background-color: var(--bg-color);\n",
              "    border: none;\n",
              "    border-radius: 50%;\n",
              "    cursor: pointer;\n",
              "    display: none;\n",
              "    fill: var(--fill-color);\n",
              "    height: 32px;\n",
              "    padding: 0;\n",
              "    width: 32px;\n",
              "  }\n",
              "\n",
              "  .colab-df-quickchart:hover {\n",
              "    background-color: var(--hover-bg-color);\n",
              "    box-shadow: 0 1px 2px rgba(60, 64, 67, 0.3), 0 1px 3px 1px rgba(60, 64, 67, 0.15);\n",
              "    fill: var(--button-hover-fill-color);\n",
              "  }\n",
              "\n",
              "  .colab-df-quickchart-complete:disabled,\n",
              "  .colab-df-quickchart-complete:disabled:hover {\n",
              "    background-color: var(--disabled-bg-color);\n",
              "    fill: var(--disabled-fill-color);\n",
              "    box-shadow: none;\n",
              "  }\n",
              "\n",
              "  .colab-df-spinner {\n",
              "    border: 2px solid var(--fill-color);\n",
              "    border-color: transparent;\n",
              "    border-bottom-color: var(--fill-color);\n",
              "    animation:\n",
              "      spin 1s steps(1) infinite;\n",
              "  }\n",
              "\n",
              "  @keyframes spin {\n",
              "    0% {\n",
              "      border-color: transparent;\n",
              "      border-bottom-color: var(--fill-color);\n",
              "      border-left-color: var(--fill-color);\n",
              "    }\n",
              "    20% {\n",
              "      border-color: transparent;\n",
              "      border-left-color: var(--fill-color);\n",
              "      border-top-color: var(--fill-color);\n",
              "    }\n",
              "    30% {\n",
              "      border-color: transparent;\n",
              "      border-left-color: var(--fill-color);\n",
              "      border-top-color: var(--fill-color);\n",
              "      border-right-color: var(--fill-color);\n",
              "    }\n",
              "    40% {\n",
              "      border-color: transparent;\n",
              "      border-right-color: var(--fill-color);\n",
              "      border-top-color: var(--fill-color);\n",
              "    }\n",
              "    60% {\n",
              "      border-color: transparent;\n",
              "      border-right-color: var(--fill-color);\n",
              "    }\n",
              "    80% {\n",
              "      border-color: transparent;\n",
              "      border-right-color: var(--fill-color);\n",
              "      border-bottom-color: var(--fill-color);\n",
              "    }\n",
              "    90% {\n",
              "      border-color: transparent;\n",
              "      border-bottom-color: var(--fill-color);\n",
              "    }\n",
              "  }\n",
              "</style>\n",
              "\n",
              "  <script>\n",
              "    async function quickchart(key) {\n",
              "      const quickchartButtonEl =\n",
              "        document.querySelector('#' + key + ' button');\n",
              "      quickchartButtonEl.disabled = true;  // To prevent multiple clicks.\n",
              "      quickchartButtonEl.classList.add('colab-df-spinner');\n",
              "      try {\n",
              "        const charts = await google.colab.kernel.invokeFunction(\n",
              "            'suggestCharts', [key], {});\n",
              "      } catch (error) {\n",
              "        console.error('Error during call to suggestCharts:', error);\n",
              "      }\n",
              "      quickchartButtonEl.classList.remove('colab-df-spinner');\n",
              "      quickchartButtonEl.classList.add('colab-df-quickchart-complete');\n",
              "    }\n",
              "    (() => {\n",
              "      let quickchartButtonEl =\n",
              "        document.querySelector('#df-7fde2449-3ddd-4faf-90ef-f253e99b1060 button');\n",
              "      quickchartButtonEl.style.display =\n",
              "        google.colab.kernel.accessAllowed ? 'block' : 'none';\n",
              "    })();\n",
              "  </script>\n",
              "</div>\n",
              "    </div>\n",
              "  </div>\n"
            ]
          },
          "metadata": {},
          "execution_count": 3
        }
      ],
      "source": [
        "df.head()"
      ]
    },
    {
      "cell_type": "code",
      "execution_count": 4,
      "metadata": {
        "colab": {
          "base_uri": "https://localhost:8080/"
        },
        "id": "67S3YKnb8KjK",
        "outputId": "302a46f6-b451-4ddc-b4ca-4133eba0db75"
      },
      "outputs": [
        {
          "output_type": "execute_result",
          "data": {
            "text/plain": [
              "(60109, 8)"
            ]
          },
          "metadata": {},
          "execution_count": 4
        }
      ],
      "source": [
        "df.shape"
      ]
    },
    {
      "cell_type": "code",
      "execution_count": 5,
      "metadata": {
        "colab": {
          "base_uri": "https://localhost:8080/"
        },
        "id": "1XD0eKU-8w4g",
        "outputId": "c9493737-fefe-4ee1-ea7d-734c34719365"
      },
      "outputs": [
        {
          "output_type": "stream",
          "name": "stdout",
          "text": [
            "<class 'pandas.core.frame.DataFrame'>\n",
            "RangeIndex: 60109 entries, 0 to 60108\n",
            "Data columns (total 8 columns):\n",
            " #   Column          Non-Null Count  Dtype \n",
            "---  ------          --------------  ----- \n",
            " 0   company         60109 non-null  object\n",
            " 1   name            60109 non-null  object\n",
            " 2   fuel_type       60109 non-null  object\n",
            " 3   kms_driven      60109 non-null  object\n",
            " 4   year            60109 non-null  int64 \n",
            " 5   price           60109 non-null  int64 \n",
            " 6   vehicle_engine  60109 non-null  object\n",
            " 7   vehicle_type    60109 non-null  object\n",
            "dtypes: int64(2), object(6)\n",
            "memory usage: 3.7+ MB\n"
          ]
        }
      ],
      "source": [
        "df.info()"
      ]
    },
    {
      "cell_type": "code",
      "source": [
        "df.describe()"
      ],
      "metadata": {
        "colab": {
          "base_uri": "https://localhost:8080/",
          "height": 300
        },
        "id": "yOA4kh8HxQb-",
        "outputId": "f9bcc18d-c449-4983-924e-920231009f82"
      },
      "execution_count": 6,
      "outputs": [
        {
          "output_type": "execute_result",
          "data": {
            "text/plain": [
              "               year         price\n",
              "count  60109.000000  6.010900e+04\n",
              "mean    2011.837129  3.603460e+06\n",
              "std        9.545813  5.586388e+06\n",
              "min     1942.000000  1.780000e+03\n",
              "25%     2006.000000  1.200000e+06\n",
              "50%     2014.000000  2.300000e+06\n",
              "75%     2020.000000  4.100000e+06\n",
              "max     2023.000000  2.100000e+08"
            ],
            "text/html": [
              "\n",
              "  <div id=\"df-2a65d4b9-df80-45eb-8a41-0c3aacf4d691\" class=\"colab-df-container\">\n",
              "    <div>\n",
              "<style scoped>\n",
              "    .dataframe tbody tr th:only-of-type {\n",
              "        vertical-align: middle;\n",
              "    }\n",
              "\n",
              "    .dataframe tbody tr th {\n",
              "        vertical-align: top;\n",
              "    }\n",
              "\n",
              "    .dataframe thead th {\n",
              "        text-align: right;\n",
              "    }\n",
              "</style>\n",
              "<table border=\"1\" class=\"dataframe\">\n",
              "  <thead>\n",
              "    <tr style=\"text-align: right;\">\n",
              "      <th></th>\n",
              "      <th>year</th>\n",
              "      <th>price</th>\n",
              "    </tr>\n",
              "  </thead>\n",
              "  <tbody>\n",
              "    <tr>\n",
              "      <th>count</th>\n",
              "      <td>60109.000000</td>\n",
              "      <td>6.010900e+04</td>\n",
              "    </tr>\n",
              "    <tr>\n",
              "      <th>mean</th>\n",
              "      <td>2011.837129</td>\n",
              "      <td>3.603460e+06</td>\n",
              "    </tr>\n",
              "    <tr>\n",
              "      <th>std</th>\n",
              "      <td>9.545813</td>\n",
              "      <td>5.586388e+06</td>\n",
              "    </tr>\n",
              "    <tr>\n",
              "      <th>min</th>\n",
              "      <td>1942.000000</td>\n",
              "      <td>1.780000e+03</td>\n",
              "    </tr>\n",
              "    <tr>\n",
              "      <th>25%</th>\n",
              "      <td>2006.000000</td>\n",
              "      <td>1.200000e+06</td>\n",
              "    </tr>\n",
              "    <tr>\n",
              "      <th>50%</th>\n",
              "      <td>2014.000000</td>\n",
              "      <td>2.300000e+06</td>\n",
              "    </tr>\n",
              "    <tr>\n",
              "      <th>75%</th>\n",
              "      <td>2020.000000</td>\n",
              "      <td>4.100000e+06</td>\n",
              "    </tr>\n",
              "    <tr>\n",
              "      <th>max</th>\n",
              "      <td>2023.000000</td>\n",
              "      <td>2.100000e+08</td>\n",
              "    </tr>\n",
              "  </tbody>\n",
              "</table>\n",
              "</div>\n",
              "    <div class=\"colab-df-buttons\">\n",
              "\n",
              "  <div class=\"colab-df-container\">\n",
              "    <button class=\"colab-df-convert\" onclick=\"convertToInteractive('df-2a65d4b9-df80-45eb-8a41-0c3aacf4d691')\"\n",
              "            title=\"Convert this dataframe to an interactive table.\"\n",
              "            style=\"display:none;\">\n",
              "\n",
              "  <svg xmlns=\"http://www.w3.org/2000/svg\" height=\"24px\" viewBox=\"0 -960 960 960\">\n",
              "    <path d=\"M120-120v-720h720v720H120Zm60-500h600v-160H180v160Zm220 220h160v-160H400v160Zm0 220h160v-160H400v160ZM180-400h160v-160H180v160Zm440 0h160v-160H620v160ZM180-180h160v-160H180v160Zm440 0h160v-160H620v160Z\"/>\n",
              "  </svg>\n",
              "    </button>\n",
              "\n",
              "  <style>\n",
              "    .colab-df-container {\n",
              "      display:flex;\n",
              "      gap: 12px;\n",
              "    }\n",
              "\n",
              "    .colab-df-convert {\n",
              "      background-color: #E8F0FE;\n",
              "      border: none;\n",
              "      border-radius: 50%;\n",
              "      cursor: pointer;\n",
              "      display: none;\n",
              "      fill: #1967D2;\n",
              "      height: 32px;\n",
              "      padding: 0 0 0 0;\n",
              "      width: 32px;\n",
              "    }\n",
              "\n",
              "    .colab-df-convert:hover {\n",
              "      background-color: #E2EBFA;\n",
              "      box-shadow: 0px 1px 2px rgba(60, 64, 67, 0.3), 0px 1px 3px 1px rgba(60, 64, 67, 0.15);\n",
              "      fill: #174EA6;\n",
              "    }\n",
              "\n",
              "    .colab-df-buttons div {\n",
              "      margin-bottom: 4px;\n",
              "    }\n",
              "\n",
              "    [theme=dark] .colab-df-convert {\n",
              "      background-color: #3B4455;\n",
              "      fill: #D2E3FC;\n",
              "    }\n",
              "\n",
              "    [theme=dark] .colab-df-convert:hover {\n",
              "      background-color: #434B5C;\n",
              "      box-shadow: 0px 1px 3px 1px rgba(0, 0, 0, 0.15);\n",
              "      filter: drop-shadow(0px 1px 2px rgba(0, 0, 0, 0.3));\n",
              "      fill: #FFFFFF;\n",
              "    }\n",
              "  </style>\n",
              "\n",
              "    <script>\n",
              "      const buttonEl =\n",
              "        document.querySelector('#df-2a65d4b9-df80-45eb-8a41-0c3aacf4d691 button.colab-df-convert');\n",
              "      buttonEl.style.display =\n",
              "        google.colab.kernel.accessAllowed ? 'block' : 'none';\n",
              "\n",
              "      async function convertToInteractive(key) {\n",
              "        const element = document.querySelector('#df-2a65d4b9-df80-45eb-8a41-0c3aacf4d691');\n",
              "        const dataTable =\n",
              "          await google.colab.kernel.invokeFunction('convertToInteractive',\n",
              "                                                    [key], {});\n",
              "        if (!dataTable) return;\n",
              "\n",
              "        const docLinkHtml = 'Like what you see? Visit the ' +\n",
              "          '<a target=\"_blank\" href=https://colab.research.google.com/notebooks/data_table.ipynb>data table notebook</a>'\n",
              "          + ' to learn more about interactive tables.';\n",
              "        element.innerHTML = '';\n",
              "        dataTable['output_type'] = 'display_data';\n",
              "        await google.colab.output.renderOutput(dataTable, element);\n",
              "        const docLink = document.createElement('div');\n",
              "        docLink.innerHTML = docLinkHtml;\n",
              "        element.appendChild(docLink);\n",
              "      }\n",
              "    </script>\n",
              "  </div>\n",
              "\n",
              "\n",
              "<div id=\"df-dc45ed23-56a5-483f-aa0e-4838eb5d73fb\">\n",
              "  <button class=\"colab-df-quickchart\" onclick=\"quickchart('df-dc45ed23-56a5-483f-aa0e-4838eb5d73fb')\"\n",
              "            title=\"Suggest charts.\"\n",
              "            style=\"display:none;\">\n",
              "\n",
              "<svg xmlns=\"http://www.w3.org/2000/svg\" height=\"24px\"viewBox=\"0 0 24 24\"\n",
              "     width=\"24px\">\n",
              "    <g>\n",
              "        <path d=\"M19 3H5c-1.1 0-2 .9-2 2v14c0 1.1.9 2 2 2h14c1.1 0 2-.9 2-2V5c0-1.1-.9-2-2-2zM9 17H7v-7h2v7zm4 0h-2V7h2v10zm4 0h-2v-4h2v4z\"/>\n",
              "    </g>\n",
              "</svg>\n",
              "  </button>\n",
              "\n",
              "<style>\n",
              "  .colab-df-quickchart {\n",
              "      --bg-color: #E8F0FE;\n",
              "      --fill-color: #1967D2;\n",
              "      --hover-bg-color: #E2EBFA;\n",
              "      --hover-fill-color: #174EA6;\n",
              "      --disabled-fill-color: #AAA;\n",
              "      --disabled-bg-color: #DDD;\n",
              "  }\n",
              "\n",
              "  [theme=dark] .colab-df-quickchart {\n",
              "      --bg-color: #3B4455;\n",
              "      --fill-color: #D2E3FC;\n",
              "      --hover-bg-color: #434B5C;\n",
              "      --hover-fill-color: #FFFFFF;\n",
              "      --disabled-bg-color: #3B4455;\n",
              "      --disabled-fill-color: #666;\n",
              "  }\n",
              "\n",
              "  .colab-df-quickchart {\n",
              "    background-color: var(--bg-color);\n",
              "    border: none;\n",
              "    border-radius: 50%;\n",
              "    cursor: pointer;\n",
              "    display: none;\n",
              "    fill: var(--fill-color);\n",
              "    height: 32px;\n",
              "    padding: 0;\n",
              "    width: 32px;\n",
              "  }\n",
              "\n",
              "  .colab-df-quickchart:hover {\n",
              "    background-color: var(--hover-bg-color);\n",
              "    box-shadow: 0 1px 2px rgba(60, 64, 67, 0.3), 0 1px 3px 1px rgba(60, 64, 67, 0.15);\n",
              "    fill: var(--button-hover-fill-color);\n",
              "  }\n",
              "\n",
              "  .colab-df-quickchart-complete:disabled,\n",
              "  .colab-df-quickchart-complete:disabled:hover {\n",
              "    background-color: var(--disabled-bg-color);\n",
              "    fill: var(--disabled-fill-color);\n",
              "    box-shadow: none;\n",
              "  }\n",
              "\n",
              "  .colab-df-spinner {\n",
              "    border: 2px solid var(--fill-color);\n",
              "    border-color: transparent;\n",
              "    border-bottom-color: var(--fill-color);\n",
              "    animation:\n",
              "      spin 1s steps(1) infinite;\n",
              "  }\n",
              "\n",
              "  @keyframes spin {\n",
              "    0% {\n",
              "      border-color: transparent;\n",
              "      border-bottom-color: var(--fill-color);\n",
              "      border-left-color: var(--fill-color);\n",
              "    }\n",
              "    20% {\n",
              "      border-color: transparent;\n",
              "      border-left-color: var(--fill-color);\n",
              "      border-top-color: var(--fill-color);\n",
              "    }\n",
              "    30% {\n",
              "      border-color: transparent;\n",
              "      border-left-color: var(--fill-color);\n",
              "      border-top-color: var(--fill-color);\n",
              "      border-right-color: var(--fill-color);\n",
              "    }\n",
              "    40% {\n",
              "      border-color: transparent;\n",
              "      border-right-color: var(--fill-color);\n",
              "      border-top-color: var(--fill-color);\n",
              "    }\n",
              "    60% {\n",
              "      border-color: transparent;\n",
              "      border-right-color: var(--fill-color);\n",
              "    }\n",
              "    80% {\n",
              "      border-color: transparent;\n",
              "      border-right-color: var(--fill-color);\n",
              "      border-bottom-color: var(--fill-color);\n",
              "    }\n",
              "    90% {\n",
              "      border-color: transparent;\n",
              "      border-bottom-color: var(--fill-color);\n",
              "    }\n",
              "  }\n",
              "</style>\n",
              "\n",
              "  <script>\n",
              "    async function quickchart(key) {\n",
              "      const quickchartButtonEl =\n",
              "        document.querySelector('#' + key + ' button');\n",
              "      quickchartButtonEl.disabled = true;  // To prevent multiple clicks.\n",
              "      quickchartButtonEl.classList.add('colab-df-spinner');\n",
              "      try {\n",
              "        const charts = await google.colab.kernel.invokeFunction(\n",
              "            'suggestCharts', [key], {});\n",
              "      } catch (error) {\n",
              "        console.error('Error during call to suggestCharts:', error);\n",
              "      }\n",
              "      quickchartButtonEl.classList.remove('colab-df-spinner');\n",
              "      quickchartButtonEl.classList.add('colab-df-quickchart-complete');\n",
              "    }\n",
              "    (() => {\n",
              "      let quickchartButtonEl =\n",
              "        document.querySelector('#df-dc45ed23-56a5-483f-aa0e-4838eb5d73fb button');\n",
              "      quickchartButtonEl.style.display =\n",
              "        google.colab.kernel.accessAllowed ? 'block' : 'none';\n",
              "    })();\n",
              "  </script>\n",
              "</div>\n",
              "    </div>\n",
              "  </div>\n"
            ]
          },
          "metadata": {},
          "execution_count": 6
        }
      ]
    },
    {
      "cell_type": "code",
      "execution_count": 7,
      "metadata": {
        "colab": {
          "base_uri": "https://localhost:8080/"
        },
        "id": "2vg21vR4iACE",
        "outputId": "140942f1-8084-4973-cb5a-04d6fcb85135"
      },
      "outputs": [
        {
          "output_type": "execute_result",
          "data": {
            "text/plain": [
              "array(['MG', 'Toyota', 'Honda', 'KIA', 'Nissan', 'Suzuki',\n",
              "       'Mercedes Benz', 'Range Rover', 'Daihatsu', 'Changan', 'BMW',\n",
              "       'Hyundai', 'Mazda', 'Haval', 'DFSK', 'Mitsubishi', 'Audi',\n",
              "       'Chevrolet', 'Porsche', 'United', 'Others', 'FAW', 'Lexus',\n",
              "       'Prince', 'Chrysler', 'Subaru', 'Peugeot', 'Ford', 'Land Rover',\n",
              "       'Master', 'Volkswagen', 'Chery', 'Willys', 'Proton', 'Jeep',\n",
              "       'MINI', 'SsangYong', 'Isuzu', 'Daewoo', 'Daehan', 'BAIC', 'Tesla',\n",
              "       'Cadillac', 'Datsun', 'Adam', 'Hummer', 'Alfa Romeo', 'Sogo',\n",
              "       'Golf', 'Jaguar', 'Dodge', 'Hino', 'Buick', 'Morris', 'JW Forland',\n",
              "       'Bentley', 'JAC', 'Fiat', 'Roma', 'JMC', 'Ferrari', 'Geely',\n",
              "       'ZOTYE', 'Opel', 'Vauxhall', 'Oldsmobile', 'GMC', 'Citroen',\n",
              "       'Classic Cars', 'Mushtaq', 'Volvo'], dtype=object)"
            ]
          },
          "metadata": {},
          "execution_count": 7
        }
      ],
      "source": [
        "df['company'].unique()"
      ]
    },
    {
      "cell_type": "code",
      "execution_count": 8,
      "metadata": {
        "colab": {
          "base_uri": "https://localhost:8080/"
        },
        "id": "I60IM7slb-Fz",
        "outputId": "412d34ca-068c-4ee4-a777-7a16fa8cb1d4"
      },
      "outputs": [
        {
          "output_type": "execute_result",
          "data": {
            "text/plain": [
              "array(['MG HS 2021 for sale in Lahore',\n",
              "       'Toyota Aygo 2012 for sale in Islamabad',\n",
              "       'Honda City 2015 for sale in Lahore', ...,\n",
              "       'Suzuki Jimny Sierra 2021 for sale in Lahore',\n",
              "       'Honda Accord 2020 for sale in Lahore',\n",
              "       'Lexus LX Series 2003 for sale in Lahore'], dtype=object)"
            ]
          },
          "metadata": {},
          "execution_count": 8
        }
      ],
      "source": [
        "df['name'].unique()"
      ]
    },
    {
      "cell_type": "code",
      "execution_count": 9,
      "metadata": {
        "colab": {
          "base_uri": "https://localhost:8080/"
        },
        "id": "KhYytT-qAX3F",
        "outputId": "b3bc752d-9aaf-4693-f1ad-be4c4b67208d"
      },
      "outputs": [
        {
          "output_type": "execute_result",
          "data": {
            "text/plain": [
              "array(['Petrol', 'Hybrid', 'Diesel', 'CNG', 'Electric', 'Lpg'],\n",
              "      dtype=object)"
            ]
          },
          "metadata": {},
          "execution_count": 9
        }
      ],
      "source": [
        "df['fuel_type'].unique()"
      ]
    },
    {
      "cell_type": "code",
      "execution_count": 10,
      "metadata": {
        "colab": {
          "base_uri": "https://localhost:8080/"
        },
        "id": "8mViU2v6_4Rs",
        "outputId": "ea3fb36a-ff96-4465-dc2a-a71949143e39"
      },
      "outputs": [
        {
          "output_type": "execute_result",
          "data": {
            "text/plain": [
              "array(['6,000 km', '68,000 km', '150,000 km', ..., '9,826 km',\n",
              "       '45,737 km', '80,792 km'], dtype=object)"
            ]
          },
          "metadata": {},
          "execution_count": 10
        }
      ],
      "source": [
        "df['kms_driven'].unique()"
      ]
    },
    {
      "cell_type": "code",
      "execution_count": 11,
      "metadata": {
        "colab": {
          "base_uri": "https://localhost:8080/"
        },
        "id": "bArjuzYC_Ipe",
        "outputId": "4014477e-7bfa-4cc4-bfa4-3899630da4b5"
      },
      "outputs": [
        {
          "output_type": "execute_result",
          "data": {
            "text/plain": [
              "array([2021, 2005, 2006, 2010, 1992, 2007, 2023, 2019, 2018, 2020, 2022,\n",
              "       2016, 2014, 2015, 2004, 2002, 2011, 2008, 2017, 2003, 2012, 1994,\n",
              "       1974, 1996, 2009, 1991, 2013, 1970, 1993, 1980, 1998, 1984, 1999,\n",
              "       1995, 2000, 1986, 1990, 1982, 1960, 2001, 1997, 1988, 1987, 1985,\n",
              "       1989, 1983, 1965, 1968, 1981, 1975, 1979, 1963, 1976, 1961, 1978,\n",
              "       1972, 1969, 1967, 1973, 1951, 1966, 1962, 1971, 1952, 1977, 1964,\n",
              "       1942])"
            ]
          },
          "metadata": {},
          "execution_count": 11
        }
      ],
      "source": [
        "df['year'].unique()"
      ]
    },
    {
      "cell_type": "code",
      "execution_count": 12,
      "metadata": {
        "colab": {
          "base_uri": "https://localhost:8080/"
        },
        "id": "nhM0KX2Y_mCA",
        "outputId": "6470a9a5-6456-47f0-8159-22a48a359772"
      },
      "outputs": [
        {
          "output_type": "execute_result",
          "data": {
            "text/plain": [
              "array([ 6525000,  1625000,  2550000, ..., 19450000, 65500000,  5556000])"
            ]
          },
          "metadata": {},
          "execution_count": 12
        }
      ],
      "source": [
        "df['price'].unique()"
      ]
    },
    {
      "cell_type": "code",
      "execution_count": 13,
      "metadata": {
        "colab": {
          "base_uri": "https://localhost:8080/"
        },
        "id": "BRqMrd2Bieow",
        "outputId": "5b41e5d7-f322-4640-e61d-5813a15c3276"
      },
      "outputs": [
        {
          "output_type": "execute_result",
          "data": {
            "text/plain": [
              "array(['1490cc', '1000cc', '1300cc', '3500cc', '1800cc', '1500cc',\n",
              "       '1600cc', '660cc', '800cc', '2000cc', '300cc', '2500cc', '4000cc',\n",
              "       '100cc', '3378cc', '2800cc', '2700cc', '2600cc', '996cc', '2400cc',\n",
              "       '1200cc', '4200cc', '1799cc', '539cc', '3400cc', '4600cc',\n",
              "       '3000cc', '1100cc', '796cc', '1999cc', '1242cc', '1598cc',\n",
              "       '1498cc', '1497cc', '5000cc', '1499cc', '4608cc', '10000cc',\n",
              "       '998cc', '4700cc', '999cc', '4500cc', '5548cc', '4800cc', '1368cc',\n",
              "       '1400cc', 'cc', '2497cc', '3470cc', '3300cc', '1798cc', '2200cc',\n",
              "       '3600cc', '3200cc', '4663cc', '3199cc', '1794cc', '1299cc',\n",
              "       '1198cc', '1700cc', '3479cc', '5700cc', '2597cc', '5500cc',\n",
              "       '4476cc', '12354cc', '1496cc', '6200cc', '4400cc', '600cc',\n",
              "       '13000cc', '4164cc', '5600cc', '5663cc', '109cc', '1086cc',\n",
              "       '123cc', '3445cc', '3350cc', '2359cc', '700cc', '2300cc', '2999cc',\n",
              "       '5555cc', '122cc', '6100cc', '1699cc', '3800cc', '3150cc',\n",
              "       '3342cc', '3799cc', '150cc', '230cc', '1591cc', '4300cc', '3700cc',\n",
              "       '1900cc', '7996cc', '880cc', '6208cc', '2100cc', '3431cc', '599cc',\n",
              "       '887cc', '3153cc', '8000cc', '1199cc', '15000cc', '6000cc',\n",
              "       '5438cc', '4966cc', '1323cc', '950cc', '2900cc', '4163cc', '860cc',\n",
              "       '180cc', '3438cc', '1240cc', '3394cc', '6464cc', '900cc', '5496cc',\n",
              "       '993cc', '1981cc', '220cc', '6500cc', '5461cc', '3135cc', '997cc',\n",
              "       '130cc', '200cc', '7500cc', '3100cc', '2235cc', '14000cc',\n",
              "       '2198cc', '6600cc', '696cc', '2171cc', '699cc', '7700cc', '400cc',\n",
              "       '14230cc', '10002cc', '14999cc', '170cc', '3311cc', '2237cc',\n",
              "       '870cc', '1797cc', '0cc', '111cc', '125cc', '3450cc', '750cc',\n",
              "       '933cc', '6300cc', '3189cc', '1991cc', '1690cc', '5300cc',\n",
              "       '4196cc', '5972cc', '4806cc', '3246cc', '2184cc', '550cc',\n",
              "       '11111cc', '222cc', '4100cc', '5874cc', '1111cc', '6597cc',\n",
              "       '9464cc', '5400cc', '3420cc', '308cc', '548cc', '1667cc', '1668cc',\n",
              "       '9999cc'], dtype=object)"
            ]
          },
          "metadata": {},
          "execution_count": 13
        }
      ],
      "source": [
        "df['vehicle_engine'].unique()"
      ]
    },
    {
      "cell_type": "code",
      "execution_count": 14,
      "metadata": {
        "colab": {
          "base_uri": "https://localhost:8080/"
        },
        "id": "fyxBcuDPIXsz",
        "outputId": "3fe3edb2-fb10-4f65-9e8c-a8da8235c2f1"
      },
      "outputs": [
        {
          "output_type": "execute_result",
          "data": {
            "text/plain": [
              "array(['Automatic', 'Manual'], dtype=object)"
            ]
          },
          "metadata": {},
          "execution_count": 14
        }
      ],
      "source": [
        "df['vehicle_type'].unique()"
      ]
    },
    {
      "cell_type": "markdown",
      "source": [
        "\"Our dataset contains some data cleaning challenges that require attention to ensure data quality and consistency. Specifically, the 'name' column contains unnecessary strings that need to be removed or cleaned to standardize the entries. In the 'company' column, we have identified the presence of the string 'Others,' which does not define any specific company. We will remove these 'Others' entries to improve company data accuracy. Additionally, in the 'kms driven' column, we will remove the 'km' suffix and convert the values to integers for consistency. Similarly, in the 'vehicle engine' column, we will remove the 'cc' suffix and convert the values to integers. These steps are essential to eliminate unnecessary values, ensure data uniformity, and enhance the dataset's suitability for analysis or modeling.\""
      ],
      "metadata": {
        "id": "NjnRNoej9K_U"
      }
    },
    {
      "cell_type": "markdown",
      "source": [
        "# **Exploratory Data Analysis (EDA)**\n",
        "\"In the context of our dataset, Exploratory Data Analysis (EDA) plays a pivotal role in addressing data quality challenges. We are tasked with cleaning and preparing the dataset, including removing unnecessary strings in the 'name' column, handling 'Others' entries in the 'company' column, and converting 'kms driven' and 'vehicle engine' columns to integers. EDA will empower us to visualize data patterns, detect outliers, and validate the effectiveness of our data cleaning efforts. Additionally, we will diligently identify and remove outliers if detected during the EDA process, ensuring that the dataset is well-prepared for subsequent analysis or modeling.\""
      ],
      "metadata": {
        "id": "FoMQ_uHVuHDT"
      }
    },
    {
      "cell_type": "code",
      "execution_count": 15,
      "metadata": {
        "id": "8RbwcM8WQ6KS"
      },
      "outputs": [],
      "source": [
        "df.dropna(inplace=True)"
      ]
    },
    {
      "cell_type": "code",
      "execution_count": 16,
      "metadata": {
        "id": "s8qpUWQlCugr"
      },
      "outputs": [],
      "source": [
        "df = df[df[\"company\"].str.contains(\"Others\") == False]"
      ]
    },
    {
      "cell_type": "code",
      "execution_count": 17,
      "metadata": {
        "colab": {
          "base_uri": "https://localhost:8080/"
        },
        "id": "_hMbR_jvBm7V",
        "outputId": "2f85bd9a-2ec9-4789-a79a-df9f52f72c1f"
      },
      "outputs": [
        {
          "output_type": "execute_result",
          "data": {
            "text/plain": [
              "array(['MG', 'Toyota', 'Honda', 'KIA', 'Nissan', 'Suzuki',\n",
              "       'Mercedes Benz', 'Range Rover', 'Daihatsu', 'Changan', 'BMW',\n",
              "       'Hyundai', 'Mazda', 'Haval', 'DFSK', 'Mitsubishi', 'Audi',\n",
              "       'Chevrolet', 'Porsche', 'United', 'FAW', 'Lexus', 'Prince',\n",
              "       'Chrysler', 'Subaru', 'Peugeot', 'Ford', 'Land Rover', 'Master',\n",
              "       'Volkswagen', 'Chery', 'Willys', 'Proton', 'Jeep', 'MINI',\n",
              "       'SsangYong', 'Isuzu', 'Daewoo', 'Daehan', 'BAIC', 'Tesla',\n",
              "       'Cadillac', 'Datsun', 'Adam', 'Hummer', 'Alfa Romeo', 'Sogo',\n",
              "       'Golf', 'Jaguar', 'Dodge', 'Hino', 'Buick', 'Morris', 'JW Forland',\n",
              "       'Bentley', 'JAC', 'Fiat', 'Roma', 'JMC', 'Ferrari', 'Geely',\n",
              "       'ZOTYE', 'Opel', 'Vauxhall', 'Oldsmobile', 'GMC', 'Citroen',\n",
              "       'Classic Cars', 'Mushtaq', 'Volvo'], dtype=object)"
            ]
          },
          "metadata": {},
          "execution_count": 17
        }
      ],
      "source": [
        "df['company'].unique()"
      ]
    },
    {
      "cell_type": "markdown",
      "source": [
        "\"We've refined the 'company' column by addressing entries labeled as 'Others,' ensuring that the dataset now accurately represents company data for analysis.\""
      ],
      "metadata": {
        "id": "dpuG2ldoALzZ"
      }
    },
    {
      "cell_type": "code",
      "execution_count": 18,
      "metadata": {
        "id": "v7BZ0VLNbVpt"
      },
      "outputs": [],
      "source": [
        "import re\n",
        "df['name'] = df['name'].str.split().str[:3].str.join(' ').apply(lambda x: re.sub(r'\\d+', '', x))"
      ]
    },
    {
      "cell_type": "code",
      "execution_count": 19,
      "metadata": {
        "id": "pomP7aqZdIeL"
      },
      "outputs": [],
      "source": [
        "df['name'] = df['name'].str.strip()"
      ]
    },
    {
      "cell_type": "code",
      "execution_count": 20,
      "metadata": {
        "colab": {
          "base_uri": "https://localhost:8080/"
        },
        "id": "NSYFeyq5dKip",
        "outputId": "2fd31f67-7262-4591-961d-dfd8d3a0155a"
      },
      "outputs": [
        {
          "output_type": "execute_result",
          "data": {
            "text/plain": [
              "array(['MG HS', 'Toyota Aygo', 'Honda City', 'KIA Sorento',\n",
              "       'Toyota Corolla', 'Nissan March', 'Honda Civic', 'Suzuki Cultus',\n",
              "       'Suzuki Alto', 'Honda BR-V', 'Suzuki Wagon R', 'Suzuki Mehran',\n",
              "       'Toyota Aqua', 'Mercedes Benz E', 'Range Rover Evoque',\n",
              "       'Daihatsu Move', 'Daihatsu Mira', 'Toyota Vitz', 'Toyota Prius',\n",
              "       'Toyota Hilux', 'Toyota Passo', 'Mercedes Benz S', 'Toyota Yaris',\n",
              "       'Changan Alsvin', 'BMW  Series', 'Toyota Prado', 'Honda HR-V',\n",
              "       'Honda Spike', 'Daihatsu Charade', 'Hyundai Tucson', 'Mazda Flair',\n",
              "       'Toyota Mark X', 'Toyota Crown', 'Toyota Sienta', 'Nissan Sunny',\n",
              "       'Haval H', 'Hyundai Elantra', 'Toyota Corolla Axio', 'Toyota Surf',\n",
              "       'Suzuki Swift', 'Honda Vezel', 'Honda Jade', 'Toyota Fortuner',\n",
              "       'Toyota Duet', 'Hyundai H-', 'Suzuki FX', 'Honda Fit',\n",
              "       'Toyota Harrier', 'DFSK Glory', 'KIA Sportage', 'Suzuki Bolan',\n",
              "       'Nissan Note', 'Nissan Clipper', 'Toyota Land Cruiser',\n",
              "       'Suzuki Khyber', 'Honda N Wgn', 'Hyundai Santro', 'Daihatsu Cuore',\n",
              "       'Honda Cross Road', 'Mitsubishi Lancer', 'Honda N Box', 'Audi A',\n",
              "       'Suzuki Cervo', 'Toyota Pickup', 'Suzuki Baleno', 'KIA Picanto',\n",
              "       'Mercedes Benz C', 'Chevrolet Cruze', 'Honda CR-V',\n",
              "       'Porsche Panamera', 'Hyundai Sonata', 'United Bravo',\n",
              "       'Mitsubishi Ek Wagon', 'DFSK Convoy', 'Suzuki Ravi',\n",
              "       'Toyota Probox', 'Daihatsu Cast', 'Toyota Corolla Fielder',\n",
              "       'Daihatsu Terios Kid', 'FAW V', 'Toyota Prius Alpha',\n",
              "       'Daihatsu Hijet', 'BMW X', 'Lexus Gs Series', 'FAW X-PV',\n",
              "       'Nissan Dayz', 'Prince K', 'Suzuki Every', 'Honda Accord',\n",
              "       'Toyota Premio', 'Mitsubishi Pajero', 'Daihatsu Move Conte',\n",
              "       'Nissan Juke', 'Toyota C-HR', 'Mazda RX', 'Suzuki MR Wagon',\n",
              "       'Nissan Moco', 'MG ZS', 'Changan Karvaan', 'Range Rover Sport',\n",
              "       'Changan Oshan X', 'Chrysler  C', 'Honda N One', 'Toyota Mark II',\n",
              "       'Toyota Rush', 'Nissan Dayz Highway', 'Toyota Other',\n",
              "       'Subaru Pleo', 'Toyota Tank', 'Prince Pearl', 'Toyota Hiace',\n",
              "       'Lexus RX Series', 'Toyota Rav', 'Porsche Cayenne', 'Peugeot',\n",
              "       'Suzuki Potohar', 'Ford Ranger', 'Land Rover Defender',\n",
              "       'Toyota Raize', 'Toyota Belta', 'Mazda Scrum',\n",
              "       'Suzuki Every Wagon', 'Master Foton', 'Suzuki Margalla',\n",
              "       'Suzuki Liana', 'Mercedes Benz A', 'Mitsubishi Minicab Bravo',\n",
              "       'Toyota Tacoma', 'Honda Insight', 'Suzuki Jimny Sierra',\n",
              "       'Daihatsu Tanto', 'Volkswagen Beetle', 'Nissan Otti', 'Toyota',\n",
              "       'Toyota Porte', 'Honda Grace Hybrid', 'Toyota Pixis Epoch',\n",
              "       'Ford F', 'Suzuki Sx', 'Mitsubishi Pajero Mini', 'Daihatsu Boon',\n",
              "       'Daihatsu Copen', 'Toyota Camry', 'KIA Stonic', 'Audi e-tron',\n",
              "       'Chery QQ', 'Audi e-tron GT', 'Suzuki Carry', 'Honda Airwave',\n",
              "       'KIA Grand Carnival', 'Mitsubishi I', 'KIA Classic',\n",
              "       'Daihatsu Terios', 'Mercedes Benz CLA', 'Toyota Ractis',\n",
              "       'Changan Kalam', 'Toyota Corona', 'FAW Sirius', 'Hyundai H',\n",
              "       'Willys M', 'Honda Vamos', 'Proton Saga', 'Toyota Estima',\n",
              "       'Nissan Pino', 'Daihatsu Atrai Wagon', 'Honda Zest',\n",
              "       'BMW X Series', 'Suzuki Vitara', 'Mitsubishi Galant',\n",
              "       'FAW Jiaxing Mini', 'Proton X', 'Mitsubishi Lancer Evolution',\n",
              "       'Mercedes Benz SLK', 'FAW Carrier', 'Jeep Cj', 'Toyota Noah',\n",
              "       'Honda Freed', 'Range Rover Vogue', 'Toyota Fj Cruiser',\n",
              "       'Peugeot Other', 'Suzuki Spacia', 'Audi Q', 'Suzuki Jimny',\n",
              "       'MINI Cooper', 'Toyota Platz', 'Daihatsu Mira Cocoa',\n",
              "       'Honda Insight Exclusive', 'Toyota Succeed', 'Nissan Wingroad',\n",
              "       'SsangYong Stavic', 'KIA Rio', 'Chery Tiggo', 'Nissan Safari',\n",
              "       'Hyundai Excel', 'Toyota Corolla Cross', 'Lexus LX Series',\n",
              "       'Toyota Roomy', 'Jeep Other', 'Mitsubishi Gto',\n",
              "       'Toyota Yaris Hatchback', 'Hyundai Other', 'Daihatsu Rocky',\n",
              "       'Nissan Tiida', 'Toyota iQ', 'Nissan Z', 'Suzuki Xbee',\n",
              "       'Mazda Carol', 'Suzuki Hustler', 'Nissan AD Van', 'Isuzu D-Max',\n",
              "       'Honda CR-Z Sports', 'Honda Vamos Hobio', 'Nissan Kix',\n",
              "       'Nissan Sentra', 'Daihatsu Taft', 'Proton Gen',\n",
              "       'Mitsubishi Mirage', 'Toyota Celica', 'Daewoo Racer',\n",
              "       'Hyundai Shehzore', 'Chevrolet Optra', 'Mercedes Benz CLK',\n",
              "       'Daehan Shehzore', 'Subaru Stella', 'Hyundai Santa Fe',\n",
              "       'Chevrolet Exclusive', 'Toyota Allion', 'Suzuki APV',\n",
              "       'Toyota Corolla Assista', 'Nissan Infinity', 'Mercedes Benz EQS',\n",
              "       'Toyota Verossa', 'BAIC BJ Plus', 'Toyota Pixis Space',\n",
              "       'Toyota Voxy', 'Tesla Model', 'Changan M', 'Honda Life',\n",
              "       'Mercedes Benz Mb', 'Mitsubishi L', 'Toyota Corolla Hatchback',\n",
              "       'Cadillac Escalade Ext', 'Datsun', 'Toyota Raum',\n",
              "       'Nissan Bluebird Sylphy', 'BMW M Series', 'Jeep M', 'Daewoo Cielo',\n",
              "       'Daihatsu Esse', 'Mitsubishi EK Space', 'Mitsubishi I Mivec',\n",
              "       'Nissan Pickup', 'Adam Revo', 'Toyota IST', 'Mitsubishi EK X',\n",
              "       'Nissan Patrol', 'KIA Spectra', 'Suzuki Ciaz', 'Nissan Roox',\n",
              "       'Lexus CTh', 'Lexus Other', 'Honda Beat', 'Suzuki Kei',\n",
              "       'Mercedes Benz', 'BMW Z', 'Toyota Pixis Van', 'Nissan Cefiro',\n",
              "       'Suzuki Other', 'BAIC BJ', 'Hummer H', 'DFSK C',\n",
              "       'Alfa Romeo Other', 'Nissan Latio', 'Nissan Kicks', 'Mazda Cx',\n",
              "       'Mercedes Benz GLB', 'Range Rover Classic', 'Mazda Axela',\n",
              "       'Mitsubishi Ek Sport', 'BAIC Senova X', 'Toyota Yaris Cross',\n",
              "       'Mitsubishi Minica', 'Range Rover Autobiography', 'Sogo Pickup',\n",
              "       'Toyota Starlet', 'Chevrolet Spark', 'Toyota Cami',\n",
              "       'Nissan Navara', 'Toyota ISIS', 'Jeep Wrangler', 'Jeep CJ',\n",
              "       'Honda Ferio', 'Toyota Avanza', 'BMW i', 'Subaru Justy',\n",
              "       'Changan Gilgit', 'Golf Convertible', 'Mazda B', 'Jaguar Other',\n",
              "       'Chevrolet Joy', 'Mercedes Benz GLA', 'KIA Pride', 'Suzuki Sj',\n",
              "       'Dodge Ram', 'Range Rover Hse', 'Mazda', 'Jeep Cherokee',\n",
              "       'Mercedes Benz D', 'Porsche Macan', 'Honda Stream',\n",
              "       'Subaru Dias Wagon', 'Hyundai Coupe', 'Suzuki Alto Lapin',\n",
              "       'Hino  Series', 'Mitsubishi Rvr', 'Mercedes Benz Cl',\n",
              "       'Toyota Town Ace', 'Daihatsu Other', 'Toyota Tundra',\n",
              "       'Buick Electra', 'Honda Acty', 'BMW Other', 'Toyota Alphard',\n",
              "       'Nissan X Trail', 'Ford Mustang', 'Land Rover Discovery',\n",
              "       'Suzuki Solio Bandit', 'Mercedes Benz Smart', 'Toyota Wish',\n",
              "       'BMW iX', 'Ford Mustang Mach-E', 'Hyundai Terracan',\n",
              "       'Mitsubishi Pajero Junior', 'Jeep Gladiator', 'Suzuki Solio',\n",
              "       'Daihatsu Move Latte', 'Subaru Sambar', 'Mercedes Benz Other',\n",
              "       'Toyota Avensis', 'Morris Oxford', 'Mazda Other', 'Toyota Coaster',\n",
              "       'Toyota Cressida', 'Nissan Caravan', 'JW Forland C-',\n",
              "       'Peugeot Saga', 'Toyota Lucida', 'United Alpha',\n",
              "       'Nissan Path Finder', 'Changan Shahanshah', 'Suzuki Mega Carry',\n",
              "       'Mitsubishi Triton', 'Sogo Double Cabin', 'Isuzu NKR',\n",
              "       'Suzuki S Cross', 'Bentley Other', 'JAC T', 'Isuzu Como',\n",
              "       'Nissan  Y', 'Daihatsu Charmant', 'Mitsubishi EK Custom',\n",
              "       'Honda Other', 'MG ZS EV', 'Subaru R', 'Mazda Flair Wagon',\n",
              "       'Mazda Flair Crossover', 'Fiat Bravo', 'Haval Jolion',\n",
              "       'Suzuki Kizashi', 'Mercedes Benz CLS', 'Suzuki Celerio',\n",
              "       'Toyota Caldina', 'Mitsubishi Town Box', 'Daihatsu Sonica',\n",
              "       'Isuzu Other', 'Roma Family Van', 'Mazda Titan',\n",
              "       'Nissan Nv Vanette', 'Mazda Flair Custom', 'Nissan Cube',\n",
              "       'JMC Vigus', 'Changan A', 'Mitsubishi Delica', 'JW Forland T-',\n",
              "       'Mercedes Benz Unimog', 'Mazda Carol Eco', 'Nissan Other',\n",
              "       'Ford Fiesta', 'MG Other', 'Nissan Qashqai', 'Mitsubishi Grandis',\n",
              "       'Ferrari Other', 'SsangYong Rexton', 'Buick Lesabre', 'Datsun  Y',\n",
              "       'Mitsubishi Shogun', 'Toyota Lite Ace', 'Mitsubishi Toppo',\n",
              "       'Mazda Scrum Wagon', 'Honda Accord Tourer', 'Jeep Commander .',\n",
              "       'Suzuki Splash', 'JW Forland Bravo', 'Daewoo Other',\n",
              "       'Suzuki Escudo', 'JAC X', 'Hino Other', 'Honda S',\n",
              "       'Daihatsu Storia', 'Geely Ck', 'JMC New Boarding',\n",
              "       'Volkswagen Golf', 'Nissan Murano', 'Jaguar XF', 'Mercedes Benz M',\n",
              "       'Suzuki Palette Sw', 'Mazda Rx', 'Toyota Carina',\n",
              "       'Lexus LS Series', 'Proton Impian', 'Chevrolet Lumina',\n",
              "       'Cadillac Other', 'Mercedes Benz G', 'Hino FGJ', 'Nissan Serena',\n",
              "       'Toyota Sprinter', 'ZOTYE Z', 'Toyota Van', 'Ford Other',\n",
              "       'Suzuki Samurai', 'Daihatsu Bego', 'Subaru Forester',\n",
              "       'Mazda Demio', 'Changan Kaghan XL', 'Nissan Leaf',\n",
              "       'Toyota Alphard G', 'Honda Fit Aria', 'Porsche Taycan',\n",
              "       'Daihatsu Coo', 'Mazda Azwagon', 'Audi Other', 'Suzuki Cappuccino',\n",
              "       'Honda Partner', 'Chevrolet Caprice', 'Lexus Nx',\n",
              "       'Mercedes Benz Vito', 'Opel Rekord', 'Vauxhall Other',\n",
              "       'Mitsubishi Colt', 'Land Rover Freelander',\n",
              "       'Oldsmobile Ninety Eight', 'Opel Other', 'Isuzu Trooper',\n",
              "       'Toyota Alphard Hybrid', 'Suzuki Aerio', 'Fiat Uno',\n",
              "       'SsangYong Other', 'Mazda Premacy', 'Toyota Chaser',\n",
              "       'Daihatsu Thor', 'Nissan Skyline', 'Honda Inspire',\n",
              "       'Land Rover Other', 'Ford Cortina', 'Subaru Impreza', 'Subaru Brz',\n",
              "       'Toyota Sera', 'Mazda MX', 'KIA Frontier K', 'Chevrolet Silverado',\n",
              "       'Toyota B B', 'KIA Other', 'Subaru Other', 'GMC Sierra',\n",
              "       'Chevrolet Matiz', 'Citroen Other', 'Classic Cars Other',\n",
              "       'Mitsubishi Other', 'Roma Mini Truck', 'Mitsubishi Outlander',\n",
              "       'Nissan Cedric', 'Mitsubishi Chariot', 'Ford Mutt M', 'Toyota Sai',\n",
              "       'Toyota Vanguard', 'Mazda Luce', 'Nissan Micra', 'Hyundai Accent',\n",
              "       'Range Rover Other', 'Volkswagen Amarok', 'Mushtaq KY',\n",
              "       'Nissan Almera', 'Chevrolet Other', 'Audi TT', 'Changan CXT',\n",
              "       'Nissan Blue Bird', 'Mazda E', 'JW Forland TM', 'Changan Kalash',\n",
              "       'Jeep Bj', 'Suzuki Lj', 'Honda Integra', 'Honda Thats',\n",
              "       'Daihatsu Mira Gino', 'Nissan Nv Caravan', 'Volkswagen Up', 'MG',\n",
              "       'KIA Cerato', 'FAW Vita', 'Toyota Highlander', 'Toyota Echo',\n",
              "       'Mazda Familia Van', 'Volvo Other', 'Subaru Xv', 'Subaru Lucra',\n",
              "       'Toyota Allex'], dtype=object)"
            ]
          },
          "metadata": {},
          "execution_count": 20
        }
      ],
      "source": [
        "df['name'].unique()"
      ]
    },
    {
      "cell_type": "code",
      "source": [
        "df = df[~df['name'].str.contains('Other', case=False)]"
      ],
      "metadata": {
        "id": "O3YbjwukZe2i"
      },
      "execution_count": 21,
      "outputs": []
    },
    {
      "cell_type": "code",
      "source": [
        "df['name'].unique()"
      ],
      "metadata": {
        "colab": {
          "base_uri": "https://localhost:8080/"
        },
        "id": "HsFQ88KvZyQU",
        "outputId": "ad8f77bb-d677-4b29-edb3-c30e1d0b184d"
      },
      "execution_count": 22,
      "outputs": [
        {
          "output_type": "execute_result",
          "data": {
            "text/plain": [
              "array(['MG HS', 'Toyota Aygo', 'Honda City', 'KIA Sorento',\n",
              "       'Toyota Corolla', 'Nissan March', 'Honda Civic', 'Suzuki Cultus',\n",
              "       'Suzuki Alto', 'Honda BR-V', 'Suzuki Wagon R', 'Suzuki Mehran',\n",
              "       'Toyota Aqua', 'Mercedes Benz E', 'Range Rover Evoque',\n",
              "       'Daihatsu Move', 'Daihatsu Mira', 'Toyota Vitz', 'Toyota Prius',\n",
              "       'Toyota Hilux', 'Toyota Passo', 'Mercedes Benz S', 'Toyota Yaris',\n",
              "       'Changan Alsvin', 'BMW  Series', 'Toyota Prado', 'Honda HR-V',\n",
              "       'Honda Spike', 'Daihatsu Charade', 'Hyundai Tucson', 'Mazda Flair',\n",
              "       'Toyota Mark X', 'Toyota Crown', 'Toyota Sienta', 'Nissan Sunny',\n",
              "       'Haval H', 'Hyundai Elantra', 'Toyota Corolla Axio', 'Toyota Surf',\n",
              "       'Suzuki Swift', 'Honda Vezel', 'Honda Jade', 'Toyota Fortuner',\n",
              "       'Toyota Duet', 'Hyundai H-', 'Suzuki FX', 'Honda Fit',\n",
              "       'Toyota Harrier', 'DFSK Glory', 'KIA Sportage', 'Suzuki Bolan',\n",
              "       'Nissan Note', 'Nissan Clipper', 'Toyota Land Cruiser',\n",
              "       'Suzuki Khyber', 'Honda N Wgn', 'Hyundai Santro', 'Daihatsu Cuore',\n",
              "       'Honda Cross Road', 'Mitsubishi Lancer', 'Honda N Box', 'Audi A',\n",
              "       'Suzuki Cervo', 'Toyota Pickup', 'Suzuki Baleno', 'KIA Picanto',\n",
              "       'Mercedes Benz C', 'Chevrolet Cruze', 'Honda CR-V',\n",
              "       'Porsche Panamera', 'Hyundai Sonata', 'United Bravo',\n",
              "       'Mitsubishi Ek Wagon', 'DFSK Convoy', 'Suzuki Ravi',\n",
              "       'Toyota Probox', 'Daihatsu Cast', 'Toyota Corolla Fielder',\n",
              "       'Daihatsu Terios Kid', 'FAW V', 'Toyota Prius Alpha',\n",
              "       'Daihatsu Hijet', 'BMW X', 'Lexus Gs Series', 'FAW X-PV',\n",
              "       'Nissan Dayz', 'Prince K', 'Suzuki Every', 'Honda Accord',\n",
              "       'Toyota Premio', 'Mitsubishi Pajero', 'Daihatsu Move Conte',\n",
              "       'Nissan Juke', 'Toyota C-HR', 'Mazda RX', 'Suzuki MR Wagon',\n",
              "       'Nissan Moco', 'MG ZS', 'Changan Karvaan', 'Range Rover Sport',\n",
              "       'Changan Oshan X', 'Chrysler  C', 'Honda N One', 'Toyota Mark II',\n",
              "       'Toyota Rush', 'Nissan Dayz Highway', 'Subaru Pleo', 'Toyota Tank',\n",
              "       'Prince Pearl', 'Toyota Hiace', 'Lexus RX Series', 'Toyota Rav',\n",
              "       'Porsche Cayenne', 'Peugeot', 'Suzuki Potohar', 'Ford Ranger',\n",
              "       'Land Rover Defender', 'Toyota Raize', 'Toyota Belta',\n",
              "       'Mazda Scrum', 'Suzuki Every Wagon', 'Master Foton',\n",
              "       'Suzuki Margalla', 'Suzuki Liana', 'Mercedes Benz A',\n",
              "       'Mitsubishi Minicab Bravo', 'Toyota Tacoma', 'Honda Insight',\n",
              "       'Suzuki Jimny Sierra', 'Daihatsu Tanto', 'Volkswagen Beetle',\n",
              "       'Nissan Otti', 'Toyota', 'Toyota Porte', 'Honda Grace Hybrid',\n",
              "       'Toyota Pixis Epoch', 'Ford F', 'Suzuki Sx',\n",
              "       'Mitsubishi Pajero Mini', 'Daihatsu Boon', 'Daihatsu Copen',\n",
              "       'Toyota Camry', 'KIA Stonic', 'Audi e-tron', 'Chery QQ',\n",
              "       'Audi e-tron GT', 'Suzuki Carry', 'Honda Airwave',\n",
              "       'KIA Grand Carnival', 'Mitsubishi I', 'KIA Classic',\n",
              "       'Daihatsu Terios', 'Mercedes Benz CLA', 'Toyota Ractis',\n",
              "       'Changan Kalam', 'Toyota Corona', 'FAW Sirius', 'Hyundai H',\n",
              "       'Willys M', 'Honda Vamos', 'Proton Saga', 'Toyota Estima',\n",
              "       'Nissan Pino', 'Daihatsu Atrai Wagon', 'Honda Zest',\n",
              "       'BMW X Series', 'Suzuki Vitara', 'Mitsubishi Galant',\n",
              "       'FAW Jiaxing Mini', 'Proton X', 'Mitsubishi Lancer Evolution',\n",
              "       'Mercedes Benz SLK', 'FAW Carrier', 'Jeep Cj', 'Toyota Noah',\n",
              "       'Honda Freed', 'Range Rover Vogue', 'Toyota Fj Cruiser',\n",
              "       'Suzuki Spacia', 'Audi Q', 'Suzuki Jimny', 'MINI Cooper',\n",
              "       'Toyota Platz', 'Daihatsu Mira Cocoa', 'Honda Insight Exclusive',\n",
              "       'Toyota Succeed', 'Nissan Wingroad', 'SsangYong Stavic', 'KIA Rio',\n",
              "       'Chery Tiggo', 'Nissan Safari', 'Hyundai Excel',\n",
              "       'Toyota Corolla Cross', 'Lexus LX Series', 'Toyota Roomy',\n",
              "       'Mitsubishi Gto', 'Toyota Yaris Hatchback', 'Daihatsu Rocky',\n",
              "       'Nissan Tiida', 'Toyota iQ', 'Nissan Z', 'Suzuki Xbee',\n",
              "       'Mazda Carol', 'Suzuki Hustler', 'Nissan AD Van', 'Isuzu D-Max',\n",
              "       'Honda CR-Z Sports', 'Honda Vamos Hobio', 'Nissan Kix',\n",
              "       'Nissan Sentra', 'Daihatsu Taft', 'Proton Gen',\n",
              "       'Mitsubishi Mirage', 'Toyota Celica', 'Daewoo Racer',\n",
              "       'Hyundai Shehzore', 'Chevrolet Optra', 'Mercedes Benz CLK',\n",
              "       'Daehan Shehzore', 'Subaru Stella', 'Hyundai Santa Fe',\n",
              "       'Chevrolet Exclusive', 'Toyota Allion', 'Suzuki APV',\n",
              "       'Toyota Corolla Assista', 'Nissan Infinity', 'Mercedes Benz EQS',\n",
              "       'Toyota Verossa', 'BAIC BJ Plus', 'Toyota Pixis Space',\n",
              "       'Toyota Voxy', 'Tesla Model', 'Changan M', 'Honda Life',\n",
              "       'Mercedes Benz Mb', 'Mitsubishi L', 'Toyota Corolla Hatchback',\n",
              "       'Cadillac Escalade Ext', 'Datsun', 'Toyota Raum',\n",
              "       'Nissan Bluebird Sylphy', 'BMW M Series', 'Jeep M', 'Daewoo Cielo',\n",
              "       'Daihatsu Esse', 'Mitsubishi EK Space', 'Mitsubishi I Mivec',\n",
              "       'Nissan Pickup', 'Adam Revo', 'Toyota IST', 'Mitsubishi EK X',\n",
              "       'Nissan Patrol', 'KIA Spectra', 'Suzuki Ciaz', 'Nissan Roox',\n",
              "       'Lexus CTh', 'Honda Beat', 'Suzuki Kei', 'Mercedes Benz', 'BMW Z',\n",
              "       'Toyota Pixis Van', 'Nissan Cefiro', 'BAIC BJ', 'Hummer H',\n",
              "       'DFSK C', 'Nissan Latio', 'Nissan Kicks', 'Mazda Cx',\n",
              "       'Mercedes Benz GLB', 'Range Rover Classic', 'Mazda Axela',\n",
              "       'Mitsubishi Ek Sport', 'BAIC Senova X', 'Toyota Yaris Cross',\n",
              "       'Mitsubishi Minica', 'Range Rover Autobiography', 'Sogo Pickup',\n",
              "       'Toyota Starlet', 'Chevrolet Spark', 'Toyota Cami',\n",
              "       'Nissan Navara', 'Toyota ISIS', 'Jeep Wrangler', 'Jeep CJ',\n",
              "       'Honda Ferio', 'Toyota Avanza', 'BMW i', 'Subaru Justy',\n",
              "       'Changan Gilgit', 'Golf Convertible', 'Mazda B', 'Chevrolet Joy',\n",
              "       'Mercedes Benz GLA', 'KIA Pride', 'Suzuki Sj', 'Dodge Ram',\n",
              "       'Range Rover Hse', 'Mazda', 'Jeep Cherokee', 'Mercedes Benz D',\n",
              "       'Porsche Macan', 'Honda Stream', 'Subaru Dias Wagon',\n",
              "       'Hyundai Coupe', 'Suzuki Alto Lapin', 'Hino  Series',\n",
              "       'Mitsubishi Rvr', 'Mercedes Benz Cl', 'Toyota Town Ace',\n",
              "       'Toyota Tundra', 'Buick Electra', 'Honda Acty', 'Toyota Alphard',\n",
              "       'Nissan X Trail', 'Ford Mustang', 'Land Rover Discovery',\n",
              "       'Suzuki Solio Bandit', 'Mercedes Benz Smart', 'Toyota Wish',\n",
              "       'BMW iX', 'Ford Mustang Mach-E', 'Hyundai Terracan',\n",
              "       'Mitsubishi Pajero Junior', 'Jeep Gladiator', 'Suzuki Solio',\n",
              "       'Daihatsu Move Latte', 'Subaru Sambar', 'Toyota Avensis',\n",
              "       'Morris Oxford', 'Toyota Coaster', 'Toyota Cressida',\n",
              "       'Nissan Caravan', 'JW Forland C-', 'Peugeot Saga', 'Toyota Lucida',\n",
              "       'United Alpha', 'Nissan Path Finder', 'Changan Shahanshah',\n",
              "       'Suzuki Mega Carry', 'Mitsubishi Triton', 'Sogo Double Cabin',\n",
              "       'Isuzu NKR', 'Suzuki S Cross', 'JAC T', 'Isuzu Como', 'Nissan  Y',\n",
              "       'Daihatsu Charmant', 'Mitsubishi EK Custom', 'MG ZS EV',\n",
              "       'Subaru R', 'Mazda Flair Wagon', 'Mazda Flair Crossover',\n",
              "       'Fiat Bravo', 'Haval Jolion', 'Suzuki Kizashi',\n",
              "       'Mercedes Benz CLS', 'Suzuki Celerio', 'Toyota Caldina',\n",
              "       'Mitsubishi Town Box', 'Daihatsu Sonica', 'Roma Family Van',\n",
              "       'Mazda Titan', 'Nissan Nv Vanette', 'Mazda Flair Custom',\n",
              "       'Nissan Cube', 'JMC Vigus', 'Changan A', 'Mitsubishi Delica',\n",
              "       'JW Forland T-', 'Mercedes Benz Unimog', 'Mazda Carol Eco',\n",
              "       'Ford Fiesta', 'Nissan Qashqai', 'Mitsubishi Grandis',\n",
              "       'SsangYong Rexton', 'Buick Lesabre', 'Datsun  Y',\n",
              "       'Mitsubishi Shogun', 'Toyota Lite Ace', 'Mitsubishi Toppo',\n",
              "       'Mazda Scrum Wagon', 'Honda Accord Tourer', 'Jeep Commander .',\n",
              "       'Suzuki Splash', 'JW Forland Bravo', 'Suzuki Escudo', 'JAC X',\n",
              "       'Honda S', 'Daihatsu Storia', 'Geely Ck', 'JMC New Boarding',\n",
              "       'Volkswagen Golf', 'Nissan Murano', 'Jaguar XF', 'Mercedes Benz M',\n",
              "       'Suzuki Palette Sw', 'Mazda Rx', 'Toyota Carina',\n",
              "       'Lexus LS Series', 'Proton Impian', 'Chevrolet Lumina',\n",
              "       'Mercedes Benz G', 'Hino FGJ', 'Nissan Serena', 'Toyota Sprinter',\n",
              "       'ZOTYE Z', 'Toyota Van', 'Suzuki Samurai', 'Daihatsu Bego',\n",
              "       'Subaru Forester', 'Mazda Demio', 'Changan Kaghan XL',\n",
              "       'Nissan Leaf', 'Toyota Alphard G', 'Honda Fit Aria',\n",
              "       'Porsche Taycan', 'Daihatsu Coo', 'Mazda Azwagon',\n",
              "       'Suzuki Cappuccino', 'Honda Partner', 'Chevrolet Caprice',\n",
              "       'Lexus Nx', 'Mercedes Benz Vito', 'Opel Rekord', 'Mitsubishi Colt',\n",
              "       'Land Rover Freelander', 'Oldsmobile Ninety Eight',\n",
              "       'Isuzu Trooper', 'Toyota Alphard Hybrid', 'Suzuki Aerio',\n",
              "       'Fiat Uno', 'Mazda Premacy', 'Toyota Chaser', 'Daihatsu Thor',\n",
              "       'Nissan Skyline', 'Honda Inspire', 'Ford Cortina',\n",
              "       'Subaru Impreza', 'Subaru Brz', 'Toyota Sera', 'Mazda MX',\n",
              "       'KIA Frontier K', 'Chevrolet Silverado', 'Toyota B B',\n",
              "       'GMC Sierra', 'Chevrolet Matiz', 'Roma Mini Truck',\n",
              "       'Mitsubishi Outlander', 'Nissan Cedric', 'Mitsubishi Chariot',\n",
              "       'Ford Mutt M', 'Toyota Sai', 'Toyota Vanguard', 'Mazda Luce',\n",
              "       'Nissan Micra', 'Hyundai Accent', 'Volkswagen Amarok',\n",
              "       'Mushtaq KY', 'Nissan Almera', 'Audi TT', 'Changan CXT',\n",
              "       'Nissan Blue Bird', 'Mazda E', 'JW Forland TM', 'Changan Kalash',\n",
              "       'Jeep Bj', 'Suzuki Lj', 'Honda Integra', 'Honda Thats',\n",
              "       'Daihatsu Mira Gino', 'Nissan Nv Caravan', 'Volkswagen Up', 'MG',\n",
              "       'KIA Cerato', 'FAW Vita', 'Toyota Highlander', 'Toyota Echo',\n",
              "       'Mazda Familia Van', 'Subaru Xv', 'Subaru Lucra', 'Toyota Allex'],\n",
              "      dtype=object)"
            ]
          },
          "metadata": {},
          "execution_count": 22
        }
      ]
    },
    {
      "cell_type": "markdown",
      "source": [
        "\"We have cleaned the 'name' column by removing unnecessary strings, ensuring that it is now concise.\""
      ],
      "metadata": {
        "id": "crumVqKj_XDs"
      }
    },
    {
      "cell_type": "code",
      "execution_count": 23,
      "metadata": {
        "id": "eUgdBmZL5IGu"
      },
      "outputs": [],
      "source": [
        "df['kms_driven'] = df['kms_driven'].str.split(' ').str.get(0).str.replace(',','').astype(int)"
      ]
    },
    {
      "cell_type": "code",
      "source": [
        "df['kms_driven'].unique()"
      ],
      "metadata": {
        "colab": {
          "base_uri": "https://localhost:8080/"
        },
        "id": "56qQFW8dvoF7",
        "outputId": "df7380f5-52e7-454f-f96e-85fe17efd18f"
      },
      "execution_count": 24,
      "outputs": [
        {
          "output_type": "execute_result",
          "data": {
            "text/plain": [
              "array([  6000,  68000, 150000, ...,   9826,  45737,  80792])"
            ]
          },
          "metadata": {},
          "execution_count": 24
        }
      ]
    },
    {
      "cell_type": "markdown",
      "source": [
        "\"We have also processed the 'kms driven' column by removing unnecessary units ('km') and converting the values to integers, simplifying the data for analysis.\""
      ],
      "metadata": {
        "id": "oPRhJrce_xfZ"
      }
    },
    {
      "cell_type": "code",
      "source": [
        "df = df[df['vehicle_engine'] != 'cc']"
      ],
      "metadata": {
        "id": "iJI5ygOQc9do"
      },
      "execution_count": 25,
      "outputs": []
    },
    {
      "cell_type": "code",
      "source": [
        "df = df[df['vehicle_engine'] != '0cc']"
      ],
      "metadata": {
        "id": "nA1gXu2UeCyo"
      },
      "execution_count": 26,
      "outputs": []
    },
    {
      "cell_type": "code",
      "execution_count": 27,
      "metadata": {
        "id": "N7tnzJ6aOMfE"
      },
      "outputs": [],
      "source": [
        "df['vehicle_engine'] = df['vehicle_engine'].str.replace('cc', '')\n"
      ]
    },
    {
      "cell_type": "code",
      "execution_count": 28,
      "metadata": {
        "colab": {
          "base_uri": "https://localhost:8080/"
        },
        "id": "5xSEvgn0ROrb",
        "outputId": "ead3ad58-494d-49c3-8251-5ec47421ee08"
      },
      "outputs": [
        {
          "output_type": "execute_result",
          "data": {
            "text/plain": [
              "array(['1490', '1000', '1300', '3500', '1800', '1500', '1600', '660',\n",
              "       '800', '2000', '300', '2500', '4000', '100', '3378', '2800',\n",
              "       '2700', '2600', '996', '2400', '1200', '4200', '1799', '539',\n",
              "       '3400', '4600', '3000', '1100', '796', '1999', '1242', '1598',\n",
              "       '1498', '1497', '5000', '1499', '4608', '10000', '998', '4700',\n",
              "       '999', '4500', '5548', '4800', '1368', '1400', '2497', '3470',\n",
              "       '3300', '1798', '2200', '3600', '3200', '4663', '3199', '1794',\n",
              "       '1299', '1198', '1700', '3479', '5700', '2597', '5500', '4476',\n",
              "       '12354', '1496', '6200', '4400', '600', '13000', '4164', '5600',\n",
              "       '5663', '109', '1086', '3445', '3350', '2359', '700', '2300',\n",
              "       '2999', '123', '122', '6100', '1699', '3800', '3150', '3342',\n",
              "       '3799', '150', '230', '1591', '4300', '3700', '1900', '7996',\n",
              "       '880', '6208', '2100', '3431', '599', '887', '3153', '8000',\n",
              "       '1199', '15000', '6000', '5438', '4966', '1323', '950', '2900',\n",
              "       '4163', '860', '3438', '1240', '3394', '6464', '900', '5496',\n",
              "       '993', '1981', '220', '6500', '5461', '3135', '997', '130', '200',\n",
              "       '3100', '2235', '14000', '2198', '6600', '696', '2171', '699',\n",
              "       '7700', '400', '10002', '14999', '170', '3311', '2237', '870',\n",
              "       '1797', '111', '125', '3450', '750', '933', '6300', '3189', '1991',\n",
              "       '1690', '5300', '4196', '5972', '4806', '3246', '2184', '550',\n",
              "       '11111', '222', '5874', '1111', '6597', '9464', '5400', '3420',\n",
              "       '308', '180', '7500', '548', '1667', '1668', '9999'], dtype=object)"
            ]
          },
          "metadata": {},
          "execution_count": 28
        }
      ],
      "source": [
        "df['vehicle_engine'].unique()"
      ]
    },
    {
      "cell_type": "code",
      "execution_count": 29,
      "metadata": {
        "id": "J2SFEgZOs5pu"
      },
      "outputs": [],
      "source": [
        "df['vehicle_engine'] = df['vehicle_engine'].astype(int)"
      ]
    },
    {
      "cell_type": "code",
      "source": [
        "df['vehicle_engine'].unique()"
      ],
      "metadata": {
        "colab": {
          "base_uri": "https://localhost:8080/"
        },
        "id": "ZbC_Uk1Cze6u",
        "outputId": "ca39645d-5fe0-4b1d-e9d2-e837afb3ed26"
      },
      "execution_count": 30,
      "outputs": [
        {
          "output_type": "execute_result",
          "data": {
            "text/plain": [
              "array([ 1490,  1000,  1300,  3500,  1800,  1500,  1600,   660,   800,\n",
              "        2000,   300,  2500,  4000,   100,  3378,  2800,  2700,  2600,\n",
              "         996,  2400,  1200,  4200,  1799,   539,  3400,  4600,  3000,\n",
              "        1100,   796,  1999,  1242,  1598,  1498,  1497,  5000,  1499,\n",
              "        4608, 10000,   998,  4700,   999,  4500,  5548,  4800,  1368,\n",
              "        1400,  2497,  3470,  3300,  1798,  2200,  3600,  3200,  4663,\n",
              "        3199,  1794,  1299,  1198,  1700,  3479,  5700,  2597,  5500,\n",
              "        4476, 12354,  1496,  6200,  4400,   600, 13000,  4164,  5600,\n",
              "        5663,   109,  1086,  3445,  3350,  2359,   700,  2300,  2999,\n",
              "         123,   122,  6100,  1699,  3800,  3150,  3342,  3799,   150,\n",
              "         230,  1591,  4300,  3700,  1900,  7996,   880,  6208,  2100,\n",
              "        3431,   599,   887,  3153,  8000,  1199, 15000,  6000,  5438,\n",
              "        4966,  1323,   950,  2900,  4163,   860,  3438,  1240,  3394,\n",
              "        6464,   900,  5496,   993,  1981,   220,  6500,  5461,  3135,\n",
              "         997,   130,   200,  3100,  2235, 14000,  2198,  6600,   696,\n",
              "        2171,   699,  7700,   400, 10002, 14999,   170,  3311,  2237,\n",
              "         870,  1797,   111,   125,  3450,   750,   933,  6300,  3189,\n",
              "        1991,  1690,  5300,  4196,  5972,  4806,  3246,  2184,   550,\n",
              "       11111,   222,  5874,  1111,  6597,  9464,  5400,  3420,   308,\n",
              "         180,  7500,   548,  1667,  1668,  9999])"
            ]
          },
          "metadata": {},
          "execution_count": 30
        }
      ]
    },
    {
      "cell_type": "markdown",
      "source": [
        "\"We have addressed the 'vehicle engine' column by removing unnecessary units ('cc') and converting the values to integers, streamlining the data and making it suitable for analysis.\""
      ],
      "metadata": {
        "id": "MK6NRQEc_8Qg"
      }
    },
    {
      "cell_type": "code",
      "execution_count": 31,
      "metadata": {
        "colab": {
          "base_uri": "https://localhost:8080/"
        },
        "id": "BTciCPSXHyDI",
        "outputId": "cd82a53e-bbe1-4593-95bf-6137818b45b0"
      },
      "outputs": [
        {
          "output_type": "execute_result",
          "data": {
            "text/plain": [
              "(59899, 8)"
            ]
          },
          "metadata": {},
          "execution_count": 31
        }
      ],
      "source": [
        "df.shape"
      ]
    },
    {
      "cell_type": "code",
      "execution_count": 32,
      "metadata": {
        "id": "uUyhoaACoKDa"
      },
      "outputs": [],
      "source": [
        "df.reset_index(drop=True, inplace=True)"
      ]
    },
    {
      "cell_type": "code",
      "execution_count": 33,
      "metadata": {
        "colab": {
          "base_uri": "https://localhost:8080/"
        },
        "id": "z45oh9rFbEM-",
        "outputId": "d6844cbe-4f7d-4cba-fc23-03c88647803f"
      },
      "outputs": [
        {
          "output_type": "stream",
          "name": "stdout",
          "text": [
            "<class 'pandas.core.frame.DataFrame'>\n",
            "RangeIndex: 59899 entries, 0 to 59898\n",
            "Data columns (total 8 columns):\n",
            " #   Column          Non-Null Count  Dtype \n",
            "---  ------          --------------  ----- \n",
            " 0   company         59899 non-null  object\n",
            " 1   name            59899 non-null  object\n",
            " 2   fuel_type       59899 non-null  object\n",
            " 3   kms_driven      59899 non-null  int64 \n",
            " 4   year            59899 non-null  int64 \n",
            " 5   price           59899 non-null  int64 \n",
            " 6   vehicle_engine  59899 non-null  int64 \n",
            " 7   vehicle_type    59899 non-null  object\n",
            "dtypes: int64(4), object(4)\n",
            "memory usage: 3.7+ MB\n"
          ]
        }
      ],
      "source": [
        "df.info()"
      ]
    },
    {
      "cell_type": "code",
      "execution_count": 34,
      "metadata": {
        "colab": {
          "base_uri": "https://localhost:8080/",
          "height": 0
        },
        "id": "fp9A4o-fjEhF",
        "outputId": "073e4110-e214-401a-9f22-d2c5f6538b0c"
      },
      "outputs": [
        {
          "output_type": "execute_result",
          "data": {
            "text/plain": [
              "      company            name fuel_type  kms_driven  year    price  \\\n",
              "0          MG           MG HS    Petrol        6000  2021  6525000   \n",
              "1      Toyota     Toyota Aygo    Petrol       68000  2021  1625000   \n",
              "2       Honda      Honda City    Petrol      150000  2021  2550000   \n",
              "3         KIA     KIA Sorento    Petrol       18000  2021  9000000   \n",
              "4      Toyota  Toyota Corolla    Petrol      110000  2021  3350000   \n",
              "...       ...             ...       ...         ...   ...      ...   \n",
              "59894     KIA    KIA Sportage    Petrol          10  2022  7900000   \n",
              "59895     KIA     KIA Picanto    Petrol          10  2022  3350000   \n",
              "59896  Suzuki    Suzuki Swift    Petrol          10  2022  4750000   \n",
              "59897  Suzuki  Suzuki Wagon R    Hybrid       15000  2018  3175000   \n",
              "59898  Toyota    Toyota Hilux    Petrol      169000  2009  5500000   \n",
              "\n",
              "       vehicle_engine vehicle_type  \n",
              "0                1490    Automatic  \n",
              "1                1000       Manual  \n",
              "2                1300    Automatic  \n",
              "3                3500    Automatic  \n",
              "4                1300    Automatic  \n",
              "...               ...          ...  \n",
              "59894            2000    Automatic  \n",
              "59895            1000    Automatic  \n",
              "59896            1200    Automatic  \n",
              "59897             660    Automatic  \n",
              "59898            3000    Automatic  \n",
              "\n",
              "[59899 rows x 8 columns]"
            ],
            "text/html": [
              "\n",
              "  <div id=\"df-b5126767-da3f-40bd-9db2-26d72cba034c\" class=\"colab-df-container\">\n",
              "    <div>\n",
              "<style scoped>\n",
              "    .dataframe tbody tr th:only-of-type {\n",
              "        vertical-align: middle;\n",
              "    }\n",
              "\n",
              "    .dataframe tbody tr th {\n",
              "        vertical-align: top;\n",
              "    }\n",
              "\n",
              "    .dataframe thead th {\n",
              "        text-align: right;\n",
              "    }\n",
              "</style>\n",
              "<table border=\"1\" class=\"dataframe\">\n",
              "  <thead>\n",
              "    <tr style=\"text-align: right;\">\n",
              "      <th></th>\n",
              "      <th>company</th>\n",
              "      <th>name</th>\n",
              "      <th>fuel_type</th>\n",
              "      <th>kms_driven</th>\n",
              "      <th>year</th>\n",
              "      <th>price</th>\n",
              "      <th>vehicle_engine</th>\n",
              "      <th>vehicle_type</th>\n",
              "    </tr>\n",
              "  </thead>\n",
              "  <tbody>\n",
              "    <tr>\n",
              "      <th>0</th>\n",
              "      <td>MG</td>\n",
              "      <td>MG HS</td>\n",
              "      <td>Petrol</td>\n",
              "      <td>6000</td>\n",
              "      <td>2021</td>\n",
              "      <td>6525000</td>\n",
              "      <td>1490</td>\n",
              "      <td>Automatic</td>\n",
              "    </tr>\n",
              "    <tr>\n",
              "      <th>1</th>\n",
              "      <td>Toyota</td>\n",
              "      <td>Toyota Aygo</td>\n",
              "      <td>Petrol</td>\n",
              "      <td>68000</td>\n",
              "      <td>2021</td>\n",
              "      <td>1625000</td>\n",
              "      <td>1000</td>\n",
              "      <td>Manual</td>\n",
              "    </tr>\n",
              "    <tr>\n",
              "      <th>2</th>\n",
              "      <td>Honda</td>\n",
              "      <td>Honda City</td>\n",
              "      <td>Petrol</td>\n",
              "      <td>150000</td>\n",
              "      <td>2021</td>\n",
              "      <td>2550000</td>\n",
              "      <td>1300</td>\n",
              "      <td>Automatic</td>\n",
              "    </tr>\n",
              "    <tr>\n",
              "      <th>3</th>\n",
              "      <td>KIA</td>\n",
              "      <td>KIA Sorento</td>\n",
              "      <td>Petrol</td>\n",
              "      <td>18000</td>\n",
              "      <td>2021</td>\n",
              "      <td>9000000</td>\n",
              "      <td>3500</td>\n",
              "      <td>Automatic</td>\n",
              "    </tr>\n",
              "    <tr>\n",
              "      <th>4</th>\n",
              "      <td>Toyota</td>\n",
              "      <td>Toyota Corolla</td>\n",
              "      <td>Petrol</td>\n",
              "      <td>110000</td>\n",
              "      <td>2021</td>\n",
              "      <td>3350000</td>\n",
              "      <td>1300</td>\n",
              "      <td>Automatic</td>\n",
              "    </tr>\n",
              "    <tr>\n",
              "      <th>...</th>\n",
              "      <td>...</td>\n",
              "      <td>...</td>\n",
              "      <td>...</td>\n",
              "      <td>...</td>\n",
              "      <td>...</td>\n",
              "      <td>...</td>\n",
              "      <td>...</td>\n",
              "      <td>...</td>\n",
              "    </tr>\n",
              "    <tr>\n",
              "      <th>59894</th>\n",
              "      <td>KIA</td>\n",
              "      <td>KIA Sportage</td>\n",
              "      <td>Petrol</td>\n",
              "      <td>10</td>\n",
              "      <td>2022</td>\n",
              "      <td>7900000</td>\n",
              "      <td>2000</td>\n",
              "      <td>Automatic</td>\n",
              "    </tr>\n",
              "    <tr>\n",
              "      <th>59895</th>\n",
              "      <td>KIA</td>\n",
              "      <td>KIA Picanto</td>\n",
              "      <td>Petrol</td>\n",
              "      <td>10</td>\n",
              "      <td>2022</td>\n",
              "      <td>3350000</td>\n",
              "      <td>1000</td>\n",
              "      <td>Automatic</td>\n",
              "    </tr>\n",
              "    <tr>\n",
              "      <th>59896</th>\n",
              "      <td>Suzuki</td>\n",
              "      <td>Suzuki Swift</td>\n",
              "      <td>Petrol</td>\n",
              "      <td>10</td>\n",
              "      <td>2022</td>\n",
              "      <td>4750000</td>\n",
              "      <td>1200</td>\n",
              "      <td>Automatic</td>\n",
              "    </tr>\n",
              "    <tr>\n",
              "      <th>59897</th>\n",
              "      <td>Suzuki</td>\n",
              "      <td>Suzuki Wagon R</td>\n",
              "      <td>Hybrid</td>\n",
              "      <td>15000</td>\n",
              "      <td>2018</td>\n",
              "      <td>3175000</td>\n",
              "      <td>660</td>\n",
              "      <td>Automatic</td>\n",
              "    </tr>\n",
              "    <tr>\n",
              "      <th>59898</th>\n",
              "      <td>Toyota</td>\n",
              "      <td>Toyota Hilux</td>\n",
              "      <td>Petrol</td>\n",
              "      <td>169000</td>\n",
              "      <td>2009</td>\n",
              "      <td>5500000</td>\n",
              "      <td>3000</td>\n",
              "      <td>Automatic</td>\n",
              "    </tr>\n",
              "  </tbody>\n",
              "</table>\n",
              "<p>59899 rows × 8 columns</p>\n",
              "</div>\n",
              "    <div class=\"colab-df-buttons\">\n",
              "\n",
              "  <div class=\"colab-df-container\">\n",
              "    <button class=\"colab-df-convert\" onclick=\"convertToInteractive('df-b5126767-da3f-40bd-9db2-26d72cba034c')\"\n",
              "            title=\"Convert this dataframe to an interactive table.\"\n",
              "            style=\"display:none;\">\n",
              "\n",
              "  <svg xmlns=\"http://www.w3.org/2000/svg\" height=\"24px\" viewBox=\"0 -960 960 960\">\n",
              "    <path d=\"M120-120v-720h720v720H120Zm60-500h600v-160H180v160Zm220 220h160v-160H400v160Zm0 220h160v-160H400v160ZM180-400h160v-160H180v160Zm440 0h160v-160H620v160ZM180-180h160v-160H180v160Zm440 0h160v-160H620v160Z\"/>\n",
              "  </svg>\n",
              "    </button>\n",
              "\n",
              "  <style>\n",
              "    .colab-df-container {\n",
              "      display:flex;\n",
              "      gap: 12px;\n",
              "    }\n",
              "\n",
              "    .colab-df-convert {\n",
              "      background-color: #E8F0FE;\n",
              "      border: none;\n",
              "      border-radius: 50%;\n",
              "      cursor: pointer;\n",
              "      display: none;\n",
              "      fill: #1967D2;\n",
              "      height: 32px;\n",
              "      padding: 0 0 0 0;\n",
              "      width: 32px;\n",
              "    }\n",
              "\n",
              "    .colab-df-convert:hover {\n",
              "      background-color: #E2EBFA;\n",
              "      box-shadow: 0px 1px 2px rgba(60, 64, 67, 0.3), 0px 1px 3px 1px rgba(60, 64, 67, 0.15);\n",
              "      fill: #174EA6;\n",
              "    }\n",
              "\n",
              "    .colab-df-buttons div {\n",
              "      margin-bottom: 4px;\n",
              "    }\n",
              "\n",
              "    [theme=dark] .colab-df-convert {\n",
              "      background-color: #3B4455;\n",
              "      fill: #D2E3FC;\n",
              "    }\n",
              "\n",
              "    [theme=dark] .colab-df-convert:hover {\n",
              "      background-color: #434B5C;\n",
              "      box-shadow: 0px 1px 3px 1px rgba(0, 0, 0, 0.15);\n",
              "      filter: drop-shadow(0px 1px 2px rgba(0, 0, 0, 0.3));\n",
              "      fill: #FFFFFF;\n",
              "    }\n",
              "  </style>\n",
              "\n",
              "    <script>\n",
              "      const buttonEl =\n",
              "        document.querySelector('#df-b5126767-da3f-40bd-9db2-26d72cba034c button.colab-df-convert');\n",
              "      buttonEl.style.display =\n",
              "        google.colab.kernel.accessAllowed ? 'block' : 'none';\n",
              "\n",
              "      async function convertToInteractive(key) {\n",
              "        const element = document.querySelector('#df-b5126767-da3f-40bd-9db2-26d72cba034c');\n",
              "        const dataTable =\n",
              "          await google.colab.kernel.invokeFunction('convertToInteractive',\n",
              "                                                    [key], {});\n",
              "        if (!dataTable) return;\n",
              "\n",
              "        const docLinkHtml = 'Like what you see? Visit the ' +\n",
              "          '<a target=\"_blank\" href=https://colab.research.google.com/notebooks/data_table.ipynb>data table notebook</a>'\n",
              "          + ' to learn more about interactive tables.';\n",
              "        element.innerHTML = '';\n",
              "        dataTable['output_type'] = 'display_data';\n",
              "        await google.colab.output.renderOutput(dataTable, element);\n",
              "        const docLink = document.createElement('div');\n",
              "        docLink.innerHTML = docLinkHtml;\n",
              "        element.appendChild(docLink);\n",
              "      }\n",
              "    </script>\n",
              "  </div>\n",
              "\n",
              "\n",
              "<div id=\"df-4abcd020-cf26-481b-aeb3-abfbbc03af23\">\n",
              "  <button class=\"colab-df-quickchart\" onclick=\"quickchart('df-4abcd020-cf26-481b-aeb3-abfbbc03af23')\"\n",
              "            title=\"Suggest charts.\"\n",
              "            style=\"display:none;\">\n",
              "\n",
              "<svg xmlns=\"http://www.w3.org/2000/svg\" height=\"24px\"viewBox=\"0 0 24 24\"\n",
              "     width=\"24px\">\n",
              "    <g>\n",
              "        <path d=\"M19 3H5c-1.1 0-2 .9-2 2v14c0 1.1.9 2 2 2h14c1.1 0 2-.9 2-2V5c0-1.1-.9-2-2-2zM9 17H7v-7h2v7zm4 0h-2V7h2v10zm4 0h-2v-4h2v4z\"/>\n",
              "    </g>\n",
              "</svg>\n",
              "  </button>\n",
              "\n",
              "<style>\n",
              "  .colab-df-quickchart {\n",
              "      --bg-color: #E8F0FE;\n",
              "      --fill-color: #1967D2;\n",
              "      --hover-bg-color: #E2EBFA;\n",
              "      --hover-fill-color: #174EA6;\n",
              "      --disabled-fill-color: #AAA;\n",
              "      --disabled-bg-color: #DDD;\n",
              "  }\n",
              "\n",
              "  [theme=dark] .colab-df-quickchart {\n",
              "      --bg-color: #3B4455;\n",
              "      --fill-color: #D2E3FC;\n",
              "      --hover-bg-color: #434B5C;\n",
              "      --hover-fill-color: #FFFFFF;\n",
              "      --disabled-bg-color: #3B4455;\n",
              "      --disabled-fill-color: #666;\n",
              "  }\n",
              "\n",
              "  .colab-df-quickchart {\n",
              "    background-color: var(--bg-color);\n",
              "    border: none;\n",
              "    border-radius: 50%;\n",
              "    cursor: pointer;\n",
              "    display: none;\n",
              "    fill: var(--fill-color);\n",
              "    height: 32px;\n",
              "    padding: 0;\n",
              "    width: 32px;\n",
              "  }\n",
              "\n",
              "  .colab-df-quickchart:hover {\n",
              "    background-color: var(--hover-bg-color);\n",
              "    box-shadow: 0 1px 2px rgba(60, 64, 67, 0.3), 0 1px 3px 1px rgba(60, 64, 67, 0.15);\n",
              "    fill: var(--button-hover-fill-color);\n",
              "  }\n",
              "\n",
              "  .colab-df-quickchart-complete:disabled,\n",
              "  .colab-df-quickchart-complete:disabled:hover {\n",
              "    background-color: var(--disabled-bg-color);\n",
              "    fill: var(--disabled-fill-color);\n",
              "    box-shadow: none;\n",
              "  }\n",
              "\n",
              "  .colab-df-spinner {\n",
              "    border: 2px solid var(--fill-color);\n",
              "    border-color: transparent;\n",
              "    border-bottom-color: var(--fill-color);\n",
              "    animation:\n",
              "      spin 1s steps(1) infinite;\n",
              "  }\n",
              "\n",
              "  @keyframes spin {\n",
              "    0% {\n",
              "      border-color: transparent;\n",
              "      border-bottom-color: var(--fill-color);\n",
              "      border-left-color: var(--fill-color);\n",
              "    }\n",
              "    20% {\n",
              "      border-color: transparent;\n",
              "      border-left-color: var(--fill-color);\n",
              "      border-top-color: var(--fill-color);\n",
              "    }\n",
              "    30% {\n",
              "      border-color: transparent;\n",
              "      border-left-color: var(--fill-color);\n",
              "      border-top-color: var(--fill-color);\n",
              "      border-right-color: var(--fill-color);\n",
              "    }\n",
              "    40% {\n",
              "      border-color: transparent;\n",
              "      border-right-color: var(--fill-color);\n",
              "      border-top-color: var(--fill-color);\n",
              "    }\n",
              "    60% {\n",
              "      border-color: transparent;\n",
              "      border-right-color: var(--fill-color);\n",
              "    }\n",
              "    80% {\n",
              "      border-color: transparent;\n",
              "      border-right-color: var(--fill-color);\n",
              "      border-bottom-color: var(--fill-color);\n",
              "    }\n",
              "    90% {\n",
              "      border-color: transparent;\n",
              "      border-bottom-color: var(--fill-color);\n",
              "    }\n",
              "  }\n",
              "</style>\n",
              "\n",
              "  <script>\n",
              "    async function quickchart(key) {\n",
              "      const quickchartButtonEl =\n",
              "        document.querySelector('#' + key + ' button');\n",
              "      quickchartButtonEl.disabled = true;  // To prevent multiple clicks.\n",
              "      quickchartButtonEl.classList.add('colab-df-spinner');\n",
              "      try {\n",
              "        const charts = await google.colab.kernel.invokeFunction(\n",
              "            'suggestCharts', [key], {});\n",
              "      } catch (error) {\n",
              "        console.error('Error during call to suggestCharts:', error);\n",
              "      }\n",
              "      quickchartButtonEl.classList.remove('colab-df-spinner');\n",
              "      quickchartButtonEl.classList.add('colab-df-quickchart-complete');\n",
              "    }\n",
              "    (() => {\n",
              "      let quickchartButtonEl =\n",
              "        document.querySelector('#df-4abcd020-cf26-481b-aeb3-abfbbc03af23 button');\n",
              "      quickchartButtonEl.style.display =\n",
              "        google.colab.kernel.accessAllowed ? 'block' : 'none';\n",
              "    })();\n",
              "  </script>\n",
              "</div>\n",
              "    </div>\n",
              "  </div>\n"
            ]
          },
          "metadata": {},
          "execution_count": 34
        }
      ],
      "source": [
        "df"
      ]
    },
    {
      "cell_type": "code",
      "execution_count": 35,
      "metadata": {
        "colab": {
          "base_uri": "https://localhost:8080/",
          "height": 0
        },
        "id": "XKwtBvejjwGZ",
        "outputId": "dde014c6-c7a6-498d-fe60-73cda5b436e6"
      },
      "outputs": [
        {
          "output_type": "execute_result",
          "data": {
            "text/plain": [
              "           kms_driven          year         price  vehicle_engine\n",
              "count    59899.000000  59899.000000  5.989900e+04    59899.000000\n",
              "mean     89710.802334   2011.852752  3.558735e+06     1446.223960\n",
              "std      92317.358986      9.501702  5.396581e+06      760.857869\n",
              "min          1.000000   1942.000000  1.780000e+03      100.000000\n",
              "25%      26000.000000   2006.000000  1.197000e+06     1000.000000\n",
              "50%      78000.000000   2014.000000  2.300000e+06     1300.000000\n",
              "75%     123456.000000   2020.000000  4.100000e+06     1600.000000\n",
              "max    1000000.000000   2023.000000  2.100000e+08    15000.000000"
            ],
            "text/html": [
              "\n",
              "  <div id=\"df-169909f7-e7f0-450f-b168-c4059e78bdd3\" class=\"colab-df-container\">\n",
              "    <div>\n",
              "<style scoped>\n",
              "    .dataframe tbody tr th:only-of-type {\n",
              "        vertical-align: middle;\n",
              "    }\n",
              "\n",
              "    .dataframe tbody tr th {\n",
              "        vertical-align: top;\n",
              "    }\n",
              "\n",
              "    .dataframe thead th {\n",
              "        text-align: right;\n",
              "    }\n",
              "</style>\n",
              "<table border=\"1\" class=\"dataframe\">\n",
              "  <thead>\n",
              "    <tr style=\"text-align: right;\">\n",
              "      <th></th>\n",
              "      <th>kms_driven</th>\n",
              "      <th>year</th>\n",
              "      <th>price</th>\n",
              "      <th>vehicle_engine</th>\n",
              "    </tr>\n",
              "  </thead>\n",
              "  <tbody>\n",
              "    <tr>\n",
              "      <th>count</th>\n",
              "      <td>59899.000000</td>\n",
              "      <td>59899.000000</td>\n",
              "      <td>5.989900e+04</td>\n",
              "      <td>59899.000000</td>\n",
              "    </tr>\n",
              "    <tr>\n",
              "      <th>mean</th>\n",
              "      <td>89710.802334</td>\n",
              "      <td>2011.852752</td>\n",
              "      <td>3.558735e+06</td>\n",
              "      <td>1446.223960</td>\n",
              "    </tr>\n",
              "    <tr>\n",
              "      <th>std</th>\n",
              "      <td>92317.358986</td>\n",
              "      <td>9.501702</td>\n",
              "      <td>5.396581e+06</td>\n",
              "      <td>760.857869</td>\n",
              "    </tr>\n",
              "    <tr>\n",
              "      <th>min</th>\n",
              "      <td>1.000000</td>\n",
              "      <td>1942.000000</td>\n",
              "      <td>1.780000e+03</td>\n",
              "      <td>100.000000</td>\n",
              "    </tr>\n",
              "    <tr>\n",
              "      <th>25%</th>\n",
              "      <td>26000.000000</td>\n",
              "      <td>2006.000000</td>\n",
              "      <td>1.197000e+06</td>\n",
              "      <td>1000.000000</td>\n",
              "    </tr>\n",
              "    <tr>\n",
              "      <th>50%</th>\n",
              "      <td>78000.000000</td>\n",
              "      <td>2014.000000</td>\n",
              "      <td>2.300000e+06</td>\n",
              "      <td>1300.000000</td>\n",
              "    </tr>\n",
              "    <tr>\n",
              "      <th>75%</th>\n",
              "      <td>123456.000000</td>\n",
              "      <td>2020.000000</td>\n",
              "      <td>4.100000e+06</td>\n",
              "      <td>1600.000000</td>\n",
              "    </tr>\n",
              "    <tr>\n",
              "      <th>max</th>\n",
              "      <td>1000000.000000</td>\n",
              "      <td>2023.000000</td>\n",
              "      <td>2.100000e+08</td>\n",
              "      <td>15000.000000</td>\n",
              "    </tr>\n",
              "  </tbody>\n",
              "</table>\n",
              "</div>\n",
              "    <div class=\"colab-df-buttons\">\n",
              "\n",
              "  <div class=\"colab-df-container\">\n",
              "    <button class=\"colab-df-convert\" onclick=\"convertToInteractive('df-169909f7-e7f0-450f-b168-c4059e78bdd3')\"\n",
              "            title=\"Convert this dataframe to an interactive table.\"\n",
              "            style=\"display:none;\">\n",
              "\n",
              "  <svg xmlns=\"http://www.w3.org/2000/svg\" height=\"24px\" viewBox=\"0 -960 960 960\">\n",
              "    <path d=\"M120-120v-720h720v720H120Zm60-500h600v-160H180v160Zm220 220h160v-160H400v160Zm0 220h160v-160H400v160ZM180-400h160v-160H180v160Zm440 0h160v-160H620v160ZM180-180h160v-160H180v160Zm440 0h160v-160H620v160Z\"/>\n",
              "  </svg>\n",
              "    </button>\n",
              "\n",
              "  <style>\n",
              "    .colab-df-container {\n",
              "      display:flex;\n",
              "      gap: 12px;\n",
              "    }\n",
              "\n",
              "    .colab-df-convert {\n",
              "      background-color: #E8F0FE;\n",
              "      border: none;\n",
              "      border-radius: 50%;\n",
              "      cursor: pointer;\n",
              "      display: none;\n",
              "      fill: #1967D2;\n",
              "      height: 32px;\n",
              "      padding: 0 0 0 0;\n",
              "      width: 32px;\n",
              "    }\n",
              "\n",
              "    .colab-df-convert:hover {\n",
              "      background-color: #E2EBFA;\n",
              "      box-shadow: 0px 1px 2px rgba(60, 64, 67, 0.3), 0px 1px 3px 1px rgba(60, 64, 67, 0.15);\n",
              "      fill: #174EA6;\n",
              "    }\n",
              "\n",
              "    .colab-df-buttons div {\n",
              "      margin-bottom: 4px;\n",
              "    }\n",
              "\n",
              "    [theme=dark] .colab-df-convert {\n",
              "      background-color: #3B4455;\n",
              "      fill: #D2E3FC;\n",
              "    }\n",
              "\n",
              "    [theme=dark] .colab-df-convert:hover {\n",
              "      background-color: #434B5C;\n",
              "      box-shadow: 0px 1px 3px 1px rgba(0, 0, 0, 0.15);\n",
              "      filter: drop-shadow(0px 1px 2px rgba(0, 0, 0, 0.3));\n",
              "      fill: #FFFFFF;\n",
              "    }\n",
              "  </style>\n",
              "\n",
              "    <script>\n",
              "      const buttonEl =\n",
              "        document.querySelector('#df-169909f7-e7f0-450f-b168-c4059e78bdd3 button.colab-df-convert');\n",
              "      buttonEl.style.display =\n",
              "        google.colab.kernel.accessAllowed ? 'block' : 'none';\n",
              "\n",
              "      async function convertToInteractive(key) {\n",
              "        const element = document.querySelector('#df-169909f7-e7f0-450f-b168-c4059e78bdd3');\n",
              "        const dataTable =\n",
              "          await google.colab.kernel.invokeFunction('convertToInteractive',\n",
              "                                                    [key], {});\n",
              "        if (!dataTable) return;\n",
              "\n",
              "        const docLinkHtml = 'Like what you see? Visit the ' +\n",
              "          '<a target=\"_blank\" href=https://colab.research.google.com/notebooks/data_table.ipynb>data table notebook</a>'\n",
              "          + ' to learn more about interactive tables.';\n",
              "        element.innerHTML = '';\n",
              "        dataTable['output_type'] = 'display_data';\n",
              "        await google.colab.output.renderOutput(dataTable, element);\n",
              "        const docLink = document.createElement('div');\n",
              "        docLink.innerHTML = docLinkHtml;\n",
              "        element.appendChild(docLink);\n",
              "      }\n",
              "    </script>\n",
              "  </div>\n",
              "\n",
              "\n",
              "<div id=\"df-7da43c1d-df1d-4a3f-a56d-e4b0bc783b20\">\n",
              "  <button class=\"colab-df-quickchart\" onclick=\"quickchart('df-7da43c1d-df1d-4a3f-a56d-e4b0bc783b20')\"\n",
              "            title=\"Suggest charts.\"\n",
              "            style=\"display:none;\">\n",
              "\n",
              "<svg xmlns=\"http://www.w3.org/2000/svg\" height=\"24px\"viewBox=\"0 0 24 24\"\n",
              "     width=\"24px\">\n",
              "    <g>\n",
              "        <path d=\"M19 3H5c-1.1 0-2 .9-2 2v14c0 1.1.9 2 2 2h14c1.1 0 2-.9 2-2V5c0-1.1-.9-2-2-2zM9 17H7v-7h2v7zm4 0h-2V7h2v10zm4 0h-2v-4h2v4z\"/>\n",
              "    </g>\n",
              "</svg>\n",
              "  </button>\n",
              "\n",
              "<style>\n",
              "  .colab-df-quickchart {\n",
              "      --bg-color: #E8F0FE;\n",
              "      --fill-color: #1967D2;\n",
              "      --hover-bg-color: #E2EBFA;\n",
              "      --hover-fill-color: #174EA6;\n",
              "      --disabled-fill-color: #AAA;\n",
              "      --disabled-bg-color: #DDD;\n",
              "  }\n",
              "\n",
              "  [theme=dark] .colab-df-quickchart {\n",
              "      --bg-color: #3B4455;\n",
              "      --fill-color: #D2E3FC;\n",
              "      --hover-bg-color: #434B5C;\n",
              "      --hover-fill-color: #FFFFFF;\n",
              "      --disabled-bg-color: #3B4455;\n",
              "      --disabled-fill-color: #666;\n",
              "  }\n",
              "\n",
              "  .colab-df-quickchart {\n",
              "    background-color: var(--bg-color);\n",
              "    border: none;\n",
              "    border-radius: 50%;\n",
              "    cursor: pointer;\n",
              "    display: none;\n",
              "    fill: var(--fill-color);\n",
              "    height: 32px;\n",
              "    padding: 0;\n",
              "    width: 32px;\n",
              "  }\n",
              "\n",
              "  .colab-df-quickchart:hover {\n",
              "    background-color: var(--hover-bg-color);\n",
              "    box-shadow: 0 1px 2px rgba(60, 64, 67, 0.3), 0 1px 3px 1px rgba(60, 64, 67, 0.15);\n",
              "    fill: var(--button-hover-fill-color);\n",
              "  }\n",
              "\n",
              "  .colab-df-quickchart-complete:disabled,\n",
              "  .colab-df-quickchart-complete:disabled:hover {\n",
              "    background-color: var(--disabled-bg-color);\n",
              "    fill: var(--disabled-fill-color);\n",
              "    box-shadow: none;\n",
              "  }\n",
              "\n",
              "  .colab-df-spinner {\n",
              "    border: 2px solid var(--fill-color);\n",
              "    border-color: transparent;\n",
              "    border-bottom-color: var(--fill-color);\n",
              "    animation:\n",
              "      spin 1s steps(1) infinite;\n",
              "  }\n",
              "\n",
              "  @keyframes spin {\n",
              "    0% {\n",
              "      border-color: transparent;\n",
              "      border-bottom-color: var(--fill-color);\n",
              "      border-left-color: var(--fill-color);\n",
              "    }\n",
              "    20% {\n",
              "      border-color: transparent;\n",
              "      border-left-color: var(--fill-color);\n",
              "      border-top-color: var(--fill-color);\n",
              "    }\n",
              "    30% {\n",
              "      border-color: transparent;\n",
              "      border-left-color: var(--fill-color);\n",
              "      border-top-color: var(--fill-color);\n",
              "      border-right-color: var(--fill-color);\n",
              "    }\n",
              "    40% {\n",
              "      border-color: transparent;\n",
              "      border-right-color: var(--fill-color);\n",
              "      border-top-color: var(--fill-color);\n",
              "    }\n",
              "    60% {\n",
              "      border-color: transparent;\n",
              "      border-right-color: var(--fill-color);\n",
              "    }\n",
              "    80% {\n",
              "      border-color: transparent;\n",
              "      border-right-color: var(--fill-color);\n",
              "      border-bottom-color: var(--fill-color);\n",
              "    }\n",
              "    90% {\n",
              "      border-color: transparent;\n",
              "      border-bottom-color: var(--fill-color);\n",
              "    }\n",
              "  }\n",
              "</style>\n",
              "\n",
              "  <script>\n",
              "    async function quickchart(key) {\n",
              "      const quickchartButtonEl =\n",
              "        document.querySelector('#' + key + ' button');\n",
              "      quickchartButtonEl.disabled = true;  // To prevent multiple clicks.\n",
              "      quickchartButtonEl.classList.add('colab-df-spinner');\n",
              "      try {\n",
              "        const charts = await google.colab.kernel.invokeFunction(\n",
              "            'suggestCharts', [key], {});\n",
              "      } catch (error) {\n",
              "        console.error('Error during call to suggestCharts:', error);\n",
              "      }\n",
              "      quickchartButtonEl.classList.remove('colab-df-spinner');\n",
              "      quickchartButtonEl.classList.add('colab-df-quickchart-complete');\n",
              "    }\n",
              "    (() => {\n",
              "      let quickchartButtonEl =\n",
              "        document.querySelector('#df-7da43c1d-df1d-4a3f-a56d-e4b0bc783b20 button');\n",
              "      quickchartButtonEl.style.display =\n",
              "        google.colab.kernel.accessAllowed ? 'block' : 'none';\n",
              "    })();\n",
              "  </script>\n",
              "</div>\n",
              "    </div>\n",
              "  </div>\n"
            ]
          },
          "metadata": {},
          "execution_count": 35
        }
      ],
      "source": [
        "df.describe()"
      ]
    },
    {
      "cell_type": "code",
      "execution_count": 36,
      "metadata": {
        "id": "L0HX2AYYN7HN"
      },
      "outputs": [],
      "source": [
        "import matplotlib.pyplot as plt\n",
        "import seaborn as sns"
      ]
    },
    {
      "cell_type": "code",
      "source": [
        "# Get the counts of each unique company in the 'company' column\n",
        "company_counts = df['company'].value_counts()\n",
        "\n",
        "# Create a horizontal bar chart\n",
        "plt.figure(figsize=(10, 6))  # Adjust the figure size if needed\n",
        "company_counts[:10].plot(kind='barh', color='skyblue')  # Show the top 10 companies, you can adjust this number\n",
        "plt.title('Top Companies by Count')\n",
        "plt.xlabel('Count')\n",
        "plt.ylabel('Company')\n",
        "\n",
        "plt.tight_layout()\n",
        "\n",
        "# Show the chart\n",
        "plt.show()"
      ],
      "metadata": {
        "colab": {
          "base_uri": "https://localhost:8080/",
          "height": 0
        },
        "id": "W9ZP6w4o6Vup",
        "outputId": "6e8fb593-28a9-4417-c88f-814748036ef3"
      },
      "execution_count": 37,
      "outputs": [
        {
          "output_type": "display_data",
          "data": {
            "text/plain": [
              "<Figure size 1000x600 with 1 Axes>"
            ],
            "image/png": "[encoded data removed]"
          },
          "metadata": {}
        }
      ]
    },
    {
      "cell_type": "code",
      "execution_count": 38,
      "metadata": {
        "colab": {
          "base_uri": "https://localhost:8080/",
          "height": 0
        },
        "id": "g087DpXtPXSd",
        "outputId": "508f61ab-ceea-4886-c114-abce2da0a304"
      },
      "outputs": [
        {
          "output_type": "execute_result",
          "data": {
            "text/plain": [
              "(array([2.0000e+00, 3.0000e+00, 3.1000e+01, 7.7000e+01, 2.6200e+02,\n",
              "        1.9200e+03, 3.7450e+03, 9.5970e+03, 1.5177e+04, 2.9085e+04]),\n",
              " array([1942. , 1950.1, 1958.2, 1966.3, 1974.4, 1982.5, 1990.6, 1998.7,\n",
              "        2006.8, 2014.9, 2023. ]),\n",
              " <BarContainer object of 10 artists>)"
            ]
          },
          "metadata": {},
          "execution_count": 38
        },
        {
          "output_type": "display_data",
          "data": {
            "text/plain": [
              "<Figure size 640x480 with 1 Axes>"
            ],
            "image/png": "[encoded data removed]"
          },
          "metadata": {}
        }
      ],
      "source": [
        "plt.hist(df['year'])"
      ]
    },
    {
      "cell_type": "code",
      "execution_count": 39,
      "metadata": {
        "id": "VcTJPuh3Pyay",
        "colab": {
          "base_uri": "https://localhost:8080/",
          "height": 0
        },
        "outputId": "239f9f09-78a6-4e1b-dce8-b1593128ad61"
      },
      "outputs": [
        {
          "output_type": "execute_result",
          "data": {
            "text/plain": [
              "<Axes: xlabel='price'>"
            ]
          },
          "metadata": {},
          "execution_count": 39
        },
        {
          "output_type": "display_data",
          "data": {
            "text/plain": [
              "<Figure size 640x480 with 1 Axes>"
            ],
            "image/png": "[encoded data removed]"
          },
          "metadata": {}
        }
      ],
      "source": [
        "sns.boxplot(x=df['price'])"
      ]
    },
    {
      "cell_type": "code",
      "execution_count": 40,
      "metadata": {
        "colab": {
          "base_uri": "https://localhost:8080/"
        },
        "id": "DBb5lDSAQH-N",
        "outputId": "2fcb05b8-38a2-485d-f632-79b69da1c72d"
      },
      "outputs": [
        {
          "output_type": "execute_result",
          "data": {
            "text/plain": [
              "[210000000,\n",
              " 200000000,\n",
              " 199000000,\n",
              " 130000000,\n",
              " 130000000,\n",
              " 119600000,\n",
              " 119600000,\n",
              " 119500000,\n",
              " 119500000,\n",
              " 115000000,\n",
              " 115000000,\n",
              " 115000000,\n",
              " 113000000,\n",
              " 110000000,\n",
              " 110000000,\n",
              " 110000000,\n",
              " 108000000,\n",
              " 105000000,\n",
              " 105000000,\n",
              " 102500000,\n",
              " 102500000,\n",
              " 99500000,\n",
              " 99500000,\n",
              " 99000000,\n",
              " 96000000,\n",
              " 96000000,\n",
              " 96000000,\n",
              " 95500000,\n",
              " 95000000,\n",
              " 89000000,\n",
              " 86000000,\n",
              " 85000000,\n",
              " 84000000,\n",
              " 84000000,\n",
              " 83000000,\n",
              " 80000000,\n",
              " 80000000,\n",
              " 80000000,\n",
              " 80000000,\n",
              " 80000000,\n",
              " 80000000,\n",
              " 75000000,\n",
              " 75000000,\n",
              " 75000000,\n",
              " 75000000,\n",
              " 72500000,\n",
              " 72500000,\n",
              " 72500000,\n",
              " 72500000,\n",
              " 70000000,\n",
              " 70000000,\n",
              " 70000000,\n",
              " 70000000,\n",
              " 70000000,\n",
              " 70000000,\n",
              " 69900000,\n",
              " 69000000,\n",
              " 69000000,\n",
              " 68000000,\n",
              " 68000000,\n",
              " 67500000,\n",
              " 67500000,\n",
              " 66000000,\n",
              " 65500000,\n",
              " 64500000,\n",
              " 64500000,\n",
              " 63500000,\n",
              " 63500000,\n",
              " 62500000,\n",
              " 62500000,\n",
              " 61500000,\n",
              " 61500000,\n",
              " 60000000,\n",
              " 60000000,\n",
              " 59900000,\n",
              " 59900000,\n",
              " 59900000,\n",
              " 59500000,\n",
              " 59500000,\n",
              " 59500000,\n",
              " 59500000,\n",
              " 58500000,\n",
              " 58500000,\n",
              " 58500000,\n",
              " 58000000,\n",
              " 58000000,\n",
              " 58000000,\n",
              " 57500000,\n",
              " 57000000,\n",
              " 55000000,\n",
              " 55000000,\n",
              " 55000000,\n",
              " 55000000,\n",
              " 55000000,\n",
              " 55000000,\n",
              " 55000000,\n",
              " 55000000,\n",
              " 55000000,\n",
              " 54500000,\n",
              " 54500000,\n",
              " 54000000,\n",
              " 54000000,\n",
              " 53700000,\n",
              " 53500000,\n",
              " 53500000,\n",
              " 52500000,\n",
              " 52500000,\n",
              " 52500000,\n",
              " 52200000,\n",
              " 52100000,\n",
              " 52100000,\n",
              " 52000000,\n",
              " 52000000,\n",
              " 52000000,\n",
              " 51500000,\n",
              " 51000000,\n",
              " 50000000,\n",
              " 50000000,\n",
              " 50000000,\n",
              " 50000000,\n",
              " 50000000,\n",
              " 49500000,\n",
              " 49500000,\n",
              " 49500000,\n",
              " 49500000,\n",
              " 49300000,\n",
              " 49000000,\n",
              " 49000000,\n",
              " 48500000,\n",
              " 48000000,\n",
              " 48000000,\n",
              " 48000000,\n",
              " 47500000,\n",
              " 47500000,\n",
              " 47500000,\n",
              " 47000000,\n",
              " 47000000,\n",
              " 47000000,\n",
              " 47000000,\n",
              " 47000000,\n",
              " 46500000,\n",
              " 46500000,\n",
              " 46000000,\n",
              " 46000000,\n",
              " 46000000,\n",
              " 46000000,\n",
              " 46000000,\n",
              " 46000000,\n",
              " 45000000,\n",
              " 45000000,\n",
              " 45000000,\n",
              " 45000000,\n",
              " 45000000,\n",
              " 45000000,\n",
              " 45000000,\n",
              " 45000000,\n",
              " 45000000,\n",
              " 45000000,\n",
              " 45000000,\n",
              " 45000000,\n",
              " 45000000,\n",
              " 45000000,\n",
              " 45000000,\n",
              " 45000000,\n",
              " 44800000,\n",
              " 44000000,\n",
              " 43500000,\n",
              " 43500000,\n",
              " 43500000,\n",
              " 43500000,\n",
              " 43500000,\n",
              " 43500000,\n",
              " 43500000,\n",
              " 43500000,\n",
              " 43500000,\n",
              " 43000000,\n",
              " 43000000,\n",
              " 43000000,\n",
              " 43000000,\n",
              " 43000000,\n",
              " 43000000,\n",
              " 42500000,\n",
              " 42500000,\n",
              " 42500000,\n",
              " 42500000,\n",
              " 42000000,\n",
              " 42000000,\n",
              " 42000000,\n",
              " 42000000,\n",
              " 42000000,\n",
              " 41800000,\n",
              " 41500000,\n",
              " 41500000,\n",
              " 41500000,\n",
              " 41500000,\n",
              " 41500000,\n",
              " 41000000,\n",
              " 41000000,\n",
              " 41000000,\n",
              " 41000000,\n",
              " 40500000,\n",
              " 40500000,\n",
              " 40500000,\n",
              " 40500000,\n",
              " 40000000,\n",
              " 40000000,\n",
              " 39900000,\n",
              " 39900000,\n",
              " 39900000,\n",
              " 39900000,\n",
              " 39800000,\n",
              " 39800000,\n",
              " 39700000,\n",
              " 39500000,\n",
              " 39500000,\n",
              " 39500000,\n",
              " 39500000,\n",
              " 39000000,\n",
              " 39000000,\n",
              " 39000000,\n",
              " 39000000,\n",
              " 39000000,\n",
              " 39000000,\n",
              " 39000000,\n",
              " 39000000,\n",
              " 39000000,\n",
              " 38500000,\n",
              " 38500000,\n",
              " 38500000,\n",
              " 38500000,\n",
              " 38500000,\n",
              " 38500000,\n",
              " 38500000,\n",
              " 38500000,\n",
              " 38500000,\n",
              " 38500000,\n",
              " 38500000,\n",
              " 38400000,\n",
              " 38000000,\n",
              " 38000000,\n",
              " 38000000,\n",
              " 37900000,\n",
              " 37500000,\n",
              " 37500000,\n",
              " 37500000,\n",
              " 37500000,\n",
              " 37500000,\n",
              " 37500000,\n",
              " 37500000,\n",
              " 37500000,\n",
              " 37000000,\n",
              " 37000000,\n",
              " 37000000,\n",
              " 37000000,\n",
              " 37000000,\n",
              " 37000000,\n",
              " 37000000,\n",
              " 37000000,\n",
              " 37000000,\n",
              " 36500000,\n",
              " 36500000,\n",
              " 36500000,\n",
              " 36500000,\n",
              " 36500000,\n",
              " 36500000,\n",
              " 36500000,\n",
              " 36500000,\n",
              " 36000000,\n",
              " 36000000,\n",
              " 36000000,\n",
              " 36000000,\n",
              " 36000000,\n",
              " 36000000,\n",
              " 36000000,\n",
              " 36000000,\n",
              " 36000000,\n",
              " 36000000,\n",
              " 35700000,\n",
              " 35700000,\n",
              " 35500000,\n",
              " 35500000,\n",
              " 35500000,\n",
              " 35500000,\n",
              " 35000000,\n",
              " 35000000,\n",
              " 35000000,\n",
              " 35000000,\n",
              " 35000000,\n",
              " 35000000,\n",
              " 35000000,\n",
              " 35000000,\n",
              " 35000000,\n",
              " 35000000,\n",
              " 35000000,\n",
              " 34500000,\n",
              " 34500000,\n",
              " 34500000,\n",
              " 34500000,\n",
              " 34000000,\n",
              " 34000000,\n",
              " 34000000,\n",
              " 34000000,\n",
              " 34000000,\n",
              " 34000000,\n",
              " 34000000,\n",
              " 33800000,\n",
              " 33800000,\n",
              " 33500000,\n",
              " 33500000,\n",
              " 33500000,\n",
              " 33500000,\n",
              " 33500000,\n",
              " 33500000,\n",
              " 33000000,\n",
              " 33000000,\n",
              " 33000000,\n",
              " 33000000,\n",
              " 33000000,\n",
              " 33000000,\n",
              " 33000000,\n",
              " 33000000,\n",
              " 32700000,\n",
              " 32700000,\n",
              " 32500000,\n",
              " 32500000,\n",
              " 32500000,\n",
              " 32500000,\n",
              " 32500000,\n",
              " 32500000,\n",
              " 32500000,\n",
              " 32500000,\n",
              " 32500000,\n",
              " 32500000,\n",
              " 32500000,\n",
              " 32500000,\n",
              " 32500000,\n",
              " 32400000,\n",
              " 32400000,\n",
              " 32200000,\n",
              " 32200000,\n",
              " 32100000,\n",
              " 32100000,\n",
              " 32000000,\n",
              " 32000000,\n",
              " 32000000,\n",
              " 32000000,\n",
              " 32000000,\n",
              " 32000000,\n",
              " 32000000,\n",
              " 32000000,\n",
              " 32000000,\n",
              " 31800000,\n",
              " 31800000,\n",
              " 31500000,\n",
              " 31000000,\n",
              " 30500000,\n",
              " 30500000,\n",
              " 30500000,\n",
              " 30000000,\n",
              " 30000000,\n",
              " 30000000,\n",
              " 30000000,\n",
              " 30000000,\n",
              " 30000000,\n",
              " 30000000,\n",
              " 30000000,\n",
              " 30000000,\n",
              " 30000000,\n",
              " 30000000,\n",
              " 30000000,\n",
              " 30000000,\n",
              " 30000000,\n",
              " 30000000,\n",
              " 29900000,\n",
              " 29900000,\n",
              " 29900000,\n",
              " 29700000,\n",
              " 29550000,\n",
              " 29550000,\n",
              " 29500000,\n",
              " 29500000,\n",
              " 29500000,\n",
              " 29500000,\n",
              " 29500000,\n",
              " 29500000,\n",
              " 29500000,\n",
              " 29500000,\n",
              " 29500000,\n",
              " 29500000,\n",
              " 29500000,\n",
              " 29500000,\n",
              " 29500000,\n",
              " 29500000,\n",
              " 29500000,\n",
              " 29500000,\n",
              " 29500000,\n",
              " 29400000,\n",
              " 29400000,\n",
              " 29000000,\n",
              " 29000000,\n",
              " 29000000,\n",
              " 29000000,\n",
              " 29000000,\n",
              " 29000000,\n",
              " 29000000,\n",
              " 29000000,\n",
              " 29000000,\n",
              " 29000000,\n",
              " 29000000,\n",
              " 29000000,\n",
              " 29000000,\n",
              " 29000000,\n",
              " 28900000,\n",
              " 28500000,\n",
              " 28500000,\n",
              " 28500000,\n",
              " 28500000,\n",
              " 28500000,\n",
              " 28500000,\n",
              " 28500000,\n",
              " 28500000,\n",
              " 28500000,\n",
              " 28500000,\n",
              " 28500000,\n",
              " 28500000,\n",
              " 28500000,\n",
              " 28500000,\n",
              " 28500000,\n",
              " 28500000,\n",
              " 28000000,\n",
              " 28000000,\n",
              " 28000000,\n",
              " 28000000,\n",
              " 28000000,\n",
              " 28000000,\n",
              " 28000000,\n",
              " 28000000,\n",
              " 28000000,\n",
              " 28000000,\n",
              " 28000000,\n",
              " 27750000,\n",
              " 27600000,\n",
              " 27500000,\n",
              " 27500000,\n",
              " 27500000,\n",
              " 27500000,\n",
              " 27500000,\n",
              " 27500000,\n",
              " 27500000,\n",
              " 27500000,\n",
              " 27500000,\n",
              " 27500000,\n",
              " 27500000,\n",
              " 27500000,\n",
              " 27500000,\n",
              " 27500000,\n",
              " 27500000,\n",
              " 27500000,\n",
              " 27500000,\n",
              " 27500000,\n",
              " 27500000,\n",
              " 27500000,\n",
              " 27300000,\n",
              " 27200000,\n",
              " 27200000,\n",
              " 27200000,\n",
              " 27000000,\n",
              " 27000000,\n",
              " 27000000,\n",
              " 27000000,\n",
              " 27000000,\n",
              " 27000000,\n",
              " 27000000,\n",
              " 27000000,\n",
              " 27000000,\n",
              " 27000000,\n",
              " 27000000,\n",
              " 27000000,\n",
              " 27000000,\n",
              " 27000000,\n",
              " 26900000,\n",
              " 26900000,\n",
              " 26900000,\n",
              " 26900000,\n",
              " 26500000,\n",
              " 26500000,\n",
              " 26500000,\n",
              " 26500000,\n",
              " 26500000,\n",
              " 26500000,\n",
              " 26500000,\n",
              " 26500000,\n",
              " 26500000,\n",
              " 26500000,\n",
              " 26500000,\n",
              " 26500000,\n",
              " 26500000,\n",
              " 26500000,\n",
              " 26000000,\n",
              " 26000000,\n",
              " 26000000,\n",
              " 26000000,\n",
              " 26000000,\n",
              " 26000000,\n",
              " 26000000,\n",
              " 26000000,\n",
              " 26000000,\n",
              " 26000000,\n",
              " 26000000,\n",
              " 26000000,\n",
              " 25900000,\n",
              " 25900000,\n",
              " 25900000,\n",
              " 25900000,\n",
              " 25900000,\n",
              " 25500000,\n",
              " 25500000,\n",
              " 25500000,\n",
              " 25500000,\n",
              " 25500000,\n",
              " 25500000,\n",
              " 25500000,\n",
              " 25500000,\n",
              " 25500000,\n",
              " 25300000,\n",
              " 25300000,\n",
              " 25000000,\n",
              " 25000000,\n",
              " 25000000,\n",
              " 25000000,\n",
              " 25000000,\n",
              " 25000000,\n",
              " 25000000,\n",
              " 25000000,\n",
              " 25000000,\n",
              " 25000000,\n",
              " 25000000,\n",
              " 25000000,\n",
              " 25000000,\n",
              " 25000000,\n",
              " 25000000,\n",
              " 25000000,\n",
              " 25000000,\n",
              " 25000000,\n",
              " 25000000,\n",
              " 25000000,\n",
              " 25000000,\n",
              " 25000000,\n",
              " 25000000,\n",
              " 25000000,\n",
              " 25000000,\n",
              " 25000000,\n",
              " 25000000,\n",
              " 25000000,\n",
              " 24700000,\n",
              " 24500000,\n",
              " 24500000,\n",
              " 24500000,\n",
              " 24500000,\n",
              " 24500000,\n",
              " 24500000,\n",
              " 24500000,\n",
              " 24500000,\n",
              " 24500000,\n",
              " 24500000,\n",
              " 24500000,\n",
              " 24500000,\n",
              " 24200000,\n",
              " 24200000,\n",
              " 24000000,\n",
              " 24000000,\n",
              " 24000000,\n",
              " 24000000,\n",
              " 24000000,\n",
              " 24000000,\n",
              " 24000000,\n",
              " 24000000,\n",
              " 24000000,\n",
              " 23900000,\n",
              " 23900000,\n",
              " 23900000,\n",
              " 23900000,\n",
              " 23500000,\n",
              " 23500000,\n",
              " 23500000,\n",
              " 23500000,\n",
              " 23500000,\n",
              " 23500000,\n",
              " 23500000,\n",
              " 23500000,\n",
              " 23500000,\n",
              " 23200000,\n",
              " 23000000,\n",
              " 23000000,\n",
              " 23000000,\n",
              " 23000000,\n",
              " 23000000,\n",
              " 23000000,\n",
              " 23000000,\n",
              " 23000000,\n",
              " 23000000,\n",
              " 23000000,\n",
              " 23000000,\n",
              " 22800000,\n",
              " 22800000,\n",
              " 22800000,\n",
              " 22500000,\n",
              " 22500000,\n",
              " 22500000,\n",
              " 22500000,\n",
              " 22500000,\n",
              " 22500000,\n",
              " 22500000,\n",
              " 22500000,\n",
              " 22500000,\n",
              " 22500000,\n",
              " 22500000,\n",
              " 22500000,\n",
              " 22500000,\n",
              " 22500000,\n",
              " 22500000,\n",
              " 22500000,\n",
              " 22500000,\n",
              " 22500000,\n",
              " 22500000,\n",
              " 22500000,\n",
              " 22500000,\n",
              " 22500000,\n",
              " 22500000,\n",
              " 22500000,\n",
              " 22500000,\n",
              " 22500000,\n",
              " 22000000,\n",
              " 22000000,\n",
              " 22000000,\n",
              " 22000000,\n",
              " 22000000,\n",
              " 22000000,\n",
              " 22000000,\n",
              " 22000000,\n",
              " 22000000,\n",
              " 22000000,\n",
              " 22000000,\n",
              " 22000000,\n",
              " 22000000,\n",
              " 22000000,\n",
              " 22000000,\n",
              " 22000000,\n",
              " 22000000,\n",
              " 22000000,\n",
              " 22000000,\n",
              " 21900000,\n",
              " 21900000,\n",
              " 21800000,\n",
              " 21800000,\n",
              " 21800000,\n",
              " 21700000,\n",
              " 21700000,\n",
              " 21500000,\n",
              " 21500000,\n",
              " 21500000,\n",
              " 21500000,\n",
              " 21500000,\n",
              " 21500000,\n",
              " 21500000,\n",
              " 21500000,\n",
              " 21500000,\n",
              " 21500000,\n",
              " 21500000,\n",
              " 21500000,\n",
              " 21500000,\n",
              " 21500000,\n",
              " 21500000,\n",
              " 21500000,\n",
              " 21500000,\n",
              " 21500000,\n",
              " 21500000,\n",
              " 21500000,\n",
              " 21500000,\n",
              " 21500000,\n",
              " 21500000,\n",
              " 21300000,\n",
              " 21100000,\n",
              " 21100000,\n",
              " 21000001,\n",
              " 21000000,\n",
              " 21000000,\n",
              " 21000000,\n",
              " 21000000,\n",
              " 21000000,\n",
              " 21000000,\n",
              " 21000000,\n",
              " 21000000,\n",
              " 21000000,\n",
              " 21000000,\n",
              " 21000000,\n",
              " 21000000,\n",
              " 21000000,\n",
              " 21000000,\n",
              " 21000000,\n",
              " 21000000,\n",
              " 21000000,\n",
              " 21000000,\n",
              " 21000000,\n",
              " 21000000,\n",
              " 21000000,\n",
              " 20900000,\n",
              " 20900000,\n",
              " 20900000,\n",
              " 20900000,\n",
              " 20800000,\n",
              " 20800000,\n",
              " 20800000,\n",
              " 20700000,\n",
              " 20700000,\n",
              " 20600000,\n",
              " 20500000,\n",
              " 20500000,\n",
              " 20500000,\n",
              " 20500000,\n",
              " 20500000,\n",
              " 20500000,\n",
              " 20500000,\n",
              " 20500000,\n",
              " 20500000,\n",
              " 20500000,\n",
              " 20500000,\n",
              " 20500000,\n",
              " 20500000,\n",
              " 20500000,\n",
              " 20500000,\n",
              " 20500000,\n",
              " 20500000,\n",
              " 20500000,\n",
              " 20500000,\n",
              " 20500000,\n",
              " 20500000,\n",
              " 20500000,\n",
              " 20500000,\n",
              " 20500000,\n",
              " 20500000,\n",
              " 20500000,\n",
              " 20500000,\n",
              " 20500000,\n",
              " 20400000,\n",
              " 20400000,\n",
              " 20400000,\n",
              " 20400000,\n",
              " 20400000,\n",
              " 20300000,\n",
              " 20250000,\n",
              " 20250000,\n",
              " 20200000,\n",
              " 20200000,\n",
              " 20200000,\n",
              " 20200000,\n",
              " 20200000,\n",
              " 20200000,\n",
              " 20200000,\n",
              " 20100000,\n",
              " 20100000,\n",
              " 20100000,\n",
              " 20100000,\n",
              " 20100000,\n",
              " 20100000,\n",
              " 20100000,\n",
              " 20100000,\n",
              " 20100000,\n",
              " 20000000,\n",
              " 20000000,\n",
              " 20000000,\n",
              " 20000000,\n",
              " 20000000,\n",
              " 20000000,\n",
              " 20000000,\n",
              " 20000000,\n",
              " 20000000,\n",
              " 20000000,\n",
              " 20000000,\n",
              " 20000000,\n",
              " 20000000,\n",
              " 20000000,\n",
              " 20000000,\n",
              " 20000000,\n",
              " 20000000,\n",
              " 20000000,\n",
              " 20000000,\n",
              " 20000000,\n",
              " 20000000,\n",
              " 20000000,\n",
              " 20000000,\n",
              " 20000000,\n",
              " 20000000,\n",
              " 19999999,\n",
              " 19999999,\n",
              " 19900000,\n",
              " 19900000,\n",
              " 19900000,\n",
              " 19900000,\n",
              " 19900000,\n",
              " 19900000,\n",
              " 19900000,\n",
              " 19900000,\n",
              " 19900000,\n",
              " 19900000,\n",
              " 19900000,\n",
              " 19900000,\n",
              " 19850000,\n",
              " 19800000,\n",
              " 19800000,\n",
              " 19800000,\n",
              " 19800000,\n",
              " 19800000,\n",
              " 19800000,\n",
              " 19800000,\n",
              " 19800000,\n",
              " 19800000,\n",
              " 19800000,\n",
              " 19700000,\n",
              " 19700000,\n",
              " 19700000,\n",
              " 19700000,\n",
              " 19700000,\n",
              " 19600000,\n",
              " 19600000,\n",
              " 19600000,\n",
              " 19600000,\n",
              " 19600000,\n",
              " 19600000,\n",
              " 19600000,\n",
              " 19500000,\n",
              " 19500000,\n",
              " 19500000,\n",
              " 19500000,\n",
              " 19500000,\n",
              " 19500000,\n",
              " 19500000,\n",
              " 19500000,\n",
              " 19500000,\n",
              " 19500000,\n",
              " 19500000,\n",
              " 19500000,\n",
              " 19500000,\n",
              " 19500000,\n",
              " 19500000,\n",
              " 19500000,\n",
              " 19500000,\n",
              " 19500000,\n",
              " 19500000,\n",
              " 19500000,\n",
              " 19500000,\n",
              " 19500000,\n",
              " 19500000,\n",
              " 19500000,\n",
              " 19500000,\n",
              " 19500000,\n",
              " 19500000,\n",
              " 19500000,\n",
              " 19500000,\n",
              " 19500000,\n",
              " 19500000,\n",
              " 19500000,\n",
              " 19500000,\n",
              " 19500000,\n",
              " 19450000,\n",
              " 19400000,\n",
              " 19400000,\n",
              " 19400000,\n",
              " 19400000,\n",
              " 19400000,\n",
              " 19400000,\n",
              " 19300000,\n",
              " 19200000,\n",
              " 19200000,\n",
              " 19200000,\n",
              " 19200000,\n",
              " 19200000,\n",
              " 19200000,\n",
              " 19200000,\n",
              " 19200000,\n",
              " 19150000,\n",
              " 19100000,\n",
              " 19000000,\n",
              " 19000000,\n",
              " 19000000,\n",
              " 19000000,\n",
              " 19000000,\n",
              " 19000000,\n",
              " 19000000,\n",
              " 19000000,\n",
              " 19000000,\n",
              " 19000000,\n",
              " 19000000,\n",
              " 19000000,\n",
              " 19000000,\n",
              " 19000000,\n",
              " 19000000,\n",
              " 19000000,\n",
              " 19000000,\n",
              " 19000000,\n",
              " 19000000,\n",
              " 19000000,\n",
              " 19000000,\n",
              " 19000000,\n",
              " 19000000,\n",
              " 19000000,\n",
              " 19000000,\n",
              " 19000000,\n",
              " 19000000,\n",
              " 19000000,\n",
              " 19000000,\n",
              " 19000000,\n",
              " 19000000,\n",
              " 19000000,\n",
              " 19000000,\n",
              " 19000000,\n",
              " 19000000,\n",
              " 19000000,\n",
              " 19000000,\n",
              " 19000000,\n",
              " 19000000,\n",
              " 19000000,\n",
              " 19000000,\n",
              " 19000000,\n",
              " 18950000,\n",
              " 18950000,\n",
              " 18900000,\n",
              " 18900000,\n",
              " 18900000,\n",
              " 18900000,\n",
              " 18900000,\n",
              " 18900000,\n",
              " 18900000,\n",
              " 18900000,\n",
              " 18900000,\n",
              " 18900000,\n",
              " 18900000,\n",
              " 18900000,\n",
              " 18900000,\n",
              " 18850000,\n",
              " 18800000,\n",
              " 18800000,\n",
              " 18800000,\n",
              " 18800000,\n",
              " 18800000,\n",
              " 18800000,\n",
              " 18800000,\n",
              " 18800000,\n",
              " 18800000,\n",
              " 18800000,\n",
              " 18800000,\n",
              " 18800000,\n",
              " 18750000,\n",
              " 18750000,\n",
              " 18750000,\n",
              " 18700000,\n",
              " 18700000,\n",
              " 18700000,\n",
              " 18700000,\n",
              " 18700000,\n",
              " 18700000,\n",
              " 18700000,\n",
              " 18700000,\n",
              " 18650000,\n",
              " 18600000,\n",
              " 18600000,\n",
              " 18600000,\n",
              " 18600000,\n",
              " 18600000,\n",
              " 18600000,\n",
              " 18550000,\n",
              " 18550000,\n",
              " 18500000,\n",
              " 18500000,\n",
              " 18500000,\n",
              " 18500000,\n",
              " 18500000,\n",
              " 18500000,\n",
              " 18500000,\n",
              " 18500000,\n",
              " 18500000,\n",
              " 18500000,\n",
              " 18500000,\n",
              " 18500000,\n",
              " 18500000,\n",
              " 18500000,\n",
              " 18500000,\n",
              " 18500000,\n",
              " 18500000,\n",
              " 18500000,\n",
              " 18500000,\n",
              " 18500000,\n",
              " 18500000,\n",
              " 18500000,\n",
              " 18500000,\n",
              " 18500000,\n",
              " 18500000,\n",
              " 18500000,\n",
              " 18500000,\n",
              " 18500000,\n",
              " ...]"
            ]
          },
          "metadata": {},
          "execution_count": 40
        }
      ],
      "source": [
        "sorted(df['price'],reverse = True)"
      ]
    },
    {
      "cell_type": "markdown",
      "source": [
        "\"We have identified outliers in the 'price' column, with the maximum price reaching 210,000,000 while our primary focus is on data up to 72,500,000. As a result, we have taken the necessary step of removing outliers from the 'price' column to ensure that our dataset maintains data integrity and relevance for analysis.\""
      ],
      "metadata": {
        "id": "ATejsQm9BX3K"
      }
    },
    {
      "cell_type": "code",
      "execution_count": 41,
      "metadata": {
        "id": "pOw-JaWHQqFG"
      },
      "outputs": [],
      "source": [
        "df = df[~(df['price'] >= 72500000) & (df['price'] <= 210000000)]"
      ]
    },
    {
      "cell_type": "code",
      "source": [
        "df.shape"
      ],
      "metadata": {
        "colab": {
          "base_uri": "https://localhost:8080/"
        },
        "id": "LOqPtGKRwp6x",
        "outputId": "3df1ea6a-d386-49b4-8525-cd6e8e34ac99"
      },
      "execution_count": 42,
      "outputs": [
        {
          "output_type": "execute_result",
          "data": {
            "text/plain": [
              "(59850, 8)"
            ]
          },
          "metadata": {},
          "execution_count": 42
        }
      ]
    },
    {
      "cell_type": "code",
      "execution_count": 43,
      "metadata": {
        "colab": {
          "base_uri": "https://localhost:8080/",
          "height": 0
        },
        "id": "Fu5_PbJJswGg",
        "outputId": "f0fa9f4e-b53f-416a-ff85-8d4cfd1a0adc"
      },
      "outputs": [
        {
          "output_type": "execute_result",
          "data": {
            "text/plain": [
              "<Axes: xlabel='price'>"
            ]
          },
          "metadata": {},
          "execution_count": 43
        },
        {
          "output_type": "display_data",
          "data": {
            "text/plain": [
              "<Figure size 640x480 with 1 Axes>"
            ],
            "image/png": "[encoded data removed]"
          },
          "metadata": {}
        }
      ],
      "source": [
        "sns.boxplot(x=df['price'])"
      ]
    },
    {
      "cell_type": "markdown",
      "source": [
        "\"With the removal of outliers, the 'price' column has been refined and is now accurately representing the data within our desired range, enhancing the dataset's suitability for analysis.\""
      ],
      "metadata": {
        "id": "ektbybf4Bq6M"
      }
    },
    {
      "cell_type": "code",
      "execution_count": 44,
      "metadata": {
        "colab": {
          "base_uri": "https://localhost:8080/",
          "height": 0
        },
        "id": "mJtD267uWVI0",
        "outputId": "02a82e2e-f02e-46b0-a6d1-ad232f66f548"
      },
      "outputs": [
        {
          "output_type": "execute_result",
          "data": {
            "text/plain": [
              "<matplotlib.collections.PathCollection at 0x7d3d4a1a5f30>"
            ]
          },
          "metadata": {},
          "execution_count": 44
        },
        {
          "output_type": "display_data",
          "data": {
            "text/plain": [
              "<Figure size 640x480 with 1 Axes>"
            ],
            "image/png": "[encoded data removed]"
          },
          "metadata": {}
        }
      ],
      "source": [
        "plt.scatter(df['price'], df['year'])"
      ]
    },
    {
      "cell_type": "code",
      "execution_count": 45,
      "metadata": {
        "colab": {
          "base_uri": "https://localhost:8080/"
        },
        "id": "okIe2RKfjgFf",
        "outputId": "9c0014d0-4872-420d-9d74-a418e435738c"
      },
      "outputs": [
        {
          "output_type": "execute_result",
          "data": {
            "text/plain": [
              "45173    1942\n",
              "47884    1942\n",
              "52016    1951\n",
              "22978    1951\n",
              "32948    1952\n",
              "         ... \n",
              "28159    2023\n",
              "9548     2023\n",
              "9543     2023\n",
              "28200    2023\n",
              "4560     2023\n",
              "Name: year, Length: 59850, dtype: int64"
            ]
          },
          "metadata": {},
          "execution_count": 45
        }
      ],
      "source": [
        "df['year'].sort_values(ascending=True)"
      ]
    },
    {
      "cell_type": "code",
      "execution_count": 46,
      "metadata": {
        "id": "s03BuBXtkQRC"
      },
      "outputs": [],
      "source": [
        "df = df[~(df['year'] <= 1952)]"
      ]
    },
    {
      "cell_type": "code",
      "execution_count": 47,
      "metadata": {
        "colab": {
          "base_uri": "https://localhost:8080/"
        },
        "id": "dBDm2sb2kbwo",
        "outputId": "84aa4abb-3cca-4b71-fb65-49b3c895aa89"
      },
      "outputs": [
        {
          "output_type": "execute_result",
          "data": {
            "text/plain": [
              "array([2021, 2005, 2006, 2010, 1992, 2007, 2023, 2019, 2018, 2020, 2022,\n",
              "       2016, 2014, 2015, 2004, 2002, 2011, 2008, 2017, 2003, 2012, 1994,\n",
              "       1974, 1996, 2009, 1991, 2013, 1970, 1993, 1998, 1984, 1999, 1995,\n",
              "       2000, 1986, 1990, 1982, 2001, 1997, 1988, 1987, 1980, 1985, 1989,\n",
              "       1983, 1965, 1981, 1975, 1979, 1968, 1963, 1976, 1978, 1960, 1972,\n",
              "       1969, 1967, 1973, 1966, 1961, 1971, 1977, 1964])"
            ]
          },
          "metadata": {},
          "execution_count": 47
        }
      ],
      "source": [
        "df['year'].unique()"
      ]
    },
    {
      "cell_type": "code",
      "execution_count": 48,
      "metadata": {
        "colab": {
          "base_uri": "https://localhost:8080/",
          "height": 0
        },
        "id": "gLUUxAogn3Rw",
        "outputId": "ab47fc2c-b9eb-4efa-aef7-2966dc38cfcb"
      },
      "outputs": [
        {
          "output_type": "execute_result",
          "data": {
            "text/plain": [
              "<matplotlib.collections.PathCollection at 0x7d3d4a02f2b0>"
            ]
          },
          "metadata": {},
          "execution_count": 48
        },
        {
          "output_type": "display_data",
          "data": {
            "text/plain": [
              "<Figure size 640x480 with 1 Axes>"
            ],
            "image/png": "[encoded data removed]"
          },
          "metadata": {}
        }
      ],
      "source": [
        "plt.scatter(df['price'], df['year'])"
      ]
    },
    {
      "cell_type": "markdown",
      "source": [
        "\"We have removed values in the 'year' column that are 1952 and below, resulting in a refined dataset containing more relevant and consistent data within the expected year range for analysis.\""
      ],
      "metadata": {
        "id": "BOc8mAr5CsXg"
      }
    },
    {
      "cell_type": "code",
      "source": [
        "plt.hist(df['year'])"
      ],
      "metadata": {
        "colab": {
          "base_uri": "https://localhost:8080/",
          "height": 0
        },
        "id": "90WYrFqq1FF5",
        "outputId": "1f7b95bf-1656-4600-f857-40e2e573ec8d"
      },
      "execution_count": 49,
      "outputs": [
        {
          "output_type": "execute_result",
          "data": {
            "text/plain": [
              "(array([   31.,    36.,    86.,   651.,  1744.,  2850.,  5753., 11742.,\n",
              "        12281., 24671.]),\n",
              " array([1960. , 1966.3, 1972.6, 1978.9, 1985.2, 1991.5, 1997.8, 2004.1,\n",
              "        2010.4, 2016.7, 2023. ]),\n",
              " <BarContainer object of 10 artists>)"
            ]
          },
          "metadata": {},
          "execution_count": 49
        },
        {
          "output_type": "display_data",
          "data": {
            "text/plain": [
              "<Figure size 640x480 with 1 Axes>"
            ],
            "image/png": "[encoded data removed]"
          },
          "metadata": {}
        }
      ]
    },
    {
      "cell_type": "code",
      "execution_count": 50,
      "metadata": {
        "colab": {
          "base_uri": "https://localhost:8080/",
          "height": 0
        },
        "id": "RIoqpvPpXXVh",
        "outputId": "ead8732c-4256-4d68-e79e-0a6039f5c9dd"
      },
      "outputs": [
        {
          "output_type": "execute_result",
          "data": {
            "text/plain": [
              "<Axes: ylabel='count'>"
            ]
          },
          "metadata": {},
          "execution_count": 50
        },
        {
          "output_type": "display_data",
          "data": {
            "text/plain": [
              "<Figure size 640x480 with 1 Axes>"
            ],
            "image/png": "[encoded data removed]"
          },
          "metadata": {}
        }
      ],
      "source": [
        "sns.countplot(df['price'])"
      ]
    },
    {
      "cell_type": "code",
      "execution_count": 51,
      "metadata": {
        "colab": {
          "base_uri": "https://localhost:8080/",
          "height": 0
        },
        "id": "zP7NaDGlXvTx",
        "outputId": "618b1020-4ee6-4e25-e2eb-9b0c69ba6978"
      },
      "outputs": [
        {
          "output_type": "stream",
          "name": "stderr",
          "text": [
            "<ipython-input-51-aa4f4450a243>:1: FutureWarning: The default value of numeric_only in DataFrame.corr is deprecated. In a future version, it will default to False. Select only valid columns or specify the value of numeric_only to silence this warning.\n",
            "  sns.heatmap(df.corr())\n"
          ]
        },
        {
          "output_type": "execute_result",
          "data": {
            "text/plain": [
              "<Axes: >"
            ]
          },
          "metadata": {},
          "execution_count": 51
        },
        {
          "output_type": "display_data",
          "data": {
            "text/plain": [
              "<Figure size 640x480 with 2 Axes>"
            ],
            "image/png": "[encoded data removed]"
          },
          "metadata": {}
        }
      ],
      "source": [
        "sns.heatmap(df.corr())"
      ]
    },
    {
      "cell_type": "code",
      "execution_count": 52,
      "metadata": {
        "colab": {
          "base_uri": "https://localhost:8080/",
          "height": 0
        },
        "id": "L1kM9uTiYeUM",
        "outputId": "6a55f4f9-33c4-4e72-f4bc-3f97f2b985f1"
      },
      "outputs": [
        {
          "output_type": "stream",
          "name": "stderr",
          "text": [
            "<ipython-input-52-23cca577f1cc>:1: FutureWarning: The default value of numeric_only in DataFrame.corr is deprecated. In a future version, it will default to False. Select only valid columns or specify the value of numeric_only to silence this warning.\n",
            "  correalation_matrix = df.corr()\n"
          ]
        },
        {
          "output_type": "execute_result",
          "data": {
            "text/plain": [
              "<Axes: >"
            ]
          },
          "metadata": {},
          "execution_count": 52
        },
        {
          "output_type": "display_data",
          "data": {
            "text/plain": [
              "<Figure size 640x480 with 2 Axes>"
            ],
            "image/png": "[encoded data removed]"
          },
          "metadata": {}
        }
      ],
      "source": [
        "correalation_matrix = df.corr()\n",
        "sns.heatmap(correalation_matrix, annot = True, cmap = 'coolwarm')"
      ]
    },
    {
      "cell_type": "code",
      "execution_count": 53,
      "metadata": {
        "colab": {
          "base_uri": "https://localhost:8080/"
        },
        "id": "0nAj_ElYoSxR",
        "outputId": "450086b5-5eb8-426d-b8db-3bfe8471221a"
      },
      "outputs": [
        {
          "output_type": "execute_result",
          "data": {
            "text/plain": [
              "(59845, 8)"
            ]
          },
          "metadata": {},
          "execution_count": 53
        }
      ],
      "source": [
        "df.shape"
      ]
    },
    {
      "cell_type": "markdown",
      "source": [
        "\"After the data cleaning process, our total dataset size has been slightly reduced from the initial count of 60,109 records to 59,845 records. This reduction is primarily due to the removal of outliers and the refinement of data, resulting in a more focused and accurate dataset for our analysis and modeling efforts.\""
      ],
      "metadata": {
        "id": "zkA8PtJaDWhR"
      }
    },
    {
      "cell_type": "code",
      "execution_count": 54,
      "metadata": {
        "id": "Oo6fe24cR2w-"
      },
      "outputs": [],
      "source": [
        "df.reset_index(drop=True, inplace=True)"
      ]
    },
    {
      "cell_type": "code",
      "execution_count": 55,
      "metadata": {
        "colab": {
          "base_uri": "https://localhost:8080/",
          "height": 0
        },
        "id": "JcBKNihRoZaJ",
        "outputId": "f46380d7-0e66-4894-a339-945927bb11e2"
      },
      "outputs": [
        {
          "output_type": "execute_result",
          "data": {
            "text/plain": [
              "      company            name fuel_type  kms_driven  year    price  \\\n",
              "0          MG           MG HS    Petrol        6000  2021  6525000   \n",
              "1      Toyota     Toyota Aygo    Petrol       68000  2021  1625000   \n",
              "2       Honda      Honda City    Petrol      150000  2021  2550000   \n",
              "3         KIA     KIA Sorento    Petrol       18000  2021  9000000   \n",
              "4      Toyota  Toyota Corolla    Petrol      110000  2021  3350000   \n",
              "...       ...             ...       ...         ...   ...      ...   \n",
              "59840     KIA    KIA Sportage    Petrol          10  2022  7900000   \n",
              "59841     KIA     KIA Picanto    Petrol          10  2022  3350000   \n",
              "59842  Suzuki    Suzuki Swift    Petrol          10  2022  4750000   \n",
              "59843  Suzuki  Suzuki Wagon R    Hybrid       15000  2018  3175000   \n",
              "59844  Toyota    Toyota Hilux    Petrol      169000  2009  5500000   \n",
              "\n",
              "       vehicle_engine vehicle_type  \n",
              "0                1490    Automatic  \n",
              "1                1000       Manual  \n",
              "2                1300    Automatic  \n",
              "3                3500    Automatic  \n",
              "4                1300    Automatic  \n",
              "...               ...          ...  \n",
              "59840            2000    Automatic  \n",
              "59841            1000    Automatic  \n",
              "59842            1200    Automatic  \n",
              "59843             660    Automatic  \n",
              "59844            3000    Automatic  \n",
              "\n",
              "[59845 rows x 8 columns]"
            ],
            "text/html": [
              "\n",
              "  <div id=\"df-244ac1c0-aba5-47ef-aa83-b9b76f762308\" class=\"colab-df-container\">\n",
              "    <div>\n",
              "<style scoped>\n",
              "    .dataframe tbody tr th:only-of-type {\n",
              "        vertical-align: middle;\n",
              "    }\n",
              "\n",
              "    .dataframe tbody tr th {\n",
              "        vertical-align: top;\n",
              "    }\n",
              "\n",
              "    .dataframe thead th {\n",
              "        text-align: right;\n",
              "    }\n",
              "</style>\n",
              "<table border=\"1\" class=\"dataframe\">\n",
              "  <thead>\n",
              "    <tr style=\"text-align: right;\">\n",
              "      <th></th>\n",
              "      <th>company</th>\n",
              "      <th>name</th>\n",
              "      <th>fuel_type</th>\n",
              "      <th>kms_driven</th>\n",
              "      <th>year</th>\n",
              "      <th>price</th>\n",
              "      <th>vehicle_engine</th>\n",
              "      <th>vehicle_type</th>\n",
              "    </tr>\n",
              "  </thead>\n",
              "  <tbody>\n",
              "    <tr>\n",
              "      <th>0</th>\n",
              "      <td>MG</td>\n",
              "      <td>MG HS</td>\n",
              "      <td>Petrol</td>\n",
              "      <td>6000</td>\n",
              "      <td>2021</td>\n",
              "      <td>6525000</td>\n",
              "      <td>1490</td>\n",
              "      <td>Automatic</td>\n",
              "    </tr>\n",
              "    <tr>\n",
              "      <th>1</th>\n",
              "      <td>Toyota</td>\n",
              "      <td>Toyota Aygo</td>\n",
              "      <td>Petrol</td>\n",
              "      <td>68000</td>\n",
              "      <td>2021</td>\n",
              "      <td>1625000</td>\n",
              "      <td>1000</td>\n",
              "      <td>Manual</td>\n",
              "    </tr>\n",
              "    <tr>\n",
              "      <th>2</th>\n",
              "      <td>Honda</td>\n",
              "      <td>Honda City</td>\n",
              "      <td>Petrol</td>\n",
              "      <td>150000</td>\n",
              "      <td>2021</td>\n",
              "      <td>2550000</td>\n",
              "      <td>1300</td>\n",
              "      <td>Automatic</td>\n",
              "    </tr>\n",
              "    <tr>\n",
              "      <th>3</th>\n",
              "      <td>KIA</td>\n",
              "      <td>KIA Sorento</td>\n",
              "      <td>Petrol</td>\n",
              "      <td>18000</td>\n",
              "      <td>2021</td>\n",
              "      <td>9000000</td>\n",
              "      <td>3500</td>\n",
              "      <td>Automatic</td>\n",
              "    </tr>\n",
              "    <tr>\n",
              "      <th>4</th>\n",
              "      <td>Toyota</td>\n",
              "      <td>Toyota Corolla</td>\n",
              "      <td>Petrol</td>\n",
              "      <td>110000</td>\n",
              "      <td>2021</td>\n",
              "      <td>3350000</td>\n",
              "      <td>1300</td>\n",
              "      <td>Automatic</td>\n",
              "    </tr>\n",
              "    <tr>\n",
              "      <th>...</th>\n",
              "      <td>...</td>\n",
              "      <td>...</td>\n",
              "      <td>...</td>\n",
              "      <td>...</td>\n",
              "      <td>...</td>\n",
              "      <td>...</td>\n",
              "      <td>...</td>\n",
              "      <td>...</td>\n",
              "    </tr>\n",
              "    <tr>\n",
              "      <th>59840</th>\n",
              "      <td>KIA</td>\n",
              "      <td>KIA Sportage</td>\n",
              "      <td>Petrol</td>\n",
              "      <td>10</td>\n",
              "      <td>2022</td>\n",
              "      <td>7900000</td>\n",
              "      <td>2000</td>\n",
              "      <td>Automatic</td>\n",
              "    </tr>\n",
              "    <tr>\n",
              "      <th>59841</th>\n",
              "      <td>KIA</td>\n",
              "      <td>KIA Picanto</td>\n",
              "      <td>Petrol</td>\n",
              "      <td>10</td>\n",
              "      <td>2022</td>\n",
              "      <td>3350000</td>\n",
              "      <td>1000</td>\n",
              "      <td>Automatic</td>\n",
              "    </tr>\n",
              "    <tr>\n",
              "      <th>59842</th>\n",
              "      <td>Suzuki</td>\n",
              "      <td>Suzuki Swift</td>\n",
              "      <td>Petrol</td>\n",
              "      <td>10</td>\n",
              "      <td>2022</td>\n",
              "      <td>4750000</td>\n",
              "      <td>1200</td>\n",
              "      <td>Automatic</td>\n",
              "    </tr>\n",
              "    <tr>\n",
              "      <th>59843</th>\n",
              "      <td>Suzuki</td>\n",
              "      <td>Suzuki Wagon R</td>\n",
              "      <td>Hybrid</td>\n",
              "      <td>15000</td>\n",
              "      <td>2018</td>\n",
              "      <td>3175000</td>\n",
              "      <td>660</td>\n",
              "      <td>Automatic</td>\n",
              "    </tr>\n",
              "    <tr>\n",
              "      <th>59844</th>\n",
              "      <td>Toyota</td>\n",
              "      <td>Toyota Hilux</td>\n",
              "      <td>Petrol</td>\n",
              "      <td>169000</td>\n",
              "      <td>2009</td>\n",
              "      <td>5500000</td>\n",
              "      <td>3000</td>\n",
              "      <td>Automatic</td>\n",
              "    </tr>\n",
              "  </tbody>\n",
              "</table>\n",
              "<p>59845 rows × 8 columns</p>\n",
              "</div>\n",
              "    <div class=\"colab-df-buttons\">\n",
              "\n",
              "  <div class=\"colab-df-container\">\n",
              "    <button class=\"colab-df-convert\" onclick=\"convertToInteractive('df-244ac1c0-aba5-47ef-aa83-b9b76f762308')\"\n",
              "            title=\"Convert this dataframe to an interactive table.\"\n",
              "            style=\"display:none;\">\n",
              "\n",
              "  <svg xmlns=\"http://www.w3.org/2000/svg\" height=\"24px\" viewBox=\"0 -960 960 960\">\n",
              "    <path d=\"M120-120v-720h720v720H120Zm60-500h600v-160H180v160Zm220 220h160v-160H400v160Zm0 220h160v-160H400v160ZM180-400h160v-160H180v160Zm440 0h160v-160H620v160ZM180-180h160v-160H180v160Zm440 0h160v-160H620v160Z\"/>\n",
              "  </svg>\n",
              "    </button>\n",
              "\n",
              "  <style>\n",
              "    .colab-df-container {\n",
              "      display:flex;\n",
              "      gap: 12px;\n",
              "    }\n",
              "\n",
              "    .colab-df-convert {\n",
              "      background-color: #E8F0FE;\n",
              "      border: none;\n",
              "      border-radius: 50%;\n",
              "      cursor: pointer;\n",
              "      display: none;\n",
              "      fill: #1967D2;\n",
              "      height: 32px;\n",
              "      padding: 0 0 0 0;\n",
              "      width: 32px;\n",
              "    }\n",
              "\n",
              "    .colab-df-convert:hover {\n",
              "      background-color: #E2EBFA;\n",
              "      box-shadow: 0px 1px 2px rgba(60, 64, 67, 0.3), 0px 1px 3px 1px rgba(60, 64, 67, 0.15);\n",
              "      fill: #174EA6;\n",
              "    }\n",
              "\n",
              "    .colab-df-buttons div {\n",
              "      margin-bottom: 4px;\n",
              "    }\n",
              "\n",
              "    [theme=dark] .colab-df-convert {\n",
              "      background-color: #3B4455;\n",
              "      fill: #D2E3FC;\n",
              "    }\n",
              "\n",
              "    [theme=dark] .colab-df-convert:hover {\n",
              "      background-color: #434B5C;\n",
              "      box-shadow: 0px 1px 3px 1px rgba(0, 0, 0, 0.15);\n",
              "      filter: drop-shadow(0px 1px 2px rgba(0, 0, 0, 0.3));\n",
              "      fill: #FFFFFF;\n",
              "    }\n",
              "  </style>\n",
              "\n",
              "    <script>\n",
              "      const buttonEl =\n",
              "        document.querySelector('#df-244ac1c0-aba5-47ef-aa83-b9b76f762308 button.colab-df-convert');\n",
              "      buttonEl.style.display =\n",
              "        google.colab.kernel.accessAllowed ? 'block' : 'none';\n",
              "\n",
              "      async function convertToInteractive(key) {\n",
              "        const element = document.querySelector('#df-244ac1c0-aba5-47ef-aa83-b9b76f762308');\n",
              "        const dataTable =\n",
              "          await google.colab.kernel.invokeFunction('convertToInteractive',\n",
              "                                                    [key], {});\n",
              "        if (!dataTable) return;\n",
              "\n",
              "        const docLinkHtml = 'Like what you see? Visit the ' +\n",
              "          '<a target=\"_blank\" href=https://colab.research.google.com/notebooks/data_table.ipynb>data table notebook</a>'\n",
              "          + ' to learn more about interactive tables.';\n",
              "        element.innerHTML = '';\n",
              "        dataTable['output_type'] = 'display_data';\n",
              "        await google.colab.output.renderOutput(dataTable, element);\n",
              "        const docLink = document.createElement('div');\n",
              "        docLink.innerHTML = docLinkHtml;\n",
              "        element.appendChild(docLink);\n",
              "      }\n",
              "    </script>\n",
              "  </div>\n",
              "\n",
              "\n",
              "<div id=\"df-3a641aeb-2923-4609-a3a9-fbfb4901707a\">\n",
              "  <button class=\"colab-df-quickchart\" onclick=\"quickchart('df-3a641aeb-2923-4609-a3a9-fbfb4901707a')\"\n",
              "            title=\"Suggest charts.\"\n",
              "            style=\"display:none;\">\n",
              "\n",
              "<svg xmlns=\"http://www.w3.org/2000/svg\" height=\"24px\"viewBox=\"0 0 24 24\"\n",
              "     width=\"24px\">\n",
              "    <g>\n",
              "        <path d=\"M19 3H5c-1.1 0-2 .9-2 2v14c0 1.1.9 2 2 2h14c1.1 0 2-.9 2-2V5c0-1.1-.9-2-2-2zM9 17H7v-7h2v7zm4 0h-2V7h2v10zm4 0h-2v-4h2v4z\"/>\n",
              "    </g>\n",
              "</svg>\n",
              "  </button>\n",
              "\n",
              "<style>\n",
              "  .colab-df-quickchart {\n",
              "      --bg-color: #E8F0FE;\n",
              "      --fill-color: #1967D2;\n",
              "      --hover-bg-color: #E2EBFA;\n",
              "      --hover-fill-color: #174EA6;\n",
              "      --disabled-fill-color: #AAA;\n",
              "      --disabled-bg-color: #DDD;\n",
              "  }\n",
              "\n",
              "  [theme=dark] .colab-df-quickchart {\n",
              "      --bg-color: #3B4455;\n",
              "      --fill-color: #D2E3FC;\n",
              "      --hover-bg-color: #434B5C;\n",
              "      --hover-fill-color: #FFFFFF;\n",
              "      --disabled-bg-color: #3B4455;\n",
              "      --disabled-fill-color: #666;\n",
              "  }\n",
              "\n",
              "  .colab-df-quickchart {\n",
              "    background-color: var(--bg-color);\n",
              "    border: none;\n",
              "    border-radius: 50%;\n",
              "    cursor: pointer;\n",
              "    display: none;\n",
              "    fill: var(--fill-color);\n",
              "    height: 32px;\n",
              "    padding: 0;\n",
              "    width: 32px;\n",
              "  }\n",
              "\n",
              "  .colab-df-quickchart:hover {\n",
              "    background-color: var(--hover-bg-color);\n",
              "    box-shadow: 0 1px 2px rgba(60, 64, 67, 0.3), 0 1px 3px 1px rgba(60, 64, 67, 0.15);\n",
              "    fill: var(--button-hover-fill-color);\n",
              "  }\n",
              "\n",
              "  .colab-df-quickchart-complete:disabled,\n",
              "  .colab-df-quickchart-complete:disabled:hover {\n",
              "    background-color: var(--disabled-bg-color);\n",
              "    fill: var(--disabled-fill-color);\n",
              "    box-shadow: none;\n",
              "  }\n",
              "\n",
              "  .colab-df-spinner {\n",
              "    border: 2px solid var(--fill-color);\n",
              "    border-color: transparent;\n",
              "    border-bottom-color: var(--fill-color);\n",
              "    animation:\n",
              "      spin 1s steps(1) infinite;\n",
              "  }\n",
              "\n",
              "  @keyframes spin {\n",
              "    0% {\n",
              "      border-color: transparent;\n",
              "      border-bottom-color: var(--fill-color);\n",
              "      border-left-color: var(--fill-color);\n",
              "    }\n",
              "    20% {\n",
              "      border-color: transparent;\n",
              "      border-left-color: var(--fill-color);\n",
              "      border-top-color: var(--fill-color);\n",
              "    }\n",
              "    30% {\n",
              "      border-color: transparent;\n",
              "      border-left-color: var(--fill-color);\n",
              "      border-top-color: var(--fill-color);\n",
              "      border-right-color: var(--fill-color);\n",
              "    }\n",
              "    40% {\n",
              "      border-color: transparent;\n",
              "      border-right-color: var(--fill-color);\n",
              "      border-top-color: var(--fill-color);\n",
              "    }\n",
              "    60% {\n",
              "      border-color: transparent;\n",
              "      border-right-color: var(--fill-color);\n",
              "    }\n",
              "    80% {\n",
              "      border-color: transparent;\n",
              "      border-right-color: var(--fill-color);\n",
              "      border-bottom-color: var(--fill-color);\n",
              "    }\n",
              "    90% {\n",
              "      border-color: transparent;\n",
              "      border-bottom-color: var(--fill-color);\n",
              "    }\n",
              "  }\n",
              "</style>\n",
              "\n",
              "  <script>\n",
              "    async function quickchart(key) {\n",
              "      const quickchartButtonEl =\n",
              "        document.querySelector('#' + key + ' button');\n",
              "      quickchartButtonEl.disabled = true;  // To prevent multiple clicks.\n",
              "      quickchartButtonEl.classList.add('colab-df-spinner');\n",
              "      try {\n",
              "        const charts = await google.colab.kernel.invokeFunction(\n",
              "            'suggestCharts', [key], {});\n",
              "      } catch (error) {\n",
              "        console.error('Error during call to suggestCharts:', error);\n",
              "      }\n",
              "      quickchartButtonEl.classList.remove('colab-df-spinner');\n",
              "      quickchartButtonEl.classList.add('colab-df-quickchart-complete');\n",
              "    }\n",
              "    (() => {\n",
              "      let quickchartButtonEl =\n",
              "        document.querySelector('#df-3a641aeb-2923-4609-a3a9-fbfb4901707a button');\n",
              "      quickchartButtonEl.style.display =\n",
              "        google.colab.kernel.accessAllowed ? 'block' : 'none';\n",
              "    })();\n",
              "  </script>\n",
              "</div>\n",
              "    </div>\n",
              "  </div>\n"
            ]
          },
          "metadata": {},
          "execution_count": 55
        }
      ],
      "source": [
        "df"
      ]
    },
    {
      "cell_type": "code",
      "source": [
        "backup = df.copy()"
      ],
      "metadata": {
        "id": "tkqETt8ufyra"
      },
      "execution_count": 56,
      "outputs": []
    },
    {
      "cell_type": "code",
      "execution_count": 57,
      "metadata": {
        "id": "UR8-NVlbajN2"
      },
      "outputs": [],
      "source": [
        "df.to_csv('Cleaned car.csv')"
      ]
    },
    {
      "cell_type": "markdown",
      "metadata": {
        "id": "uD17Ov_q5ybA"
      },
      "source": [
        "# **Comparision between old data set and new data set**\n",
        "\"We will thoroughly check and compare the old dataset with the cleaned dataset to assess the impact of our data cleaning efforts and ensure the data is now in a better state for analysis.\""
      ]
    },
    {
      "cell_type": "code",
      "execution_count": 58,
      "metadata": {
        "colab": {
          "base_uri": "https://localhost:8080/"
        },
        "id": "ZUZC6IiU50pg",
        "outputId": "890e1433-6f64-4bbf-e09f-a44ea380b5fa"
      },
      "outputs": [
        {
          "output_type": "stream",
          "name": "stdout",
          "text": [
            "Old Car Data - Mean Price: Rs3603459.94, Median Price: Rs2300000.00\n",
            "New Car Data - Mean Price: Rs3477970.06, Median Price: Rs2300000.00\n",
            "T-test p-value for Price Comparison: 1.891158729606668e-05\n",
            "There is a significant difference in car prices between the datasets.\n"
          ]
        }
      ],
      "source": [
        "import pandas as pd\n",
        "import numpy as np\n",
        "import matplotlib.pyplot as plt\n",
        "from scipy.stats import ttest_ind\n",
        "import seaborn as sns\n",
        "\n",
        "# Load old and new car datasets\n",
        "old_car_data = pd.read_csv('/content/car_dataset.csv')\n",
        "new_car_data = pd.read_csv('/content/Cleaned car.csv')\n",
        "\n",
        "# Compare mean and median prices\n",
        "old_mean_price = old_car_data['price'].mean()\n",
        "new_mean_price = new_car_data['price'].mean()\n",
        "old_median_price = old_car_data['price'].median()\n",
        "new_median_price = new_car_data['price'].median()\n",
        "\n",
        "print(f'Old Car Data - Mean Price: Rs{old_mean_price:.2f}, Median Price: Rs{old_median_price:.2f}')\n",
        "print(f'New Car Data - Mean Price: Rs{new_mean_price:.2f}, Median Price: Rs{new_median_price:.2f}')\n",
        "\n",
        "# Perform t-test to compare mean prices\n",
        "t_stat, p_value = ttest_ind(old_car_data['price'], new_car_data['price'])\n",
        "print(f'T-test p-value for Price Comparison: {p_value}')\n",
        "if p_value < 0.05:\n",
        "    print(\"There is a significant difference in car prices between the datasets.\")\n",
        "else:\n",
        "    print(\"There is no significant difference in car prices between the datasets.\")\n",
        "\n",
        "\n"
      ]
    },
    {
      "cell_type": "markdown",
      "source": [
        "\n",
        "In the comparison between old car data and new car data, it's evident that there is a significant difference in car prices. The mean price for old cars is Rs3,603,459.94, while the mean price for new cars is Rs3,477,970.06. Both datasets share a median price of Rs2,300,000.00. However, the T-test analysis indicates a highly significant difference in car prices between the two datasets, with a p-value of approximately 0.0000189."
      ],
      "metadata": {
        "id": "xozHfpSiFjcD"
      }
    },
    {
      "cell_type": "code",
      "execution_count": 59,
      "metadata": {
        "colab": {
          "base_uri": "https://localhost:8080/",
          "height": 507
        },
        "id": "ThBlScavZJL5",
        "outputId": "6f2d6b2e-9b89-4598-914f-39d2d4e34f45"
      },
      "outputs": [
        {
          "output_type": "display_data",
          "data": {
            "text/plain": [
              "<Figure size 1000x600 with 0 Axes>"
            ]
          },
          "metadata": {}
        },
        {
          "output_type": "display_data",
          "data": {
            "text/plain": [
              "<Figure size 640x480 with 1 Axes>"
            ],
            "image/png": "[encoded data removed]"
          },
          "metadata": {}
        }
      ],
      "source": [
        "# Compare fuel types distribution\n",
        "old_fuel_distribution = old_car_data['fuel_type'].value_counts()\n",
        "new_fuel_distribution = new_car_data['fuel_type'].value_counts()\n",
        "\n",
        "combined_counts = pd.concat([old_fuel_distribution, new_fuel_distribution], axis=1)\n",
        "combined_counts.columns = ['Old Car Data', 'New Car Data']\n",
        "\n",
        "# Visualize fuel type distribution\n",
        "plt.figure(figsize=(10, 6))\n",
        "combined_counts.plot(kind='bar', alpha=0.7)\n",
        "plt.ylabel('Count')\n",
        "plt.title('Comparison of Fuel Type Distribution')\n",
        "plt.show()"
      ]
    },
    {
      "cell_type": "markdown",
      "source": [
        "\n",
        "\"In the comparison of fuel types between the old car dataset and the new car dataset, we've observed a slight price difference for petrol-powered vehicles, as well as for electric and CNG-powered ones.\""
      ],
      "metadata": {
        "id": "CcYl0gQrGyY3"
      }
    },
    {
      "cell_type": "code",
      "execution_count": 60,
      "metadata": {
        "colab": {
          "base_uri": "https://localhost:8080/",
          "height": 545
        },
        "id": "wxvUw3_fZZE9",
        "outputId": "444ca2f2-b68c-4741-9dff-f8c08792cb4e"
      },
      "outputs": [
        {
          "output_type": "display_data",
          "data": {
            "text/plain": [
              "<Figure size 1000x600 with 1 Axes>"
            ],
            "image/png": "[encoded data removed]"
          },
          "metadata": {}
        }
      ],
      "source": [
        "# Compare price distribution\n",
        "old_price_distribution = old_car_data['price'].value_counts()\n",
        "new_price_distribution = new_car_data['price'].value_counts()\n",
        "\n",
        "# Visualize price distribution using boxplot\n",
        "plt.figure(figsize=(10, 6))\n",
        "sns.boxplot(data=[old_car_data['price'], new_car_data['price']], notch=True)\n",
        "plt.xticks(ticks=[0, 1], labels=['Old Car Data', 'New Car Data'])\n",
        "plt.ylabel('Price')\n",
        "plt.title('Comparison of Price Distribution')\n",
        "plt.show()"
      ]
    },
    {
      "cell_type": "markdown",
      "source": [
        "\"The comparison of price ranges between the old data and the new data, after the removal of outliers, demonstrates notable changes. In the old data, the price range extended to a maximum of Rs210,000,000, while in the new data, which has undergone outlier removal, the maximum price is Rs72,500,000. This significant reduction in the upper price limit has resulted in a narrower and more focused price range in the cleaned dataset, enhancing its relevance and reliability for analysis.\""
      ],
      "metadata": {
        "id": "Mzw7E8NeHNKT"
      }
    },
    {
      "cell_type": "code",
      "execution_count": 61,
      "metadata": {
        "colab": {
          "base_uri": "https://localhost:8080/",
          "height": 527
        },
        "id": "1Msqdf3kZfkx",
        "outputId": "7d9b26b9-14e7-450c-9d96-74b980792172"
      },
      "outputs": [
        {
          "output_type": "display_data",
          "data": {
            "text/plain": [
              "<Figure size 1000x600 with 0 Axes>"
            ]
          },
          "metadata": {}
        },
        {
          "output_type": "display_data",
          "data": {
            "text/plain": [
              "<Figure size 640x480 with 1 Axes>"
            ],
            "image/png": "[encoded data removed]"
          },
          "metadata": {}
        }
      ],
      "source": [
        "# Compare vehicle types distribution\n",
        "old_vehicle_distribution = old_car_data['vehicle_type'].value_counts()\n",
        "new_vehicle_distribution = new_car_data['vehicle_type'].value_counts()\n",
        "\n",
        "combined_counts = pd.concat([old_vehicle_distribution, new_vehicle_distribution], axis=1)\n",
        "combined_counts.columns = ['Old Car Data', 'New Car Data']\n",
        "\n",
        "# Visualize vehicle type distribution\n",
        "plt.figure(figsize=(10, 6))\n",
        "combined_counts.plot(kind='bar', alpha=0.7)\n",
        "plt.ylabel('Count')\n",
        "plt.title('Comparison of Vehicle Type Distribution')\n",
        "plt.show()"
      ]
    },
    {
      "cell_type": "markdown",
      "source": [
        "\n",
        "\"In the analysis of vehicle types, we've observed a slight difference between the old dataset and the new dataset for both automatic and manual transmission vehicles.\""
      ],
      "metadata": {
        "id": "PdwNJBVLHa9r"
      }
    },
    {
      "cell_type": "code",
      "execution_count": 62,
      "metadata": {
        "colab": {
          "base_uri": "https://localhost:8080/",
          "height": 626
        },
        "id": "34zYLR83Zkyu",
        "outputId": "bc107420-ee0c-462c-ec1a-5aa98f971b01"
      },
      "outputs": [
        {
          "output_type": "stream",
          "name": "stderr",
          "text": [
            "<ipython-input-62-93117e88e678>:2: FutureWarning: The default value of numeric_only in DataFrame.corr is deprecated. In a future version, it will default to False. Select only valid columns or specify the value of numeric_only to silence this warning.\n",
            "  old_correlation_matrix = old_car_data.corr()\n",
            "<ipython-input-62-93117e88e678>:3: FutureWarning: The default value of numeric_only in DataFrame.corr is deprecated. In a future version, it will default to False. Select only valid columns or specify the value of numeric_only to silence this warning.\n",
            "  new_correlation_matrix = new_car_data.corr()\n"
          ]
        },
        {
          "output_type": "display_data",
          "data": {
            "text/plain": [
              "<Figure size 1500x600 with 4 Axes>"
            ],
            "image/png": "[encoded data removed]"
          },
          "metadata": {}
        }
      ],
      "source": [
        "# Calculate correlation matrices for old and new car datasets\n",
        "old_correlation_matrix = old_car_data.corr()\n",
        "new_correlation_matrix = new_car_data.corr()\n",
        "\n",
        "# Create subplots for side-by-side comparison\n",
        "fig, axes = plt.subplots(1, 2, figsize=(15, 6))\n",
        "\n",
        "# Create heatmap for old car data correlation matrix\n",
        "sns.heatmap(old_correlation_matrix, annot=True, cmap='coolwarm', center=0, ax=axes[0])\n",
        "axes[0].set_title('Old Car Data - Correlation Heatmap')\n",
        "\n",
        "# Create heatmap for new car data correlation matrix\n",
        "sns.heatmap(new_correlation_matrix, annot=True, cmap='coolwarm', center=0, ax=axes[1])\n",
        "axes[1].set_title('New Car Data - Correlation Heatmap')\n",
        "\n",
        "plt.tight_layout()\n",
        "plt.show()"
      ]
    },
    {
      "cell_type": "markdown",
      "metadata": {
        "id": "PnWblnRcr3dQ"
      },
      "source": [
        "# **MODEL**"
      ]
    },
    {
      "cell_type": "markdown",
      "metadata": {
        "id": "GrsBIX3_coEv"
      },
      "source": [
        "# **Applying Linear Regression**\n",
        "\"Now We'll begin by applying Linear Regression to our dataset to analyze and predict numerical values effectively, providing valuable insights to support our decision-making process.\""
      ]
    },
    {
      "cell_type": "code",
      "execution_count": 63,
      "metadata": {
        "id": "BlmDHhAmcLOi"
      },
      "outputs": [],
      "source": [
        "from sklearn.model_selection import train_test_split\n",
        "from sklearn.linear_model import LinearRegression\n",
        "from sklearn.metrics import mean_squared_error, r2_score\n",
        "from sklearn.preprocessing import OneHotEncoder, StandardScaler\n",
        "from sklearn.compose import make_column_transformer, ColumnTransformer\n",
        "from sklearn.pipeline import make_pipeline\n",
        "\n",
        "\n",
        "X = df[['name', 'company', 'year', 'kms_driven', 'vehicle_engine', 'fuel_type', 'vehicle_type']]\n",
        "y = df['price']  # Replace with your target column\n",
        "X_train, X_test, y_train, y_test = train_test_split(X,y, test_size = 0.2)\n",
        "ohe = OneHotEncoder()\n",
        "ohe.fit(X[['name', 'company', 'year', 'kms_driven', 'vehicle_engine', 'fuel_type', 'vehicle_type']])\n",
        "\n",
        "column_trans = make_column_transformer((OneHotEncoder(categories = ohe.categories_), ['name', 'company', 'year', 'kms_driven','vehicle_engine', 'fuel_type', 'vehicle_type']),\n",
        "                                       remainder='passthrough')\n",
        "\n",
        "lr = LinearRegression()\n",
        "\n",
        "pipe = make_pipeline(column_trans, lr)\n",
        "\n"
      ]
    },
    {
      "cell_type": "code",
      "execution_count": 64,
      "metadata": {
        "colab": {
          "base_uri": "https://localhost:8080/"
        },
        "id": "h_VMhjiKdrCR",
        "outputId": "ecb835e8-3e65-48b4-da6e-182a236bd534"
      },
      "outputs": [
        {
          "output_type": "execute_result",
          "data": {
            "text/plain": [
              "[array(['Adam Revo', 'Audi A', 'Audi Q', 'Audi TT', 'Audi e-tron',\n",
              "        'BAIC BJ', 'BAIC BJ Plus', 'BAIC Senova X', 'BMW  Series',\n",
              "        'BMW M Series', 'BMW X', 'BMW X Series', 'BMW Z', 'BMW i',\n",
              "        'Buick Electra', 'Buick Lesabre', 'Cadillac Escalade Ext',\n",
              "        'Changan A', 'Changan Alsvin', 'Changan CXT', 'Changan Gilgit',\n",
              "        'Changan Kaghan XL', 'Changan Kalam', 'Changan Kalash',\n",
              "        'Changan Karvaan', 'Changan M', 'Changan Oshan X',\n",
              "        'Changan Shahanshah', 'Chery QQ', 'Chery Tiggo',\n",
              "        'Chevrolet Caprice', 'Chevrolet Cruze', 'Chevrolet Exclusive',\n",
              "        'Chevrolet Joy', 'Chevrolet Lumina', 'Chevrolet Matiz',\n",
              "        'Chevrolet Optra', 'Chevrolet Silverado', 'Chevrolet Spark',\n",
              "        'Chrysler  C', 'DFSK C', 'DFSK Convoy', 'DFSK Glory',\n",
              "        'Daehan Shehzore', 'Daewoo Cielo', 'Daewoo Racer',\n",
              "        'Daihatsu Atrai Wagon', 'Daihatsu Bego', 'Daihatsu Boon',\n",
              "        'Daihatsu Cast', 'Daihatsu Charade', 'Daihatsu Charmant',\n",
              "        'Daihatsu Coo', 'Daihatsu Copen', 'Daihatsu Cuore',\n",
              "        'Daihatsu Esse', 'Daihatsu Hijet', 'Daihatsu Mira',\n",
              "        'Daihatsu Mira Cocoa', 'Daihatsu Mira Gino', 'Daihatsu Move',\n",
              "        'Daihatsu Move Conte', 'Daihatsu Move Latte', 'Daihatsu Rocky',\n",
              "        'Daihatsu Sonica', 'Daihatsu Storia', 'Daihatsu Taft',\n",
              "        'Daihatsu Tanto', 'Daihatsu Terios', 'Daihatsu Terios Kid',\n",
              "        'Daihatsu Thor', 'Datsun', 'Datsun  Y', 'Dodge Ram', 'FAW Carrier',\n",
              "        'FAW Jiaxing Mini', 'FAW Sirius', 'FAW V', 'FAW Vita', 'FAW X-PV',\n",
              "        'Fiat Bravo', 'Fiat Uno', 'Ford Cortina', 'Ford F', 'Ford Fiesta',\n",
              "        'Ford Mustang', 'Ford Mutt M', 'Ford Ranger', 'GMC Sierra',\n",
              "        'Geely Ck', 'Golf Convertible', 'Haval H', 'Haval Jolion',\n",
              "        'Hino  Series', 'Hino FGJ', 'Honda Accord', 'Honda Accord Tourer',\n",
              "        'Honda Acty', 'Honda Airwave', 'Honda BR-V', 'Honda Beat',\n",
              "        'Honda CR-V', 'Honda CR-Z Sports', 'Honda City', 'Honda Civic',\n",
              "        'Honda Cross Road', 'Honda Ferio', 'Honda Fit', 'Honda Fit Aria',\n",
              "        'Honda Freed', 'Honda Grace Hybrid', 'Honda HR-V', 'Honda Insight',\n",
              "        'Honda Insight Exclusive', 'Honda Inspire', 'Honda Integra',\n",
              "        'Honda Jade', 'Honda Life', 'Honda N Box', 'Honda N One',\n",
              "        'Honda N Wgn', 'Honda Partner', 'Honda S', 'Honda Spike',\n",
              "        'Honda Stream', 'Honda Thats', 'Honda Vamos', 'Honda Vamos Hobio',\n",
              "        'Honda Vezel', 'Honda Zest', 'Hummer H', 'Hyundai Accent',\n",
              "        'Hyundai Coupe', 'Hyundai Elantra', 'Hyundai Excel', 'Hyundai H',\n",
              "        'Hyundai H-', 'Hyundai Santa Fe', 'Hyundai Santro',\n",
              "        'Hyundai Shehzore', 'Hyundai Sonata', 'Hyundai Terracan',\n",
              "        'Hyundai Tucson', 'Isuzu Como', 'Isuzu D-Max', 'Isuzu NKR',\n",
              "        'Isuzu Trooper', 'JAC T', 'JAC X', 'JMC New Boarding', 'JMC Vigus',\n",
              "        'JW Forland Bravo', 'JW Forland C-', 'JW Forland T-',\n",
              "        'JW Forland TM', 'Jaguar XF', 'Jeep Bj', 'Jeep CJ',\n",
              "        'Jeep Cherokee', 'Jeep Cj', 'Jeep Commander .', 'Jeep Gladiator',\n",
              "        'Jeep M', 'Jeep Wrangler', 'KIA Cerato', 'KIA Classic',\n",
              "        'KIA Frontier K', 'KIA Grand Carnival', 'KIA Picanto', 'KIA Pride',\n",
              "        'KIA Rio', 'KIA Sorento', 'KIA Spectra', 'KIA Sportage',\n",
              "        'KIA Stonic', 'Land Rover Defender', 'Land Rover Discovery',\n",
              "        'Land Rover Freelander', 'Lexus CTh', 'Lexus Gs Series',\n",
              "        'Lexus LS Series', 'Lexus LX Series', 'Lexus Nx',\n",
              "        'Lexus RX Series', 'MG', 'MG HS', 'MG ZS', 'MINI Cooper',\n",
              "        'Master Foton', 'Mazda', 'Mazda Axela', 'Mazda Azwagon', 'Mazda B',\n",
              "        'Mazda Carol', 'Mazda Carol Eco', 'Mazda Cx', 'Mazda Demio',\n",
              "        'Mazda E', 'Mazda Familia Van', 'Mazda Flair',\n",
              "        'Mazda Flair Crossover', 'Mazda Flair Custom', 'Mazda Flair Wagon',\n",
              "        'Mazda Luce', 'Mazda MX', 'Mazda Premacy', 'Mazda RX', 'Mazda Rx',\n",
              "        'Mazda Scrum', 'Mazda Scrum Wagon', 'Mazda Titan', 'Mercedes Benz',\n",
              "        'Mercedes Benz A', 'Mercedes Benz C', 'Mercedes Benz CLA',\n",
              "        'Mercedes Benz CLK', 'Mercedes Benz CLS', 'Mercedes Benz Cl',\n",
              "        'Mercedes Benz D', 'Mercedes Benz E', 'Mercedes Benz G',\n",
              "        'Mercedes Benz GLA', 'Mercedes Benz GLB', 'Mercedes Benz M',\n",
              "        'Mercedes Benz Mb', 'Mercedes Benz S', 'Mercedes Benz SLK',\n",
              "        'Mercedes Benz Smart', 'Mercedes Benz Unimog',\n",
              "        'Mercedes Benz Vito', 'Mitsubishi Chariot', 'Mitsubishi Colt',\n",
              "        'Mitsubishi Delica', 'Mitsubishi EK Custom', 'Mitsubishi EK Space',\n",
              "        'Mitsubishi EK X', 'Mitsubishi Ek Sport', 'Mitsubishi Ek Wagon',\n",
              "        'Mitsubishi Galant', 'Mitsubishi Grandis', 'Mitsubishi Gto',\n",
              "        'Mitsubishi I', 'Mitsubishi I Mivec', 'Mitsubishi L',\n",
              "        'Mitsubishi Lancer', 'Mitsubishi Lancer Evolution',\n",
              "        'Mitsubishi Minica', 'Mitsubishi Minicab Bravo',\n",
              "        'Mitsubishi Mirage', 'Mitsubishi Outlander', 'Mitsubishi Pajero',\n",
              "        'Mitsubishi Pajero Junior', 'Mitsubishi Pajero Mini',\n",
              "        'Mitsubishi Rvr', 'Mitsubishi Shogun', 'Mitsubishi Toppo',\n",
              "        'Mitsubishi Town Box', 'Mitsubishi Triton', 'Morris Oxford',\n",
              "        'Mushtaq KY', 'Nissan  Y', 'Nissan AD Van', 'Nissan Almera',\n",
              "        'Nissan Blue Bird', 'Nissan Bluebird Sylphy', 'Nissan Caravan',\n",
              "        'Nissan Cedric', 'Nissan Cefiro', 'Nissan Clipper', 'Nissan Cube',\n",
              "        'Nissan Dayz', 'Nissan Dayz Highway', 'Nissan Infinity',\n",
              "        'Nissan Juke', 'Nissan Kicks', 'Nissan Kix', 'Nissan Latio',\n",
              "        'Nissan March', 'Nissan Micra', 'Nissan Moco', 'Nissan Murano',\n",
              "        'Nissan Navara', 'Nissan Note', 'Nissan Nv Caravan',\n",
              "        'Nissan Nv Vanette', 'Nissan Otti', 'Nissan Path Finder',\n",
              "        'Nissan Patrol', 'Nissan Pickup', 'Nissan Pino', 'Nissan Qashqai',\n",
              "        'Nissan Roox', 'Nissan Safari', 'Nissan Sentra', 'Nissan Serena',\n",
              "        'Nissan Skyline', 'Nissan Sunny', 'Nissan Tiida',\n",
              "        'Nissan Wingroad', 'Nissan X Trail', 'Nissan Z',\n",
              "        'Oldsmobile Ninety Eight', 'Opel Rekord', 'Peugeot',\n",
              "        'Peugeot Saga', 'Porsche Cayenne', 'Porsche Macan',\n",
              "        'Porsche Panamera', 'Prince K', 'Prince Pearl', 'Proton Gen',\n",
              "        'Proton Impian', 'Proton Saga', 'Proton X',\n",
              "        'Range Rover Autobiography', 'Range Rover Classic',\n",
              "        'Range Rover Evoque', 'Range Rover Hse', 'Range Rover Sport',\n",
              "        'Range Rover Vogue', 'Roma Family Van', 'Roma Mini Truck',\n",
              "        'Sogo Double Cabin', 'Sogo Pickup', 'SsangYong Rexton',\n",
              "        'SsangYong Stavic', 'Subaru Brz', 'Subaru Dias Wagon',\n",
              "        'Subaru Forester', 'Subaru Impreza', 'Subaru Justy',\n",
              "        'Subaru Lucra', 'Subaru Pleo', 'Subaru R', 'Subaru Sambar',\n",
              "        'Subaru Stella', 'Subaru Xv', 'Suzuki APV', 'Suzuki Aerio',\n",
              "        'Suzuki Alto', 'Suzuki Alto Lapin', 'Suzuki Baleno',\n",
              "        'Suzuki Bolan', 'Suzuki Cappuccino', 'Suzuki Carry',\n",
              "        'Suzuki Celerio', 'Suzuki Cervo', 'Suzuki Ciaz', 'Suzuki Cultus',\n",
              "        'Suzuki Escudo', 'Suzuki Every', 'Suzuki Every Wagon', 'Suzuki FX',\n",
              "        'Suzuki Hustler', 'Suzuki Jimny', 'Suzuki Jimny Sierra',\n",
              "        'Suzuki Kei', 'Suzuki Khyber', 'Suzuki Kizashi', 'Suzuki Liana',\n",
              "        'Suzuki Lj', 'Suzuki MR Wagon', 'Suzuki Margalla',\n",
              "        'Suzuki Mega Carry', 'Suzuki Mehran', 'Suzuki Palette Sw',\n",
              "        'Suzuki Potohar', 'Suzuki Ravi', 'Suzuki S Cross',\n",
              "        'Suzuki Samurai', 'Suzuki Sj', 'Suzuki Solio',\n",
              "        'Suzuki Solio Bandit', 'Suzuki Spacia', 'Suzuki Splash',\n",
              "        'Suzuki Swift', 'Suzuki Sx', 'Suzuki Vitara', 'Suzuki Wagon R',\n",
              "        'Suzuki Xbee', 'Toyota', 'Toyota Allex', 'Toyota Allion',\n",
              "        'Toyota Alphard', 'Toyota Alphard G', 'Toyota Alphard Hybrid',\n",
              "        'Toyota Aqua', 'Toyota Avanza', 'Toyota Avensis', 'Toyota Aygo',\n",
              "        'Toyota B B', 'Toyota Belta', 'Toyota C-HR', 'Toyota Caldina',\n",
              "        'Toyota Cami', 'Toyota Camry', 'Toyota Carina', 'Toyota Celica',\n",
              "        'Toyota Chaser', 'Toyota Coaster', 'Toyota Corolla',\n",
              "        'Toyota Corolla Assista', 'Toyota Corolla Axio',\n",
              "        'Toyota Corolla Cross', 'Toyota Corolla Fielder',\n",
              "        'Toyota Corolla Hatchback', 'Toyota Corona', 'Toyota Cressida',\n",
              "        'Toyota Crown', 'Toyota Duet', 'Toyota Echo', 'Toyota Estima',\n",
              "        'Toyota Fj Cruiser', 'Toyota Fortuner', 'Toyota Harrier',\n",
              "        'Toyota Hiace', 'Toyota Highlander', 'Toyota Hilux', 'Toyota ISIS',\n",
              "        'Toyota IST', 'Toyota Land Cruiser', 'Toyota Lite Ace',\n",
              "        'Toyota Lucida', 'Toyota Mark II', 'Toyota Mark X', 'Toyota Noah',\n",
              "        'Toyota Passo', 'Toyota Pickup', 'Toyota Pixis Epoch',\n",
              "        'Toyota Pixis Space', 'Toyota Pixis Van', 'Toyota Platz',\n",
              "        'Toyota Porte', 'Toyota Prado', 'Toyota Premio', 'Toyota Prius',\n",
              "        'Toyota Prius Alpha', 'Toyota Probox', 'Toyota Ractis',\n",
              "        'Toyota Raize', 'Toyota Raum', 'Toyota Rav', 'Toyota Roomy',\n",
              "        'Toyota Rush', 'Toyota Sai', 'Toyota Sera', 'Toyota Sienta',\n",
              "        'Toyota Sprinter', 'Toyota Starlet', 'Toyota Succeed',\n",
              "        'Toyota Surf', 'Toyota Tacoma', 'Toyota Tank', 'Toyota Town Ace',\n",
              "        'Toyota Tundra', 'Toyota Van', 'Toyota Vanguard', 'Toyota Verossa',\n",
              "        'Toyota Vitz', 'Toyota Voxy', 'Toyota Wish', 'Toyota Yaris',\n",
              "        'Toyota Yaris Cross', 'Toyota Yaris Hatchback', 'Toyota iQ',\n",
              "        'United Alpha', 'United Bravo', 'Volkswagen Amarok',\n",
              "        'Volkswagen Beetle', 'Volkswagen Golf', 'Volkswagen Up',\n",
              "        'Willys M', 'ZOTYE Z'], dtype=object),\n",
              " array(['Adam', 'Audi', 'BAIC', 'BMW', 'Buick', 'Cadillac', 'Changan',\n",
              "        'Chery', 'Chevrolet', 'Chrysler', 'DFSK', 'Daehan', 'Daewoo',\n",
              "        'Daihatsu', 'Datsun', 'Dodge', 'FAW', 'Fiat', 'Ford', 'GMC',\n",
              "        'Geely', 'Golf', 'Haval', 'Hino', 'Honda', 'Hummer', 'Hyundai',\n",
              "        'Isuzu', 'JAC', 'JMC', 'JW Forland', 'Jaguar', 'Jeep', 'KIA',\n",
              "        'Land Rover', 'Lexus', 'MG', 'MINI', 'Master', 'Mazda',\n",
              "        'Mercedes Benz', 'Mitsubishi', 'Morris', 'Mushtaq', 'Nissan',\n",
              "        'Oldsmobile', 'Opel', 'Peugeot', 'Porsche', 'Prince', 'Proton',\n",
              "        'Range Rover', 'Roma', 'Sogo', 'SsangYong', 'Subaru', 'Suzuki',\n",
              "        'Toyota', 'United', 'Volkswagen', 'Willys', 'ZOTYE'], dtype=object),\n",
              " array([1960, 1961, 1963, 1964, 1965, 1966, 1967, 1968, 1969, 1970, 1971,\n",
              "        1972, 1973, 1974, 1975, 1976, 1977, 1978, 1979, 1980, 1981, 1982,\n",
              "        1983, 1984, 1985, 1986, 1987, 1988, 1989, 1990, 1991, 1992, 1993,\n",
              "        1994, 1995, 1996, 1997, 1998, 1999, 2000, 2001, 2002, 2003, 2004,\n",
              "        2005, 2006, 2007, 2008, 2009, 2010, 2011, 2012, 2013, 2014, 2015,\n",
              "        2016, 2017, 2018, 2019, 2020, 2021, 2022, 2023]),\n",
              " array([      1,       2,       3, ...,  999995,  999999, 1000000]),\n",
              " array([  100,   109,   111,   122,   123,   125,   130,   150,   170,\n",
              "          180,   200,   220,   222,   230,   300,   308,   400,   539,\n",
              "          548,   550,   599,   600,   660,   696,   699,   700,   750,\n",
              "          796,   800,   860,   870,   880,   887,   900,   933,   950,\n",
              "          993,   996,   997,   998,   999,  1000,  1086,  1100,  1111,\n",
              "         1198,  1199,  1200,  1240,  1242,  1299,  1300,  1323,  1368,\n",
              "         1400,  1490,  1496,  1497,  1498,  1499,  1500,  1591,  1598,\n",
              "         1600,  1667,  1668,  1690,  1699,  1700,  1794,  1797,  1798,\n",
              "         1799,  1800,  1900,  1981,  1991,  1999,  2000,  2100,  2171,\n",
              "         2184,  2198,  2200,  2235,  2237,  2300,  2359,  2400,  2497,\n",
              "         2500,  2597,  2600,  2700,  2800,  2900,  2999,  3000,  3100,\n",
              "         3135,  3150,  3153,  3189,  3199,  3200,  3246,  3300,  3311,\n",
              "         3342,  3350,  3378,  3400,  3420,  3431,  3438,  3450,  3470,\n",
              "         3479,  3500,  3600,  3700,  3799,  3800,  4000,  4163,  4164,\n",
              "         4196,  4200,  4300,  4400,  4476,  4500,  4600,  4608,  4663,\n",
              "         4700,  4800,  4806,  4966,  5000,  5300,  5400,  5438,  5461,\n",
              "         5496,  5500,  5548,  5600,  5663,  5700,  5874,  5972,  6000,\n",
              "         6100,  6200,  6208,  6300,  6464,  6500,  6597,  6600,  7500,\n",
              "         7700,  7996,  8000,  9464,  9999, 10000, 10002, 11111, 12354,\n",
              "        13000, 14000, 14999, 15000]),\n",
              " array(['CNG', 'Diesel', 'Electric', 'Hybrid', 'Lpg', 'Petrol'],\n",
              "       dtype=object),\n",
              " array(['Automatic', 'Manual'], dtype=object)]"
            ]
          },
          "metadata": {},
          "execution_count": 64
        }
      ],
      "source": [
        "categories = ohe.categories_\n",
        "categories"
      ]
    },
    {
      "cell_type": "code",
      "execution_count": 65,
      "metadata": {
        "colab": {
          "base_uri": "https://localhost:8080/",
          "height": 0
        },
        "id": "PRABPfyWf2SZ",
        "outputId": "913e29d5-f347-4604-f78d-5a5b0a1b79d8"
      },
      "outputs": [
        {
          "output_type": "execute_result",
          "data": {
            "text/plain": [
              "Pipeline(steps=[('columntransformer',\n",
              "                 ColumnTransformer(remainder='passthrough',\n",
              "                                   transformers=[('onehotencoder',\n",
              "                                                  OneHotEncoder(categories=[array(['Adam Revo', 'Audi A', 'Audi Q', 'Audi TT', 'Audi e-tron',\n",
              "       'BAIC BJ', 'BAIC BJ Plus', 'BAIC Senova X', 'BMW  Series',\n",
              "       'BMW M Series', 'BMW X', 'BMW X Series', 'BMW Z', 'BMW i',\n",
              "       'Buick Electra', 'Buick Lesabre', 'Cadillac Escalade Ext',\n",
              "       'Changan A',...\n",
              "        6100,  6200,  6208,  6300,  6464,  6500,  6597,  6600,  7500,\n",
              "        7700,  7996,  8000,  9464,  9999, 10000, 10002, 11111, 12354,\n",
              "       13000, 14000, 14999, 15000]),\n",
              "                                                                            array(['CNG', 'Diesel', 'Electric', 'Hybrid', 'Lpg', 'Petrol'],\n",
              "      dtype=object),\n",
              "                                                                            array(['Automatic', 'Manual'], dtype=object)]),\n",
              "                                                  ['name', 'company', 'year',\n",
              "                                                   'kms_driven',\n",
              "                                                   'vehicle_engine',\n",
              "                                                   'fuel_type',\n",
              "                                                   'vehicle_type'])])),\n",
              "                ('linearregression', LinearRegression())])"
            ],
            "text/html": [
              "<style>#sk-container-id-1 {color: black;background-color: white;}#sk-container-id-1 pre{padding: 0;}#sk-container-id-1 div.sk-toggleable {background-color: white;}#sk-container-id-1 label.sk-toggleable__label {cursor: pointer;display: block;width: 100%;margin-bottom: 0;padding: 0.3em;box-sizing: border-box;text-align: center;}#sk-container-id-1 label.sk-toggleable__label-arrow:before {content: \"▸\";float: left;margin-right: 0.25em;color: #696969;}#sk-container-id-1 label.sk-toggleable__label-arrow:hover:before {color: black;}#sk-container-id-1 div.sk-estimator:hover label.sk-toggleable__label-arrow:before {color: black;}#sk-container-id-1 div.sk-toggleable__content {max-height: 0;max-width: 0;overflow: hidden;text-align: left;background-color: #f0f8ff;}#sk-container-id-1 div.sk-toggleable__content pre {margin: 0.2em;color: black;border-radius: 0.25em;background-color: #f0f8ff;}#sk-container-id-1 input.sk-toggleable__control:checked~div.sk-toggleable__content {max-height: 200px;max-width: 100%;overflow: auto;}#sk-container-id-1 input.sk-toggleable__control:checked~label.sk-toggleable__label-arrow:before {content: \"▾\";}#sk-container-id-1 div.sk-estimator input.sk-toggleable__control:checked~label.sk-toggleable__label {background-color: #d4ebff;}#sk-container-id-1 div.sk-label input.sk-toggleable__control:checked~label.sk-toggleable__label {background-color: #d4ebff;}#sk-container-id-1 input.sk-hidden--visually {border: 0;clip: rect(1px 1px 1px 1px);clip: rect(1px, 1px, 1px, 1px);height: 1px;margin: -1px;overflow: hidden;padding: 0;position: absolute;width: 1px;}#sk-container-id-1 div.sk-estimator {font-family: monospace;background-color: #f0f8ff;border: 1px dotted black;border-radius: 0.25em;box-sizing: border-box;margin-bottom: 0.5em;}#sk-container-id-1 div.sk-estimator:hover {background-color: #d4ebff;}#sk-container-id-1 div.sk-parallel-item::after {content: \"\";width: 100%;border-bottom: 1px solid gray;flex-grow: 1;}#sk-container-id-1 div.sk-label:hover label.sk-toggleable__label {background-color: #d4ebff;}#sk-container-id-1 div.sk-serial::before {content: \"\";position: absolute;border-left: 1px solid gray;box-sizing: border-box;top: 0;bottom: 0;left: 50%;z-index: 0;}#sk-container-id-1 div.sk-serial {display: flex;flex-direction: column;align-items: center;background-color: white;padding-right: 0.2em;padding-left: 0.2em;position: relative;}#sk-container-id-1 div.sk-item {position: relative;z-index: 1;}#sk-container-id-1 div.sk-parallel {display: flex;align-items: stretch;justify-content: center;background-color: white;position: relative;}#sk-container-id-1 div.sk-item::before, #sk-container-id-1 div.sk-parallel-item::before {content: \"\";position: absolute;border-left: 1px solid gray;box-sizing: border-box;top: 0;bottom: 0;left: 50%;z-index: -1;}#sk-container-id-1 div.sk-parallel-item {display: flex;flex-direction: column;z-index: 1;position: relative;background-color: white;}#sk-container-id-1 div.sk-parallel-item:first-child::after {align-self: flex-end;width: 50%;}#sk-container-id-1 div.sk-parallel-item:last-child::after {align-self: flex-start;width: 50%;}#sk-container-id-1 div.sk-parallel-item:only-child::after {width: 0;}#sk-container-id-1 div.sk-dashed-wrapped {border: 1px dashed gray;margin: 0 0.4em 0.5em 0.4em;box-sizing: border-box;padding-bottom: 0.4em;background-color: white;}#sk-container-id-1 div.sk-label label {font-family: monospace;font-weight: bold;display: inline-block;line-height: 1.2em;}#sk-container-id-1 div.sk-label-container {text-align: center;}#sk-container-id-1 div.sk-container {/* jupyter's `normalize.less` sets `[hidden] { display: none; }` but bootstrap.min.css set `[hidden] { display: none !important; }` so we also need the `!important` here to be able to override the default hidden behavior on the sphinx rendered scikit-learn.org. See: https://github.com/scikit-learn/scikit-learn/issues/21755 */display: inline-block !important;position: relative;}#sk-container-id-1 div.sk-text-repr-fallback {display: none;}</style><div id=\"sk-container-id-1\" class=\"sk-top-container\"><div class=\"sk-text-repr-fallback\"><pre>Pipeline(steps=[(&#x27;columntransformer&#x27;,\n",
              "                 ColumnTransformer(remainder=&#x27;passthrough&#x27;,\n",
              "                                   transformers=[(&#x27;onehotencoder&#x27;,\n",
              "                                                  OneHotEncoder(categories=[array([&#x27;Adam Revo&#x27;, &#x27;Audi A&#x27;, &#x27;Audi Q&#x27;, &#x27;Audi TT&#x27;, &#x27;Audi e-tron&#x27;,\n",
              "       &#x27;BAIC BJ&#x27;, &#x27;BAIC BJ Plus&#x27;, &#x27;BAIC Senova X&#x27;, &#x27;BMW  Series&#x27;,\n",
              "       &#x27;BMW M Series&#x27;, &#x27;BMW X&#x27;, &#x27;BMW X Series&#x27;, &#x27;BMW Z&#x27;, &#x27;BMW i&#x27;,\n",
              "       &#x27;Buick Electra&#x27;, &#x27;Buick Lesabre&#x27;, &#x27;Cadillac Escalade Ext&#x27;,\n",
              "       &#x27;Changan A&#x27;,...\n",
              "        6100,  6200,  6208,  6300,  6464,  6500,  6597,  6600,  7500,\n",
              "        7700,  7996,  8000,  9464,  9999, 10000, 10002, 11111, 12354,\n",
              "       13000, 14000, 14999, 15000]),\n",
              "                                                                            array([&#x27;CNG&#x27;, &#x27;Diesel&#x27;, &#x27;Electric&#x27;, &#x27;Hybrid&#x27;, &#x27;Lpg&#x27;, &#x27;Petrol&#x27;],\n",
              "      dtype=object),\n",
              "                                                                            array([&#x27;Automatic&#x27;, &#x27;Manual&#x27;], dtype=object)]),\n",
              "                                                  [&#x27;name&#x27;, &#x27;company&#x27;, &#x27;year&#x27;,\n",
              "                                                   &#x27;kms_driven&#x27;,\n",
              "                                                   &#x27;vehicle_engine&#x27;,\n",
              "                                                   &#x27;fuel_type&#x27;,\n",
              "                                                   &#x27;vehicle_type&#x27;])])),\n",
              "                (&#x27;linearregression&#x27;, LinearRegression())])</pre><b>In a Jupyter environment, please rerun this cell to show the HTML representation or trust the notebook. <br />On GitHub, the HTML representation is unable to render, please try loading this page with nbviewer.org.</b></div><div class=\"sk-container\" hidden><div class=\"sk-item sk-dashed-wrapped\"><div class=\"sk-label-container\"><div class=\"sk-label sk-toggleable\"><input class=\"sk-toggleable__control sk-hidden--visually\" id=\"sk-estimator-id-1\" type=\"checkbox\" ><label for=\"sk-estimator-id-1\" class=\"sk-toggleable__label sk-toggleable__label-arrow\">Pipeline</label><div class=\"sk-toggleable__content\"><pre>Pipeline(steps=[(&#x27;columntransformer&#x27;,\n",
              "                 ColumnTransformer(remainder=&#x27;passthrough&#x27;,\n",
              "                                   transformers=[(&#x27;onehotencoder&#x27;,\n",
              "                                                  OneHotEncoder(categories=[array([&#x27;Adam Revo&#x27;, &#x27;Audi A&#x27;, &#x27;Audi Q&#x27;, &#x27;Audi TT&#x27;, &#x27;Audi e-tron&#x27;,\n",
              "       &#x27;BAIC BJ&#x27;, &#x27;BAIC BJ Plus&#x27;, &#x27;BAIC Senova X&#x27;, &#x27;BMW  Series&#x27;,\n",
              "       &#x27;BMW M Series&#x27;, &#x27;BMW X&#x27;, &#x27;BMW X Series&#x27;, &#x27;BMW Z&#x27;, &#x27;BMW i&#x27;,\n",
              "       &#x27;Buick Electra&#x27;, &#x27;Buick Lesabre&#x27;, &#x27;Cadillac Escalade Ext&#x27;,\n",
              "       &#x27;Changan A&#x27;,...\n",
              "        6100,  6200,  6208,  6300,  6464,  6500,  6597,  6600,  7500,\n",
              "        7700,  7996,  8000,  9464,  9999, 10000, 10002, 11111, 12354,\n",
              "       13000, 14000, 14999, 15000]),\n",
              "                                                                            array([&#x27;CNG&#x27;, &#x27;Diesel&#x27;, &#x27;Electric&#x27;, &#x27;Hybrid&#x27;, &#x27;Lpg&#x27;, &#x27;Petrol&#x27;],\n",
              "      dtype=object),\n",
              "                                                                            array([&#x27;Automatic&#x27;, &#x27;Manual&#x27;], dtype=object)]),\n",
              "                                                  [&#x27;name&#x27;, &#x27;company&#x27;, &#x27;year&#x27;,\n",
              "                                                   &#x27;kms_driven&#x27;,\n",
              "                                                   &#x27;vehicle_engine&#x27;,\n",
              "                                                   &#x27;fuel_type&#x27;,\n",
              "                                                   &#x27;vehicle_type&#x27;])])),\n",
              "                (&#x27;linearregression&#x27;, LinearRegression())])</pre></div></div></div><div class=\"sk-serial\"><div class=\"sk-item sk-dashed-wrapped\"><div class=\"sk-label-container\"><div class=\"sk-label sk-toggleable\"><input class=\"sk-toggleable__control sk-hidden--visually\" id=\"sk-estimator-id-2\" type=\"checkbox\" ><label for=\"sk-estimator-id-2\" class=\"sk-toggleable__label sk-toggleable__label-arrow\">columntransformer: ColumnTransformer</label><div class=\"sk-toggleable__content\"><pre>ColumnTransformer(remainder=&#x27;passthrough&#x27;,\n",
              "                  transformers=[(&#x27;onehotencoder&#x27;,\n",
              "                                 OneHotEncoder(categories=[array([&#x27;Adam Revo&#x27;, &#x27;Audi A&#x27;, &#x27;Audi Q&#x27;, &#x27;Audi TT&#x27;, &#x27;Audi e-tron&#x27;,\n",
              "       &#x27;BAIC BJ&#x27;, &#x27;BAIC BJ Plus&#x27;, &#x27;BAIC Senova X&#x27;, &#x27;BMW  Series&#x27;,\n",
              "       &#x27;BMW M Series&#x27;, &#x27;BMW X&#x27;, &#x27;BMW X Series&#x27;, &#x27;BMW Z&#x27;, &#x27;BMW i&#x27;,\n",
              "       &#x27;Buick Electra&#x27;, &#x27;Buick Lesabre&#x27;, &#x27;Cadillac Escalade Ext&#x27;,\n",
              "       &#x27;Changan A&#x27;, &#x27;Changan Alsvin&#x27;, &#x27;Changan CXT&#x27;, &#x27;Changan...\n",
              "        5496,  5500,  5548,  5600,  5663,  5700,  5874,  5972,  6000,\n",
              "        6100,  6200,  6208,  6300,  6464,  6500,  6597,  6600,  7500,\n",
              "        7700,  7996,  8000,  9464,  9999, 10000, 10002, 11111, 12354,\n",
              "       13000, 14000, 14999, 15000]),\n",
              "                                                           array([&#x27;CNG&#x27;, &#x27;Diesel&#x27;, &#x27;Electric&#x27;, &#x27;Hybrid&#x27;, &#x27;Lpg&#x27;, &#x27;Petrol&#x27;],\n",
              "      dtype=object),\n",
              "                                                           array([&#x27;Automatic&#x27;, &#x27;Manual&#x27;], dtype=object)]),\n",
              "                                 [&#x27;name&#x27;, &#x27;company&#x27;, &#x27;year&#x27;, &#x27;kms_driven&#x27;,\n",
              "                                  &#x27;vehicle_engine&#x27;, &#x27;fuel_type&#x27;,\n",
              "                                  &#x27;vehicle_type&#x27;])])</pre></div></div></div><div class=\"sk-parallel\"><div class=\"sk-parallel-item\"><div class=\"sk-item\"><div class=\"sk-label-container\"><div class=\"sk-label sk-toggleable\"><input class=\"sk-toggleable__control sk-hidden--visually\" id=\"sk-estimator-id-3\" type=\"checkbox\" ><label for=\"sk-estimator-id-3\" class=\"sk-toggleable__label sk-toggleable__label-arrow\">onehotencoder</label><div class=\"sk-toggleable__content\"><pre>[&#x27;name&#x27;, &#x27;company&#x27;, &#x27;year&#x27;, &#x27;kms_driven&#x27;, &#x27;vehicle_engine&#x27;, &#x27;fuel_type&#x27;, &#x27;vehicle_type&#x27;]</pre></div></div></div><div class=\"sk-serial\"><div class=\"sk-item\"><div class=\"sk-estimator sk-toggleable\"><input class=\"sk-toggleable__control sk-hidden--visually\" id=\"sk-estimator-id-4\" type=\"checkbox\" ><label for=\"sk-estimator-id-4\" class=\"sk-toggleable__label sk-toggleable__label-arrow\">OneHotEncoder</label><div class=\"sk-toggleable__content\"><pre>OneHotEncoder(categories=[array([&#x27;Adam Revo&#x27;, &#x27;Audi A&#x27;, &#x27;Audi Q&#x27;, &#x27;Audi TT&#x27;, &#x27;Audi e-tron&#x27;,\n",
              "       &#x27;BAIC BJ&#x27;, &#x27;BAIC BJ Plus&#x27;, &#x27;BAIC Senova X&#x27;, &#x27;BMW  Series&#x27;,\n",
              "       &#x27;BMW M Series&#x27;, &#x27;BMW X&#x27;, &#x27;BMW X Series&#x27;, &#x27;BMW Z&#x27;, &#x27;BMW i&#x27;,\n",
              "       &#x27;Buick Electra&#x27;, &#x27;Buick Lesabre&#x27;, &#x27;Cadillac Escalade Ext&#x27;,\n",
              "       &#x27;Changan A&#x27;, &#x27;Changan Alsvin&#x27;, &#x27;Changan CXT&#x27;, &#x27;Changan Gilgit&#x27;,\n",
              "       &#x27;Changan Kaghan XL&#x27;, &#x27;Changan Kalam&#x27;, &#x27;Changan Kalash&#x27;,\n",
              "       &#x27;Changan Karvaan&#x27;...\n",
              "        4196,  4200,  4300,  4400,  4476,  4500,  4600,  4608,  4663,\n",
              "        4700,  4800,  4806,  4966,  5000,  5300,  5400,  5438,  5461,\n",
              "        5496,  5500,  5548,  5600,  5663,  5700,  5874,  5972,  6000,\n",
              "        6100,  6200,  6208,  6300,  6464,  6500,  6597,  6600,  7500,\n",
              "        7700,  7996,  8000,  9464,  9999, 10000, 10002, 11111, 12354,\n",
              "       13000, 14000, 14999, 15000]),\n",
              "                          array([&#x27;CNG&#x27;, &#x27;Diesel&#x27;, &#x27;Electric&#x27;, &#x27;Hybrid&#x27;, &#x27;Lpg&#x27;, &#x27;Petrol&#x27;],\n",
              "      dtype=object),\n",
              "                          array([&#x27;Automatic&#x27;, &#x27;Manual&#x27;], dtype=object)])</pre></div></div></div></div></div></div><div class=\"sk-parallel-item\"><div class=\"sk-item\"><div class=\"sk-label-container\"><div class=\"sk-label sk-toggleable\"><input class=\"sk-toggleable__control sk-hidden--visually\" id=\"sk-estimator-id-5\" type=\"checkbox\" ><label for=\"sk-estimator-id-5\" class=\"sk-toggleable__label sk-toggleable__label-arrow\">remainder</label><div class=\"sk-toggleable__content\"><pre>[]</pre></div></div></div><div class=\"sk-serial\"><div class=\"sk-item\"><div class=\"sk-estimator sk-toggleable\"><input class=\"sk-toggleable__control sk-hidden--visually\" id=\"sk-estimator-id-6\" type=\"checkbox\" ><label for=\"sk-estimator-id-6\" class=\"sk-toggleable__label sk-toggleable__label-arrow\">passthrough</label><div class=\"sk-toggleable__content\"><pre>passthrough</pre></div></div></div></div></div></div></div></div><div class=\"sk-item\"><div class=\"sk-estimator sk-toggleable\"><input class=\"sk-toggleable__control sk-hidden--visually\" id=\"sk-estimator-id-7\" type=\"checkbox\" ><label for=\"sk-estimator-id-7\" class=\"sk-toggleable__label sk-toggleable__label-arrow\">LinearRegression</label><div class=\"sk-toggleable__content\"><pre>LinearRegression()</pre></div></div></div></div></div></div></div>"
            ]
          },
          "metadata": {},
          "execution_count": 65
        }
      ],
      "source": [
        "pipe.fit(X_train, y_train)"
      ]
    },
    {
      "cell_type": "markdown",
      "metadata": {
        "id": "08SSiQ8qsIWl"
      },
      "source": [
        "# **Predicting**"
      ]
    },
    {
      "cell_type": "code",
      "execution_count": 66,
      "metadata": {
        "id": "sVpAHsSfiX11"
      },
      "outputs": [],
      "source": [
        "y_predict = pipe.predict(X_test)"
      ]
    },
    {
      "cell_type": "code",
      "execution_count": 67,
      "metadata": {
        "colab": {
          "base_uri": "https://localhost:8080/"
        },
        "id": "l5fKzAMOiiQL",
        "outputId": "2d2f7da6-bfcd-4e0a-814f-a5a5ff62ed18"
      },
      "outputs": [
        {
          "output_type": "execute_result",
          "data": {
            "text/plain": [
              "0.8038932608990742"
            ]
          },
          "metadata": {},
          "execution_count": 67
        }
      ],
      "source": [
        "r2_score(y_test, y_predict)"
      ]
    },
    {
      "cell_type": "markdown",
      "source": [
        "\n",
        "An R-squared (R^2) score of 0.803 suggests that our Linear Regression model is doing a good job at explaining and predicting the 'price' in our dataset. It means that roughly 80.37% of the variations in 'price' can be understood and accounted for by the factors or features we've considered in our model. In simpler terms, the model's predictions align well with the actual 'price' values, indicating its effectiveness in understanding the relationships between the chosen features and the target variable. This is a positive outcome in our data analysis, providing valuable insights for decision-making."
      ],
      "metadata": {
        "id": "fkeIrHHvNAN9"
      }
    },
    {
      "cell_type": "code",
      "execution_count": 68,
      "metadata": {
        "colab": {
          "base_uri": "https://localhost:8080/"
        },
        "id": "BLQapHe4lrc7",
        "outputId": "0907848a-c129-4cca-ff09-49ae9dd2edcb"
      },
      "outputs": [
        {
          "output_type": "stream",
          "name": "stdout",
          "text": [
            "0.8315186164675038 0\n",
            "0.8361085247375402 1\n",
            "0.7961956404883204 2\n",
            "0.836344101410648 3\n",
            "0.8034453991595543 4\n",
            "0.8402072466978057 5\n",
            "0.8341353263728124 6\n",
            "0.8449402603433699 7\n",
            "0.8294775895625321 8\n",
            "0.8278877070689064 9\n"
          ]
        }
      ],
      "source": [
        "for i in range (10):\n",
        "  X_train, X_test, y_train, y_test = train_test_split(X,y, test_size = 0.2)\n",
        "  lr = LinearRegression()\n",
        "  pipe = make_pipeline(column_trans, lr)\n",
        "  pipe.fit(X_train, y_train)\n",
        "  y_predict = pipe.predict(X_test)\n",
        "  print(r2_score(y_test, y_predict), i)"
      ]
    },
    {
      "cell_type": "code",
      "execution_count": 69,
      "metadata": {
        "id": "spMYauZTqPtZ"
      },
      "outputs": [],
      "source": [
        "scores = []\n",
        "for i in range (10):\n",
        "  X_train, X_test, y_train, y_test = train_test_split(X,y, test_size = 0.2, random_state = i)\n",
        "  lr = LinearRegression()\n",
        "  pipe = make_pipeline(column_trans, lr)\n",
        "  pipe.fit(X_train, y_train)\n",
        "  y_predict = pipe.predict(X_test)\n",
        "  scores.append(r2_score(y_test, y_predict))"
      ]
    },
    {
      "cell_type": "code",
      "execution_count": 70,
      "metadata": {
        "colab": {
          "base_uri": "https://localhost:8080/"
        },
        "id": "K--P5CgZpWWT",
        "outputId": "9059d750-038b-4f09-b1b6-dfeadeaf0a5a"
      },
      "outputs": [
        {
          "output_type": "execute_result",
          "data": {
            "text/plain": [
              "1"
            ]
          },
          "metadata": {},
          "execution_count": 70
        }
      ],
      "source": [
        "np.argmax(scores)"
      ]
    },
    {
      "cell_type": "code",
      "execution_count": 71,
      "metadata": {
        "colab": {
          "base_uri": "https://localhost:8080/"
        },
        "id": "kFW7KEdTp67G",
        "outputId": "7359075a-39ff-46bb-b236-74ddfb413424"
      },
      "outputs": [
        {
          "output_type": "execute_result",
          "data": {
            "text/plain": [
              "0.8475526484881433"
            ]
          },
          "metadata": {},
          "execution_count": 71
        }
      ],
      "source": [
        "scores[np.argmax(scores)]"
      ]
    },
    {
      "cell_type": "code",
      "execution_count": 72,
      "metadata": {
        "colab": {
          "base_uri": "https://localhost:8080/"
        },
        "id": "uf60oebcrEBN",
        "outputId": "3926a7e5-fb12-4cf8-febf-dc1d43b8e94a"
      },
      "outputs": [
        {
          "output_type": "execute_result",
          "data": {
            "text/plain": [
              "0.8475526484881433"
            ]
          },
          "metadata": {},
          "execution_count": 72
        }
      ],
      "source": [
        "X_train, X_test, y_train, y_test = train_test_split(X,y, test_size = 0.2, random_state = np.argmax(scores))\n",
        "lr = LinearRegression()\n",
        "pipe = make_pipeline(column_trans, lr)\n",
        "pipe.fit(X_train, y_train)\n",
        "y_predict = pipe.predict(X_test)\n",
        "r2_score(y_test, y_predict)"
      ]
    },
    {
      "cell_type": "code",
      "execution_count": 73,
      "metadata": {
        "colab": {
          "base_uri": "https://localhost:8080/"
        },
        "id": "woB2Ki6csFi-",
        "outputId": "7ea8cfa4-90a6-44c7-f4f5-694c054f6f8d"
      },
      "outputs": [
        {
          "output_type": "stream",
          "name": "stdout",
          "text": [
            "Collecting pickle-mixin\n",
            "  Downloading pickle-mixin-1.0.2.tar.gz (5.1 kB)\n",
            "  Preparing metadata (setup.py) ... \u001b[?25l\u001b[?25hdone\n",
            "Building wheels for collected packages: pickle-mixin\n",
            "  Building wheel for pickle-mixin (setup.py) ... \u001b[?25l\u001b[?25hdone\n",
            "  Created wheel for pickle-mixin: filename=pickle_mixin-1.0.2-py3-none-any.whl size=5991 sha256=283f3b3825ed0eff0acac0d5ac9072f7f6b0193ee7cca22150ce58811a181417\n",
            "  Stored in directory: /root/.cache/pip/wheels/3e/c6/e9/d1b0a34e1efc6c3ec9c086623972c6de6317faddb2af0a619c\n",
            "Successfully built pickle-mixin\n",
            "Installing collected packages: pickle-mixin\n",
            "Successfully installed pickle-mixin-1.0.2\n"
          ]
        }
      ],
      "source": [
        "!pip install pickle-mixin\n",
        "import pickle"
      ]
    },
    {
      "cell_type": "code",
      "execution_count": 74,
      "metadata": {
        "id": "2r_TnNz6sbde"
      },
      "outputs": [],
      "source": [
        "pickle.dump(pipe, open('LinearRegressionModel.pk1','wb'))"
      ]
    },
    {
      "cell_type": "code",
      "execution_count": 75,
      "metadata": {
        "colab": {
          "base_uri": "https://localhost:8080/"
        },
        "id": "tD5_k5LE11Mj",
        "outputId": "725b6114-862a-421a-afbf-037379491759"
      },
      "outputs": [
        {
          "output_type": "execute_result",
          "data": {
            "text/plain": [
              "array([4536581.66245484])"
            ]
          },
          "metadata": {},
          "execution_count": 75
        }
      ],
      "source": [
        "pipe.predict(pd.DataFrame([['Toyota Yaris','Toyota',2021,1000,1300,'Petrol','Automatic']], columns = ['name','company','year','kms_driven', 'vehicle_engine', 'fuel_type', 'vehicle_type']))\n"
      ]
    },
    {
      "cell_type": "markdown",
      "source": [
        "# **Conclusion**\n",
        "\"In summary, our data analysis journey has provided valuable insights into the factors influencing vehicle prices. We started by preprocessing the dataset, cleaning and refining it to ensure data accuracy. During exploratory data analysis (EDA), we identified significant variations in car prices across different vehicle types and fuel categories. Furthermore, we removed outliers to enhance the dataset's reliability.\n",
        "\n",
        "We also conducted a comparative analysis between old and new car data, revealing notable differences in pricing trends. For instance, our analysis highlighted a significant price discrepancy between the two datasets, emphasizing the impact of vehicle age on pricing.\n",
        "\n",
        "To delve deeper into predictive modeling, we applied regression algorithms. Our Linear Regression model achieved a commendable R-squared score of 0.803, indicating its effectiveness in explaining price variations based on selected features.\n",
        "\n",
        "In conclusion, our analysis has shed light on critical factors driving vehicle prices, providing valuable insights for decision-makers in the automotive industry. These findings can inform pricing strategies, market positioning, and inventory management, ultimately contributing to informed business decisions.\""
      ],
      "metadata": {
        "id": "UglpQ-4rNdiI"
      }
    }
  ],
  "metadata": {
    "colab": {
      "provenance": []
    },
    "kernelspec": {
      "display_name": "Python 3",
      "name": "python3"
    },
    "language_info": {
      "name": "python"
    }
  },
  "nbformat": 4,
  "nbformat_minor": 0
}